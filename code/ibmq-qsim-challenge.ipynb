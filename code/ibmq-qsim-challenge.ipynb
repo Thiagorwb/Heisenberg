{
 "cells": [
  {
   "cell_type": "markdown",
   "metadata": {},
   "source": [
    "# 1 Introduction\n",
    "\n",
    "### 1-1 Quantum Simulation\n",
    "One of the leading uses for quantum computers will be to simulate quantum systems such as molecules or engineered materials. Actually executing a quantum simulation on a current quantum computer, however, can be difficult and error prone. Your objective for this Open Science Prize is to significantly improve the state-of-the-art for quantum simulation (details in Section 2).\n",
    "\n",
    "The quantum system you will simulate is a quantum spin-1/2 model, where each qubit represents a quantum [spin-1/2](https://en.wikipedia.org/wiki/Spin-1/2) particle in a 1D chain. Quantum spin models have some amazing properties and uses. Computationally speaking, [certain optimization problems can be mapped](https://arxiv.org/pdf/1712.05771.pdf) to spin models and hence minimized on a quantum computer. Physically speaking, spin models show a variety of quantum behavior such as large entangled states, quantum phases of matter, quantum many-body affects, and many other open questions in physics research.\n",
    "\n",
    "There are many different spin models, but we will focus on the [$XXX$ Heisenberg spin model](https://en.wikipedia.org/wiki/Quantum_Heisenberg_model#XXX_model). Though it is not as well known as the [transverse-field Ising model](https://en.wikipedia.org/wiki/Transverse-field_Ising_model), the $XXX$ Heisenberg model is of practical and theoretical interest. It can also be difficult to simulate, which is where you come in.\n",
    "\n",
    "The notebook is organized as follows:\n",
    "1) Section 1 (labeled 1-X) provides you with brief introductions to the $XXX$ Heisenberg model, time evolving a Hamiltonian, and decomposing a time evolution operator into gates for a quantum computer to execute.\n",
    "2) Section 2 (labeled 2-X) outlines the specific requirements and boundaries associated with completing and competing in the Open Science Prize. Continuing from Section 1, the notebook showns an example solution."
   ]
  },
  {
   "cell_type": "code",
   "execution_count": 1,
   "metadata": {},
   "outputs": [],
   "source": [
    "import qiskit"
   ]
  },
  {
   "cell_type": "code",
   "execution_count": 2,
   "metadata": {},
   "outputs": [
    {
     "data": {
      "text/plain": [
       "'0.19.1'"
      ]
     },
     "execution_count": 2,
     "metadata": {},
     "output_type": "execute_result"
    }
   ],
   "source": [
    "qiskit.__version__"
   ]
  },
  {
   "cell_type": "code",
   "execution_count": 3,
   "metadata": {},
   "outputs": [],
   "source": [
    "import numpy as np\n",
    "import matplotlib.pyplot as plt\n",
    "plt.rcParams.update({'font.size': 16})  # enlarge matplotlib fonts\n",
    "\n",
    "# Suppress warnings\n",
    "import warnings\n",
    "warnings.filterwarnings('ignore')\n",
    "\n",
    "# Import qubit states Zero (|0>) and One (|1>), and Pauli operators (X, Y, Z)\n",
    "from qiskit.opflow import Zero, One, I, X, Y, Z"
   ]
  },
  {
   "cell_type": "markdown",
   "metadata": {},
   "source": [
    "### 1-2 The $XXX$ Heisenberg Spin Model\n",
    "\n",
    "To simulate a quantum system, we first need to define how the quantum particles that make up the system interact with each other. In quantum physics, this is done by defining a [Hamiltonian operator](https://en.wikipedia.org/wiki/Hamiltonian_(quantum_mechanics)). For this Open Science Prize, you will work with the $XXX$ Heisenberg Hamiltonian $H_{\\text{Heis}}$ as defined below\n",
    "\n",
    "$$\n",
    "\\begin{equation}\n",
    "H_{\\text{Heis}} = \\sum_{\\langle ij \\rangle}^{N} J \\left(\\sigma_x^{(i)}\\sigma_x^{(j)} + \\sigma_y^{(i)}\\sigma_y^{(j)} + \\sigma_z^{(i)}\\sigma_z^{(j)}\\right).\n",
    "\\end{equation}\n",
    "$$\n",
    "\n",
    "$N$ is the number of spin-1/2 particles in model. The operators $\\sigma_x$, $\\sigma_y$, and $\\sigma_z$ are [Pauli operators](https://en.wikipedia.org/wiki/Pauli_matrices) where the $i$ and $j$ superscripts label which qubit they act on. For example, $\\sigma_x^{(1)}$ would be the $\\sigma_x$ operator acting on only qubit 1 (which is the 2nd qubit since indexing starts at 0). This version of the general Heisenberg spin model is called $XXX$ because the same $J$ value multiplies each pair of Pauli operators. The sum notation $\\langle ij \\rangle$ means the sum is over nearest neighbors (only qubits next to each other interact), and $J$ is the interaction strength, which we will set $J=1$.\n",
    "\n",
    "You will work with the explicit case of $N=3$ with the 3 spins arranged in a line. Written out fully, the Hamiltonian is\n",
    "$$\n",
    "H_{\\text{Heis3}} = \\sigma_x^{(0)}\\sigma_x^{(1)} + \\sigma_x^{(1)}\\sigma_x^{(2)} + \\sigma_y^{(0)}\\sigma_y^{(1)} + \\sigma_y^{(1)}\\sigma_y^{(2)} + \\sigma_z^{(0)}\\sigma_z^{(1)} + \\sigma_z^{(1)}\\sigma_z^{(2)}.\n",
    "$$\n",
    "Now that we have a Hamiltonian ($H_{\\text{Heis3}}$), we can use it to determine how the quantum system of 3 spin-1/2 particles changes in time.\n",
    "\n",
    "*See the supplementary material for further details on $H_{\\text{Heis}}$, $H_{\\text{Heis3}}$ and its matrix repsentation.*"
   ]
  },
  {
   "cell_type": "code",
   "execution_count": 4,
   "metadata": {},
   "outputs": [],
   "source": [
    "# Returns the matrix representation of the XXX Heisenberg model for 3 spin-1/2 particles in a line\n",
    "def H_heis3():\n",
    "    # Interactions (I is the identity matrix; X, Y, and Z are Pauli matricies; ^ is a tensor product)\n",
    "    XXs = (I^X^X) + (X^X^I)\n",
    "    YYs = (I^Y^Y) + (Y^Y^I)\n",
    "    ZZs = (I^Z^Z) + (Z^Z^I)\n",
    "    \n",
    "    # Sum interactions\n",
    "    H = XXs + YYs + ZZs\n",
    "    \n",
    "    # Return Hamiltonian\n",
    "    return H"
   ]
  },
  {
   "cell_type": "markdown",
   "metadata": {},
   "source": [
    "### 1-3 Time Evolution\n",
    "\n",
    "Knowing the Hamiltonian, we can determine how quantum states of that system evolve in time by solving the [Schrödinger equation](https://en.wikipedia.org/wiki/Schrödinger_equation)\n",
    "$$\n",
    "i\\hbar \\dfrac{d}{dt}|\\psi(t)\\rangle = H |\\psi(t)\\rangle\n",
    "$$\n",
    "\n",
    "For simplicity, let's set $\\hbar = 1$. We know that the Hamiltonian $H_{\\text{heis3}}$ does not change in time, so the solution to the Schrödinger equation is an exponential of the Hamiltonian operator\n",
    "$$\n",
    "\\begin{align}\n",
    "U_{\\text{Heis3}}(t) &= e^{-it H_\\text{Heis3}} = \\exp\\left(-it H_\\text{Heis3}\\right) \\\\\n",
    "U_{\\text{Heis3}}(t) &= \\exp\\left[-it \\sum_{\\langle ij \\rangle}^{N=3} \\left(\\sigma_x^{(i)}\\sigma_x^{(j)} + \\sigma_y^{(i)}\\sigma_y^{(j)} + \\sigma_z^{(i)}\\sigma_z^{(j)}\\right) \\right] \\\\\n",
    "U_{\\text{Heis3}}(t) &= \\exp\\left[-it \\left(\\sigma_x^{(0)}\\sigma_x^{(1)} + \\sigma_x^{(1)}\\sigma_x^{(2)} + \\sigma_y^{(0)}\\sigma_y^{(1)} + \\sigma_y^{(1)}\\sigma_y^{(2)} + \\sigma_z^{(0)}\\sigma_z^{(1)} + \\sigma_z^{(1)}\\sigma_z^{(2)}\\right) \\right]\n",
    "\\end{align}\n",
    "$$.\n",
    "\n",
    "Now that we have the time evolution operator $U_{\\text{Heis3}}(t)$, we can simulate changes in a state of the system ($|\\psi(t)\\rangle$) over time $|\\psi(t)\\rangle = U_{\\text{Heis3}}(t)|\\psi(t=0)\\rangle$. \n",
    "\n",
    "*See the supplementary material for more information on exponentiating an operator or matrix.*"
   ]
  },
  {
   "cell_type": "code",
   "execution_count": 5,
   "metadata": {},
   "outputs": [],
   "source": [
    "# Returns the matrix representation of U_heis3(t) for a given time t assuming an XXX Heisenberg Hamiltonian for 3 spins-1/2 particles in a line\n",
    "def U_heis3(t):\n",
    "    # Compute XXX Hamiltonian for 3 spins in a line\n",
    "    H = H_heis3()\n",
    "    \n",
    "    # Return the exponential of -i multipled by time t multipled by the 3 spin XXX Heisenberg Hamilonian \n",
    "    return (t * H).exp_i()"
   ]
  },
  {
   "cell_type": "markdown",
   "metadata": {},
   "source": [
    "### 1-4 Classical Simulation of $H_{\\text{Heis3}}$\n",
    "\n",
    "Now that we have the operator $U_{\\text{Heis3}}(t)$ which describes how any state of the quantum system changes in time, we can simulate the $XXX$ Heisenberg spin model! Just for fun, let's simulate the system using a classical computer first.\n",
    "\n",
    "(Fun fact: Notice the size of $U_{\\text{Heis3}}(t)$ in matrix form. It's representated by an $8$x$8$ matrix. This is because there are $2^3=8$ states in the $N=3$ system. If the simulation were of $50$ particles ($N=50$), $U_{\\text{Heis}}(t)$ would be approximately $10^{15}$x$10^{15}$! Well beyond the capacity of today's computers.)"
   ]
  },
  {
   "cell_type": "code",
   "execution_count": 6,
   "metadata": {},
   "outputs": [
    {
     "data": {
      "image/png": "[encoded data removed]",
      "text/plain": [
       "<Figure size 432x288 with 1 Axes>"
      ]
     },
     "metadata": {
      "needs_background": "light"
     },
     "output_type": "display_data"
    }
   ],
   "source": [
    "# Define array of time points\n",
    "ts = np.linspace(0, np.pi, 100)\n",
    "\n",
    "# Define initial state |110>\n",
    "initial_state = One^One^Zero\n",
    "\n",
    "# Compute probability of remaining in |110> state over the array of time points\n",
    " # ~initial_state gives the bra of the initial state (<110|)\n",
    " # @ is short hand for matrix multiplication\n",
    " # U_heis3(t) is the unitary time evolution at time t\n",
    " # t needs to be wrapped with float(t) to avoid a bug\n",
    " # (...).eval() returns the inner product <110|U_heis3(t)|110>\n",
    " #  np.abs(...)**2 is the modulus squared of the innner product which is the expectation value, or probability, of remaining in |110>\n",
    "probs_110 = [np.abs((~initial_state @ U_heis3(float(t)) @ initial_state).eval())**2 for t in ts]\n",
    "\n",
    "# Plot evolution of |110>\n",
    "plt.plot(ts, probs_110)\n",
    "plt.xlabel('time')\n",
    "plt.ylabel(r'probability of state $|110\\rangle$')\n",
    "plt.title(r'Evolution of state $|110\\rangle$ under $H_{Heis3}$')\n",
    "plt.grid()\n",
    "plt.show()"
   ]
  },
  {
   "cell_type": "markdown",
   "metadata": {},
   "source": [
    "### 1-5 Decomposition of $U_{\\text{Heis3}}(t)$ Into Quantum Gates\n",
    "\n",
    "To execute $U_{\\text{Heis3}}(t)$ on a [circuit model](https://qiskit.org/documentation/apidoc/circuit.html) quantum computer, we must decompose $U_{\\text{Heis3}}(t)$ into a product of single and two-qubit gates that are native to that quantum computer. There are a [variety of techniques](https://en.wikipedia.org/wiki/Hamiltonian_simulation) to do this. For this Open Science Prize, you will only use [Trotterization](https://en.wikipedia.org/wiki/Hamiltonian_simulation#Product_Formulas) (which is sometimes refered to as Suzuki-Trotterization decomposition, Trotter formulas, product formulas, and other names).\n",
    "\n",
    "Below, we show an example Trotterization as outlined in \\[1-2\\].\n",
    "\n",
    "Since the [Pauli operators do not commute](https://en.wikipedia.org/wiki/Pauli_matrices#Commutation_relations) with each other, the exponential $U_{\\text{Heis3}}(t)$ cannot be split into a product of simpler exponentials. However, we can approximate $U_{\\text{Heis3}}(t)$ as a product of simpler exponentials through Trotterization. Consider a subsystem of 2 spin-1/2 particles within the larger 3 spin system. The Hamiltonian on spins $i$ and $j$ ($i,j \\in \\{0,1,2\\}$) would be $H^{(i,j)}_{\\text{Heis2}} = \\sigma_x^{(i)}\\sigma_x^{(j)} + \\sigma_y^{(i)}\\sigma_y^{(j)} + \\sigma_z^{(i)}\\sigma_z^{(j)}$. Rewritting $U_{\\text{Heis3}}(t)$ in terms of the two possible subsystems within the total $N=3$ system you will simulate,\n",
    "\n",
    "$$\n",
    "U_{\\text{Heis3}}(t) = \\exp\\left[-i t \\left(H^{(0,1)}_{\\text{Heis2}} + H^{(1,2)}_{\\text{Heis2}} \\right)\\right].\n",
    "$$\n",
    "\n",
    "$H^{(0,1)}_{\\text{Heis2}}$ and $H^{(1,2)}_{\\text{Heis2}}$ do not commute, so $U_{\\text{Heis3}}(t) \\neq \\exp\\left(-i t H^{(0,1)}_{\\text{Heis2}}\\right) \\exp\\left(-i t H^{(1,2)}_{\\text{Heis2}} \\right)$. But, this product decomposition can be approximated with Trotterization which says $U_{\\text{Heis3}}(t)$ is approximately a short evolution of $H^{(0,1)}_{\\text{Heis2}}$ (time = $t/n$) and followed by a short evolution of $H^{(1,2)}_{\\text{Heis2}}$ (time = $t/n$) repeated $n$ times\n",
    "\n",
    "$$\n",
    "\\begin{align}\n",
    "U_{\\text{Heis3}}(t) &= \\exp\\left[-i t \\left(H^{(0,1)}_{\\text{Heis2}} + H^{(1,2)}_{\\text{Heis2}} \\right)\\right] \\\\\n",
    "U_{\\text{Heis3}}(t) &\\approx \\left[\\exp\\left(\\dfrac{-it}{n}H^{(0,1)}_{\\text{Heis2}}\\right) \\exp\\left(\\dfrac{-it}{n}H^{(1,2)}_{\\text{Heis2}} \\right)\\right]^n.\n",
    "\\end{align}\n",
    "$$\n",
    "\n",
    "$n$ is the number of Trotter steps, and as $n$ increases, the approximation becomes more accurate. (Note that how a untiary is split up into subsystems for Trotterization is not necessarily unique.) The decomposition goes further. Within each 2 spin subsystems, the Pauli operator pairs ($\\sigma_x^{(i)}\\sigma_x^{(j)}$, $\\sigma_y^{(i)}\\sigma_y^{(j)}$, and $\\sigma_z^{(i)}\\sigma_z^{(j)}$) commute. This means we can decompose the exponential of a subsystem Hamiltonian ($H^{(i,j)}_{\\text{Heis2}}$) into a product of even simpler exponentials getting us closer to a gate implementation of $U_{\\text{Heis3}}(t)$\n",
    "\n",
    "$$\n",
    "\\begin{align}\n",
    "U_{\\text{Heis3}}(t) &\\approx \\left[\\exp\\left(\\dfrac{-it}{n}H^{(0,1)}_{\\text{Heis2}}\\right) \\exp\\left(\\dfrac{-it}{n}H^{(1,2)}_{\\text{Heis2}} \\right)\\right]^n \\\\\n",
    "U_{\\text{Heis3}}(t) &\\approx \\left[\\exp\\left(\\dfrac{-it}{n}\\left(\\sigma_x^{(0)}\\sigma_x^{(1)} + \\sigma_y^{(0)}\\sigma_y^{(1)} + \\sigma_z^{(0)}\\sigma_z^{(1)}\\right)\\right) \\exp\\left(\\dfrac{-it}{n}\\left(\\sigma_x^{(1)}\\sigma_x^{(2)} + \\sigma_y^{(1)}\\sigma_y^{(2)} + \\sigma_z^{(1)}\\sigma_z^{(2)}\\right)\\right)\\right]^{n} \\\\\n",
    "U_{\\text{Heis3}}(t) &\\approx \\left[\\exp\\left(\\dfrac{-it}{n}\\sigma_x^{(0)}\\sigma_x^{(1)}\\right) \\exp\\left(\\dfrac{-it}{n}\\sigma_y^{(0)}\\sigma_y^{(1)}\\right) \\exp\\left(\\dfrac{-it}{n}\\sigma_z^{(0)}\\sigma_z^{(1)}\\right) \\exp\\left(\\dfrac{-it}{n}\\sigma_x^{(1)}\\sigma_x^{(2)}\\right) \\exp\\left(\\dfrac{-it}{n}\\sigma_y^{(1)}\\sigma_y^{(2)}\\right) \\exp\\left(\\dfrac{-it}{n}\\sigma_z^{(1)}\\sigma_z^{(2)}\\right)\\right]^{n}\n",
    "\\end{align}\n",
    "$$\n",
    "\n",
    "For simplicity, and to use more common notation, let's rename the products with $XX(2t) = \\exp\\left(-it \\sigma_x\\sigma_x\\right)$, $YY(2t) = \\exp\\left(-it \\sigma_y\\sigma_y\\right)$, and $ZZ(2t) = \\exp\\left(-it \\sigma_z\\sigma_z\\right)$ and rewrite the Trotterized $U_{\\text{Heis3}}(t)$\n",
    "$$\n",
    "U_{\\text{Heis3}}(t) \\approx \\left[XX\\left(\\frac{2t}{n}\\right)^{(0,1)} YY\\left(\\frac{2t}{n}\\right)^{(0,1)} ZZ\\left(\\frac{2t}{n}\\right)^{(0,1)} XX\\left(\\frac{2t}{n}\\right)^{(1,2)} YY\\left(\\frac{2t}{n}\\right)^{(1,2)} ZZ\\left(\\frac{2t}{n}\\right)^{(1,2)} \\right]^{n}\n",
    "$$\n",
    "And that's it! We have now approximately decomposed $U_{\\text{Heis3}}(t)$ into two-qubit gates $XX(t)$, $YY(t)$, and $ZZ(t)$. These gates are not native to superconducting qubits, but in Section 2, they will be further decomposed into native single and two-qubit gates with *further details found in the supplementary material.*\n",
    "\n",
    "\n",
    "\\[1\\] Y. Salathe, et al., *Digital Quantum Simulation of Spin Models with Circuit Quantum Electrodynamics*, [Phys. Rev. X **5**, 021027 (2015)](https://link.aps.org/doi/10.1103/PhysRevX.5.021027)\n",
    "\n",
    "\\[2\\] F. Tacchino, et al., *Quantum Computers as Universal Quantum Simulators: State-of-the-Art and Perspectives*, [Adv. Quantum Technol. *3* 3 (2020)](https://doi.org/10.1002/qute.201900052) \\[[free arxiv version](https://arxiv.org/abs/1907.03505)\\]\n"
   ]
  },
  {
   "cell_type": "markdown",
   "metadata": {},
   "source": [
    "# 2 The Open Science Prize\n",
    "### 2-1 Contest Details\n",
    "The Open Science Prize requirements and judging criteria can be found in the terms and conditions when registering on the [website](https://ibmquantumawards.bemyapp.com/#/event). Below is an outline of those requirements.\n",
    "\n",
    "You are to time evolve the state $|110\\rangle$ to time $t=\\pi$ under the $XXX$ Heisenberg model Hamiltonian $H_{\\text{heis3}}$ as defined in Section 1. This will be done on the ibmq_jakarta quantum computer. From left to right, the qubits in $|110\\rangle$ correspond to ibmq_jakarta's qubits 5, 3, and 1. The evolution must be done using Trotterization with at least 4 steps ($n\\geq4$). You will be judged on the clarity, originiality, and creativity of your solution, as well as the fidelity of the evolved state at time $t=\\pi$ using [state tomography](https://qiskit.org/documentation/tutorials/noise/8_tomography.html). State tomography is a way of determining the exact quantum state--even phase information--at the end of a quantum circuit by running the circuit multiple times and measuring in different bases. The closer your final quantum state to the expected state, the higher the fidelity. Ibmq_jakarta's qubits 0, 2, 4, and 6 will not be evaluated by the state tomography calculation, so you may use them as you wish. You do not need to follow the same decomposition given in the example above, but your solution must be a Trotterization of $U_{\\text{heis3}}(t)$ with at least 4 steps ($n\\geq4$). You may find it useful to implement techniques that reduce errors and improve qubit coherence."
   ]
  },
  {
   "cell_type": "markdown",
   "metadata": {},
   "source": [
    "### 2-2 Import Qiskit\n",
    "\n",
    "Feel free to import packages as needed. However, only free packages and those obtained through ```pip install``` or ```conda install``` are allowed."
   ]
  },
  {
   "cell_type": "code",
   "execution_count": 7,
   "metadata": {},
   "outputs": [],
   "source": [
    "# Importing standard Qiskit modules\n",
    "from qiskit import QuantumCircuit, QuantumRegister, IBMQ, execute, transpile\n",
    "from qiskit.providers.aer import QasmSimulator\n",
    "from qiskit.tools.monitor import job_monitor\n",
    "from qiskit.circuit import Parameter\n",
    "\n",
    "# Import state tomography modules\n",
    "from qiskit.ignis.verification.tomography import state_tomography_circuits, StateTomographyFitter\n",
    "from qiskit.quantum_info import state_fidelity\n",
    "\n",
    "# suppress warnings\n",
    "import warnings\n",
    "warnings.filterwarnings('ignore')"
   ]
  },
  {
   "cell_type": "markdown",
   "metadata": {},
   "source": [
    "### 2-3 Quantum Devices\n",
    "Connect to IBM provider and connect to a real or simulated backend. Final submissions must be run on a real backend, but simulated devices are faster for debugging and testing."
   ]
  },
  {
   "cell_type": "code",
   "execution_count": 8,
   "metadata": {},
   "outputs": [],
   "source": [
    "token= 'ef3ee5bd3cab82979843b277a58dfa58ab87596723ca7c6170d0e605fde009d258b97356074715a00eda06636c62f5f37ebbc4f9fb2d983e0859e1420edad50a'"
   ]
  },
  {
   "cell_type": "code",
   "execution_count": 21,
   "metadata": {
    "scrolled": true
   },
   "outputs": [
    {
     "name": "stdout",
     "output_type": "stream",
     "text": [
      "{'token': 'ef3ee5bd3cab82979843b277a58dfa58ab87596723ca7c6170d0e605fde009d258b97356074715a00eda06636c62f5f37ebbc4f9fb2d983e0859e1420edad50a', 'url': 'https://auth.quantum-computing.ibm.com/api'}\n"
     ]
    }
   ],
   "source": [
    "print(IBMQ.stored_account())"
   ]
  },
  {
   "cell_type": "code",
   "execution_count": 22,
   "metadata": {},
   "outputs": [],
   "source": [
    "IBMQ.active_account()"
   ]
  },
  {
   "cell_type": "code",
   "execution_count": 23,
   "metadata": {},
   "outputs": [
    {
     "name": "stdout",
     "output_type": "stream",
     "text": [
      "Found 1 credentials.\n",
      "No credentials available for updating could be found. No action will be performed.\n",
      "Warnings:\n",
      "The stored account with url \"https://auth.quantum-computing.ibm.com/api\" is already an IBM Q Experience v2 account.\n"
     ]
    }
   ],
   "source": [
    "IBMQ.update_account()"
   ]
  },
  {
   "cell_type": "code",
   "execution_count": 26,
   "metadata": {},
   "outputs": [
    {
     "data": {
      "text/plain": [
       "<AccountProvider for IBMQ(hub='ibm-q', group='open', project='main')>"
      ]
     },
     "execution_count": 26,
     "metadata": {},
     "output_type": "execute_result"
    }
   ],
   "source": [
    "IBMQ.load_account()"
   ]
  },
  {
   "cell_type": "code",
   "execution_count": 35,
   "metadata": {},
   "outputs": [],
   "source": [
    "provider = IBMQ.get_provider(hub='ibm-q', group='open', project='main')"
   ]
  },
  {
   "cell_type": "code",
   "execution_count": 34,
   "metadata": {},
   "outputs": [
    {
     "ename": "IBMQProviderError",
     "evalue": "'No provider matches the specified criteria: hub = ibm-q-community, group = ibmquantumawards, project = open-science-22'",
     "output_type": "error",
     "traceback": [
      "\u001b[0;31m---------------------------------------------------------------------------\u001b[0m",
      "\u001b[0;31mIBMQProviderError\u001b[0m                         Traceback (most recent call last)",
      "\u001b[0;32m<ipython-input-34-f67df14abc1d>\u001b[0m in \u001b[0;36m<module>\u001b[0;34m\u001b[0m\n\u001b[0;32m----> 1\u001b[0;31m \u001b[0mprovider\u001b[0m \u001b[0;34m=\u001b[0m \u001b[0mIBMQ\u001b[0m\u001b[0;34m.\u001b[0m\u001b[0mget_provider\u001b[0m\u001b[0;34m(\u001b[0m\u001b[0mhub\u001b[0m\u001b[0;34m=\u001b[0m\u001b[0;34m'ibm-q-community'\u001b[0m\u001b[0;34m,\u001b[0m \u001b[0mgroup\u001b[0m\u001b[0;34m=\u001b[0m\u001b[0;34m'ibmquantumawards'\u001b[0m\u001b[0;34m,\u001b[0m \u001b[0mproject\u001b[0m\u001b[0;34m=\u001b[0m\u001b[0;34m'open-science-22'\u001b[0m\u001b[0;34m)\u001b[0m\u001b[0;34m\u001b[0m\u001b[0;34m\u001b[0m\u001b[0m\n\u001b[0m",
      "\u001b[0;32m/Library/Frameworks/Python.framework/Versions/3.7/lib/python3.7/site-packages/qiskit/providers/ibmq/ibmqfactory.py\u001b[0m in \u001b[0;36mget_provider\u001b[0;34m(self, hub, group, project)\u001b[0m\n\u001b[1;32m    423\u001b[0m             raise IBMQProviderError('No provider matches the specified criteria: '\n\u001b[1;32m    424\u001b[0m                                     \u001b[0;34m'hub = {}, group = {}, project = {}'\u001b[0m\u001b[0;34m\u001b[0m\u001b[0;34m\u001b[0m\u001b[0m\n\u001b[0;32m--> 425\u001b[0;31m                                     .format(hub, group, project))\n\u001b[0m\u001b[1;32m    426\u001b[0m         \u001b[0;32mif\u001b[0m \u001b[0mlen\u001b[0m\u001b[0;34m(\u001b[0m\u001b[0mproviders\u001b[0m\u001b[0;34m)\u001b[0m \u001b[0;34m>\u001b[0m \u001b[0;36m1\u001b[0m\u001b[0;34m:\u001b[0m\u001b[0;34m\u001b[0m\u001b[0;34m\u001b[0m\u001b[0m\n\u001b[1;32m    427\u001b[0m             raise IBMQProviderError('More than one provider matches the specified criteria.'\n",
      "\u001b[0;31mIBMQProviderError\u001b[0m: 'No provider matches the specified criteria: hub = ibm-q-community, group = ibmquantumawards, project = open-science-22'"
     ]
    }
   ],
   "source": [
    "provider = IBMQ.get_provider(hub='ibm-q-community', group='ibmquantumawards', project='open-science-22')"
   ]
  },
  {
   "cell_type": "code",
   "execution_count": 32,
   "metadata": {},
   "outputs": [],
   "source": [
    "available_cloud_backends = provider.backends() "
   ]
  },
  {
   "cell_type": "code",
   "execution_count": 33,
   "metadata": {},
   "outputs": [
    {
     "name": "stdout",
     "output_type": "stream",
     "text": [
      "\n",
      "Here is the list of cloud backends that are available to you:\n",
      "ibmq_qasm_simulator\n",
      "ibmq_armonk\n",
      "ibmq_santiago\n",
      "ibmq_bogota\n",
      "ibmq_lima\n",
      "ibmq_belem\n",
      "ibmq_quito\n",
      "simulator_statevector\n",
      "simulator_mps\n",
      "simulator_extended_stabilizer\n",
      "simulator_stabilizer\n",
      "ibmq_manila\n"
     ]
    }
   ],
   "source": [
    "print('\\nHere is the list of cloud backends that are available to you:')\n",
    "for i in available_cloud_backends: print(i)"
   ]
  },
  {
   "cell_type": "code",
   "execution_count": 37,
   "metadata": {},
   "outputs": [],
   "source": [
    "# Get backend for experiment\n",
    "#provider = IBMQ.get_provider(hub='ibm-q-community', group='ibmquantumawards', project='open-science-22')\n",
    "#jakarta = provider.get_backend('ibmq_jakarta')\n",
    "\n",
    "# properties = jakarta.properties()\n",
    "\n",
    "# Simulated backend based on ibmq_jakarta's device noise profile\n",
    "#sim_noisy_jakarta = QasmSimulator.from_backend(provider.get_backend('ibmq_jakarta'))\n",
    "\n",
    "# Noiseless simulated backend\n",
    "sim = QasmSimulator()"
   ]
  },
  {
   "cell_type": "markdown",
   "metadata": {},
   "source": [
    "### 2-4 Decomposition of $U_{\\text{Heis3}}(t)$ into Quantum Gates (Example)\n",
    "\n",
    "The following circuit code is written based on the example given in Section 1. This is where you write your solution."
   ]
  },
  {
   "cell_type": "markdown",
   "metadata": {},
   "source": [
    "YOUR TROTTERIZATION GOES HERE -- START (beginning of example)"
   ]
  },
  {
   "cell_type": "code",
   "execution_count": 1,
   "metadata": {},
   "outputs": [
    {
     "ename": "NameError",
     "evalue": "name 'Parameter' is not defined",
     "output_type": "error",
     "traceback": [
      "\u001b[0;31m---------------------------------------------------------------------------\u001b[0m",
      "\u001b[0;31mNameError\u001b[0m                                 Traceback (most recent call last)",
      "\u001b[0;32m<ipython-input-1-58d5a97830ea>\u001b[0m in \u001b[0;36m<module>\u001b[0;34m\u001b[0m\n\u001b[1;32m      1\u001b[0m \u001b[0;31m# Parameterize variable t to be evaluated at t=pi later\u001b[0m\u001b[0;34m\u001b[0m\u001b[0;34m\u001b[0m\u001b[0;34m\u001b[0m\u001b[0m\n\u001b[0;32m----> 2\u001b[0;31m \u001b[0mt\u001b[0m \u001b[0;34m=\u001b[0m \u001b[0mParameter\u001b[0m\u001b[0;34m(\u001b[0m\u001b[0;34m't'\u001b[0m\u001b[0;34m)\u001b[0m\u001b[0;34m\u001b[0m\u001b[0;34m\u001b[0m\u001b[0m\n\u001b[0m",
      "\u001b[0;31mNameError\u001b[0m: name 'Parameter' is not defined"
     ]
    }
   ],
   "source": [
    "# Parameterize variable t to be evaluated at t=pi later\n",
    "t = Parameter('t')"
   ]
  },
  {
   "cell_type": "code",
   "execution_count": 2,
   "metadata": {},
   "outputs": [
    {
     "ename": "NameError",
     "evalue": "name 'QuantumRegister' is not defined",
     "output_type": "error",
     "traceback": [
      "\u001b[0;31m---------------------------------------------------------------------------\u001b[0m",
      "\u001b[0;31mNameError\u001b[0m                                 Traceback (most recent call last)",
      "\u001b[0;32m<ipython-input-2-63afcc14a155>\u001b[0m in \u001b[0;36m<module>\u001b[0;34m\u001b[0m\n\u001b[1;32m      1\u001b[0m \u001b[0;31m# Build a subcircuit for XX(t) two-qubit gate\u001b[0m\u001b[0;34m\u001b[0m\u001b[0;34m\u001b[0m\u001b[0;34m\u001b[0m\u001b[0m\n\u001b[0;32m----> 2\u001b[0;31m \u001b[0mXX_qr\u001b[0m \u001b[0;34m=\u001b[0m \u001b[0mQuantumRegister\u001b[0m\u001b[0;34m(\u001b[0m\u001b[0;36m2\u001b[0m\u001b[0;34m)\u001b[0m\u001b[0;34m\u001b[0m\u001b[0;34m\u001b[0m\u001b[0m\n\u001b[0m\u001b[1;32m      3\u001b[0m \u001b[0mXX_qc\u001b[0m \u001b[0;34m=\u001b[0m \u001b[0mQuantumCircuit\u001b[0m\u001b[0;34m(\u001b[0m\u001b[0mXX_qr\u001b[0m\u001b[0;34m,\u001b[0m \u001b[0mname\u001b[0m\u001b[0;34m=\u001b[0m\u001b[0;34m'XX'\u001b[0m\u001b[0;34m)\u001b[0m\u001b[0;34m\u001b[0m\u001b[0;34m\u001b[0m\u001b[0m\n\u001b[1;32m      4\u001b[0m \u001b[0;34m\u001b[0m\u001b[0m\n\u001b[1;32m      5\u001b[0m \u001b[0mXX_qc\u001b[0m\u001b[0;34m.\u001b[0m\u001b[0mry\u001b[0m\u001b[0;34m(\u001b[0m\u001b[0mnp\u001b[0m\u001b[0;34m.\u001b[0m\u001b[0mpi\u001b[0m\u001b[0;34m/\u001b[0m\u001b[0;36m2\u001b[0m\u001b[0;34m,\u001b[0m\u001b[0;34m[\u001b[0m\u001b[0;36m0\u001b[0m\u001b[0;34m,\u001b[0m\u001b[0;36m1\u001b[0m\u001b[0;34m]\u001b[0m\u001b[0;34m)\u001b[0m\u001b[0;34m\u001b[0m\u001b[0;34m\u001b[0m\u001b[0m\n",
      "\u001b[0;31mNameError\u001b[0m: name 'QuantumRegister' is not defined"
     ]
    }
   ],
   "source": [
    "# Build a subcircuit for XX(t) two-qubit gate\n",
    "XX_qr = QuantumRegister(2)\n",
    "XX_qc = QuantumCircuit(XX_qr, name='XX')\n",
    "\n",
    "XX_qc.ry(np.pi/2,[0,1])\n",
    "XX_qc.cnot(0,1)\n",
    "XX_qc.rz(2 * t, 1)\n",
    "XX_qc.cnot(0,1)\n",
    "XX_qc.ry(-np.pi/2,[0,1])\n",
    "\n",
    "# Convert custom quantum circuit into a gate\n",
    "XX = XX_qc.to_instruction()"
   ]
  },
  {
   "cell_type": "code",
   "execution_count": 40,
   "metadata": {},
   "outputs": [],
   "source": [
    "# Build a subcircuit for YY(t) two-qubit gate\n",
    "YY_qr = QuantumRegister(2)\n",
    "YY_qc = QuantumCircuit(YY_qr, name='YY')\n",
    "\n",
    "YY_qc.rx(np.pi/2,[0,1])\n",
    "YY_qc.cnot(0,1)\n",
    "YY_qc.rz(2 * t, 1)\n",
    "YY_qc.cnot(0,1)\n",
    "YY_qc.rx(-np.pi/2,[0,1])\n",
    "\n",
    "# Convert custom quantum circuit into a gate\n",
    "YY = YY_qc.to_instruction()"
   ]
  },
  {
   "cell_type": "code",
   "execution_count": 41,
   "metadata": {},
   "outputs": [],
   "source": [
    "# Build a subcircuit for ZZ(t) two-qubit gate\n",
    "ZZ_qr = QuantumRegister(2)\n",
    "ZZ_qc = QuantumCircuit(ZZ_qr, name='ZZ')\n",
    "\n",
    "ZZ_qc.cnot(0,1)\n",
    "ZZ_qc.rz(2 * t, 1)\n",
    "ZZ_qc.cnot(0,1)\n",
    "\n",
    "# Convert custom quantum circuit into a gate\n",
    "ZZ = ZZ_qc.to_instruction()"
   ]
  },
  {
   "cell_type": "markdown",
   "metadata": {},
   "source": [
    "Combine subcircuits into single gate representing one ($n=1$) trotter step."
   ]
  },
  {
   "cell_type": "code",
   "execution_count": 42,
   "metadata": {},
   "outputs": [],
   "source": [
    "# Combine subcircuits into a single multiqubit gate representing a single trotter step\n",
    "num_qubits = 3\n",
    "\n",
    "Trot_qr = QuantumRegister(num_qubits)\n",
    "Trot_qc = QuantumCircuit(Trot_qr, name='Trot')\n",
    "\n",
    "for i in range(0, num_qubits - 1):\n",
    "    Trot_qc.append(ZZ, [Trot_qr[i], Trot_qr[i+1]])\n",
    "    Trot_qc.append(YY, [Trot_qr[i], Trot_qr[i+1]])\n",
    "    Trot_qc.append(XX, [Trot_qr[i], Trot_qr[i+1]])\n",
    "\n",
    "# Convert custom quantum circuit into a gate\n",
    "Trot_gate = Trot_qc.to_instruction()"
   ]
  },
  {
   "cell_type": "markdown",
   "metadata": {},
   "source": [
    "YOUR TROTTERIZATION GOES HERE -- FINISH (end of example)"
   ]
  },
  {
   "cell_type": "markdown",
   "metadata": {},
   "source": [
    "### 2-5 Trotterized Time Evolution\n",
    "\n",
    "Time evolve the state $|110\\rangle$ from $\\theta=0$ to $\\theta=\\pi$ under $H_{\\text{heis3}}$. Although jakarta has 7 qubits, only the qubits 1, 3, and 5 will be used for the state $|110\\rangle$. From left to right, the qubits in $|110\\rangle$ corresponds to the qubits 5, 3, and 1 on jakarta. State tomography will evaluate how well the quantum simulation matches to the expected state at $\\theta= \\pi$. (Note qubits 0, 2, 4, and 6 are not part of the state tomography calculation.)\n",
    "\n",
    "You choose how many trotter steps (```trotter_steps```) to take in the simulation, but it must be at least 4. The code below is written to be generic enough for you may add to it if necessary for your solution."
   ]
  },
  {
   "cell_type": "code",
   "execution_count": 54,
   "metadata": {},
   "outputs": [
    {
     "data": {
      "text/html": [
       "<pre style=\"word-wrap: normal;white-space: pre;background: #fff0;line-height: 1.1;font-family: &quot;Courier New&quot;,Courier,monospace\">                                                                       »\n",
       "q6_0: ─────────────────────────────────────────────────────────────────»\n",
       "           ┌─────────────┐┌─────────────┐┌─────────────┐┌─────────────┐»\n",
       "q6_1: ─────┤0            ├┤0            ├┤0            ├┤0            ├»\n",
       "           │             ││             ││             ││             │»\n",
       "q6_2: ─────┤             ├┤             ├┤             ├┤             ├»\n",
       "      ┌───┐│             ││             ││             ││             │»\n",
       "q6_3: ┤ X ├┤1 Trot(π/30) ├┤1 Trot(π/30) ├┤1 Trot(π/30) ├┤1 Trot(π/30) ├»\n",
       "      └───┘│             ││             ││             ││             │»\n",
       "q6_4: ─────┤             ├┤             ├┤             ├┤             ├»\n",
       "      ┌───┐│             ││             ││             ││             │»\n",
       "q6_5: ┤ X ├┤2            ├┤2            ├┤2            ├┤2            ├»\n",
       "      └───┘└─────────────┘└─────────────┘└─────────────┘└─────────────┘»\n",
       "q6_6: ─────────────────────────────────────────────────────────────────»\n",
       "                                                                       »\n",
       "c2: 3/═════════════════════════════════════════════════════════════════»\n",
       "                                                                       »\n",
       "«                                                                  »\n",
       "«q6_0: ────────────────────────────────────────────────────────────»\n",
       "«      ┌─────────────┐┌─────────────┐┌─────────────┐┌─────────────┐»\n",
       "«q6_1: ┤0            ├┤0            ├┤0            ├┤0            ├»\n",
       "«      │             ││             ││             ││             │»\n",
       "«q6_2: ┤             ├┤             ├┤             ├┤             ├»\n",
       "«      │             ││             ││             ││             │»\n",
       "«q6_3: ┤1 Trot(π/30) ├┤1 Trot(π/30) ├┤1 Trot(π/30) ├┤1 Trot(π/30) ├»\n",
       "«      │             ││             ││             ││             │»\n",
       "«q6_4: ┤             ├┤             ├┤             ├┤             ├»\n",
       "«      │             ││             ││             ││             │»\n",
       "«q6_5: ┤2            ├┤2            ├┤2            ├┤2            ├»\n",
       "«      └─────────────┘└─────────────┘└─────────────┘└─────────────┘»\n",
       "«q6_6: ────────────────────────────────────────────────────────────»\n",
       "«                                                                  »\n",
       "«c2: 3/════════════════════════════════════════════════════════════»\n",
       "«                                                                  »\n",
       "«                                                                  »\n",
       "«q6_0: ────────────────────────────────────────────────────────────»\n",
       "«      ┌─────────────┐┌─────────────┐┌─────────────┐┌─────────────┐»\n",
       "«q6_1: ┤0            ├┤0            ├┤0            ├┤0            ├»\n",
       "«      │             ││             ││             ││             │»\n",
       "«q6_2: ┤             ├┤             ├┤             ├┤             ├»\n",
       "«      │             ││             ││             ││             │»\n",
       "«q6_3: ┤1 Trot(π/30) ├┤1 Trot(π/30) ├┤1 Trot(π/30) ├┤1 Trot(π/30) ├»\n",
       "«      │             ││             ││             ││             │»\n",
       "«q6_4: ┤             ├┤             ├┤             ├┤             ├»\n",
       "«      │             ││             ││             ││             │»\n",
       "«q6_5: ┤2            ├┤2            ├┤2            ├┤2            ├»\n",
       "«      └─────────────┘└─────────────┘└─────────────┘└─────────────┘»\n",
       "«q6_6: ────────────────────────────────────────────────────────────»\n",
       "«                                                                  »\n",
       "«c2: 3/════════════════════════════════════════════════════════════»\n",
       "«                                                                  »\n",
       "«                                                                  »\n",
       "«q6_0: ────────────────────────────────────────────────────────────»\n",
       "«      ┌─────────────┐┌─────────────┐┌─────────────┐┌─────────────┐»\n",
       "«q6_1: ┤0            ├┤0            ├┤0            ├┤0            ├»\n",
       "«      │             ││             ││             ││             │»\n",
       "«q6_2: ┤             ├┤             ├┤             ├┤             ├»\n",
       "«      │             ││             ││             ││             │»\n",
       "«q6_3: ┤1 Trot(π/30) ├┤1 Trot(π/30) ├┤1 Trot(π/30) ├┤1 Trot(π/30) ├»\n",
       "«      │             ││             ││             ││             │»\n",
       "«q6_4: ┤             ├┤             ├┤             ├┤             ├»\n",
       "«      │             ││             ││             ││             │»\n",
       "«q6_5: ┤2            ├┤2            ├┤2            ├┤2            ├»\n",
       "«      └─────────────┘└─────────────┘└─────────────┘└─────────────┘»\n",
       "«q6_6: ────────────────────────────────────────────────────────────»\n",
       "«                                                                  »\n",
       "«c2: 3/════════════════════════════════════════════════════════════»\n",
       "«                                                                  »\n",
       "«                                                                  »\n",
       "«q6_0: ────────────────────────────────────────────────────────────»\n",
       "«      ┌─────────────┐┌─────────────┐┌─────────────┐┌─────────────┐»\n",
       "«q6_1: ┤0            ├┤0            ├┤0            ├┤0            ├»\n",
       "«      │             ││             ││             ││             │»\n",
       "«q6_2: ┤             ├┤             ├┤             ├┤             ├»\n",
       "«      │             ││             ││             ││             │»\n",
       "«q6_3: ┤1 Trot(π/30) ├┤1 Trot(π/30) ├┤1 Trot(π/30) ├┤1 Trot(π/30) ├»\n",
       "«      │             ││             ││             ││             │»\n",
       "«q6_4: ┤             ├┤             ├┤             ├┤             ├»\n",
       "«      │             ││             ││             ││             │»\n",
       "«q6_5: ┤2            ├┤2            ├┤2            ├┤2            ├»\n",
       "«      └─────────────┘└─────────────┘└─────────────┘└─────────────┘»\n",
       "«q6_6: ────────────────────────────────────────────────────────────»\n",
       "«                                                                  »\n",
       "«c2: 3/════════════════════════════════════════════════════════════»\n",
       "«                                                                  »\n",
       "«                                                                  »\n",
       "«q6_0: ────────────────────────────────────────────────────────────»\n",
       "«      ┌─────────────┐┌─────────────┐┌─────────────┐┌─────────────┐»\n",
       "«q6_1: ┤0            ├┤0            ├┤0            ├┤0            ├»\n",
       "«      │             ││             ││             ││             │»\n",
       "«q6_2: ┤             ├┤             ├┤             ├┤             ├»\n",
       "«      │             ││             ││             ││             │»\n",
       "«q6_3: ┤1 Trot(π/30) ├┤1 Trot(π/30) ├┤1 Trot(π/30) ├┤1 Trot(π/30) ├»\n",
       "«      │             ││             ││             ││             │»\n",
       "«q6_4: ┤             ├┤             ├┤             ├┤             ├»\n",
       "«      │             ││             ││             ││             │»\n",
       "«q6_5: ┤2            ├┤2            ├┤2            ├┤2            ├»\n",
       "«      └─────────────┘└─────────────┘└─────────────┘└─────────────┘»\n",
       "«q6_6: ────────────────────────────────────────────────────────────»\n",
       "«                                                                  »\n",
       "«c2: 3/════════════════════════════════════════════════════════════»\n",
       "«                                                                  »\n",
       "«                                                                  »\n",
       "«q6_0: ────────────────────────────────────────────────────────────»\n",
       "«      ┌─────────────┐┌─────────────┐┌─────────────┐┌─────────────┐»\n",
       "«q6_1: ┤0            ├┤0            ├┤0            ├┤0            ├»\n",
       "«      │             ││             ││             ││             │»\n",
       "«q6_2: ┤             ├┤             ├┤             ├┤             ├»\n",
       "«      │             ││             ││             ││             │»\n",
       "«q6_3: ┤1 Trot(π/30) ├┤1 Trot(π/30) ├┤1 Trot(π/30) ├┤1 Trot(π/30) ├»\n",
       "«      │             ││             ││             ││             │»\n",
       "«q6_4: ┤             ├┤             ├┤             ├┤             ├»\n",
       "«      │             ││             ││             ││             │»\n",
       "«q6_5: ┤2            ├┤2            ├┤2            ├┤2            ├»\n",
       "«      └─────────────┘└─────────────┘└─────────────┘└─────────────┘»\n",
       "«q6_6: ────────────────────────────────────────────────────────────»\n",
       "«                                                                  »\n",
       "«c2: 3/════════════════════════════════════════════════════════════»\n",
       "«                                                                  »\n",
       "«                                     ░          \n",
       "«q6_0: ───────────────────────────────░──────────\n",
       "«      ┌─────────────┐┌─────────────┐ ░ ┌─┐      \n",
       "«q6_1: ┤0            ├┤0            ├─░─┤M├──────\n",
       "«      │             ││             │ ░ └╥┘      \n",
       "«q6_2: ┤             ├┤             ├─░──╫───────\n",
       "«      │             ││             │ ░  ║ ┌─┐   \n",
       "«q6_3: ┤1 Trot(π/30) ├┤1 Trot(π/30) ├─░──╫─┤M├───\n",
       "«      │             ││             │ ░  ║ └╥┘   \n",
       "«q6_4: ┤             ├┤             ├─░──╫──╫────\n",
       "«      │             ││             │ ░  ║  ║ ┌─┐\n",
       "«q6_5: ┤2            ├┤2            ├─░──╫──╫─┤M├\n",
       "«      └─────────────┘└─────────────┘ ░  ║  ║ └╥┘\n",
       "«q6_6: ───────────────────────────────░──╫──╫──╫─\n",
       "«                                     ░  ║  ║  ║ \n",
       "«c2: 3/══════════════════════════════════╩══╩══╩═\n",
       "«                                        0  1  2 </pre>"
      ],
      "text/plain": [
       "                                                                       »\n",
       "q6_0: ─────────────────────────────────────────────────────────────────»\n",
       "           ┌─────────────┐┌─────────────┐┌─────────────┐┌─────────────┐»\n",
       "q6_1: ─────┤0            ├┤0            ├┤0            ├┤0            ├»\n",
       "           │             ││             ││             ││             │»\n",
       "q6_2: ─────┤             ├┤             ├┤             ├┤             ├»\n",
       "      ┌───┐│             ││             ││             ││             │»\n",
       "q6_3: ┤ X ├┤1 Trot(π/30) ├┤1 Trot(π/30) ├┤1 Trot(π/30) ├┤1 Trot(π/30) ├»\n",
       "      └───┘│             ││             ││             ││             │»\n",
       "q6_4: ─────┤             ├┤             ├┤             ├┤             ├»\n",
       "      ┌───┐│             ││             ││             ││             │»\n",
       "q6_5: ┤ X ├┤2            ├┤2            ├┤2            ├┤2            ├»\n",
       "      └───┘└─────────────┘└─────────────┘└─────────────┘└─────────────┘»\n",
       "q6_6: ─────────────────────────────────────────────────────────────────»\n",
       "                                                                       »\n",
       "c2: 3/═════════════════════════════════════════════════════════════════»\n",
       "                                                                       »\n",
       "«                                                                  »\n",
       "«q6_0: ────────────────────────────────────────────────────────────»\n",
       "«      ┌─────────────┐┌─────────────┐┌─────────────┐┌─────────────┐»\n",
       "«q6_1: ┤0            ├┤0            ├┤0            ├┤0            ├»\n",
       "«      │             ││             ││             ││             │»\n",
       "«q6_2: ┤             ├┤             ├┤             ├┤             ├»\n",
       "«      │             ││             ││             ││             │»\n",
       "«q6_3: ┤1 Trot(π/30) ├┤1 Trot(π/30) ├┤1 Trot(π/30) ├┤1 Trot(π/30) ├»\n",
       "«      │             ││             ││             ││             │»\n",
       "«q6_4: ┤             ├┤             ├┤             ├┤             ├»\n",
       "«      │             ││             ││             ││             │»\n",
       "«q6_5: ┤2            ├┤2            ├┤2            ├┤2            ├»\n",
       "«      └─────────────┘└─────────────┘└─────────────┘└─────────────┘»\n",
       "«q6_6: ────────────────────────────────────────────────────────────»\n",
       "«                                                                  »\n",
       "«c2: 3/════════════════════════════════════════════════════════════»\n",
       "«                                                                  »\n",
       "«                                                                  »\n",
       "«q6_0: ────────────────────────────────────────────────────────────»\n",
       "«      ┌─────────────┐┌─────────────┐┌─────────────┐┌─────────────┐»\n",
       "«q6_1: ┤0            ├┤0            ├┤0            ├┤0            ├»\n",
       "«      │             ││             ││             ││             │»\n",
       "«q6_2: ┤             ├┤             ├┤             ├┤             ├»\n",
       "«      │             ││             ││             ││             │»\n",
       "«q6_3: ┤1 Trot(π/30) ├┤1 Trot(π/30) ├┤1 Trot(π/30) ├┤1 Trot(π/30) ├»\n",
       "«      │             ││             ││             ││             │»\n",
       "«q6_4: ┤             ├┤             ├┤             ├┤             ├»\n",
       "«      │             ││             ││             ││             │»\n",
       "«q6_5: ┤2            ├┤2            ├┤2            ├┤2            ├»\n",
       "«      └─────────────┘└─────────────┘└─────────────┘└─────────────┘»\n",
       "«q6_6: ────────────────────────────────────────────────────────────»\n",
       "«                                                                  »\n",
       "«c2: 3/════════════════════════════════════════════════════════════»\n",
       "«                                                                  »\n",
       "«                                                                  »\n",
       "«q6_0: ────────────────────────────────────────────────────────────»\n",
       "«      ┌─────────────┐┌─────────────┐┌─────────────┐┌─────────────┐»\n",
       "«q6_1: ┤0            ├┤0            ├┤0            ├┤0            ├»\n",
       "«      │             ││             ││             ││             │»\n",
       "«q6_2: ┤             ├┤             ├┤             ├┤             ├»\n",
       "«      │             ││             ││             ││             │»\n",
       "«q6_3: ┤1 Trot(π/30) ├┤1 Trot(π/30) ├┤1 Trot(π/30) ├┤1 Trot(π/30) ├»\n",
       "«      │             ││             ││             ││             │»\n",
       "«q6_4: ┤             ├┤             ├┤             ├┤             ├»\n",
       "«      │             ││             ││             ││             │»\n",
       "«q6_5: ┤2            ├┤2            ├┤2            ├┤2            ├»\n",
       "«      └─────────────┘└─────────────┘└─────────────┘└─────────────┘»\n",
       "«q6_6: ────────────────────────────────────────────────────────────»\n",
       "«                                                                  »\n",
       "«c2: 3/════════════════════════════════════════════════════════════»\n",
       "«                                                                  »\n",
       "«                                                                  »\n",
       "«q6_0: ────────────────────────────────────────────────────────────»\n",
       "«      ┌─────────────┐┌─────────────┐┌─────────────┐┌─────────────┐»\n",
       "«q6_1: ┤0            ├┤0            ├┤0            ├┤0            ├»\n",
       "«      │             ││             ││             ││             │»\n",
       "«q6_2: ┤             ├┤             ├┤             ├┤             ├»\n",
       "«      │             ││             ││             ││             │»\n",
       "«q6_3: ┤1 Trot(π/30) ├┤1 Trot(π/30) ├┤1 Trot(π/30) ├┤1 Trot(π/30) ├»\n",
       "«      │             ││             ││             ││             │»\n",
       "«q6_4: ┤             ├┤             ├┤             ├┤             ├»\n",
       "«      │             ││             ││             ││             │»\n",
       "«q6_5: ┤2            ├┤2            ├┤2            ├┤2            ├»\n",
       "«      └─────────────┘└─────────────┘└─────────────┘└─────────────┘»\n",
       "«q6_6: ────────────────────────────────────────────────────────────»\n",
       "«                                                                  »\n",
       "«c2: 3/════════════════════════════════════════════════════════════»\n",
       "«                                                                  »\n",
       "«                                                                  »\n",
       "«q6_0: ────────────────────────────────────────────────────────────»\n",
       "«      ┌─────────────┐┌─────────────┐┌─────────────┐┌─────────────┐»\n",
       "«q6_1: ┤0            ├┤0            ├┤0            ├┤0            ├»\n",
       "«      │             ││             ││             ││             │»\n",
       "«q6_2: ┤             ├┤             ├┤             ├┤             ├»\n",
       "«      │             ││             ││             ││             │»\n",
       "«q6_3: ┤1 Trot(π/30) ├┤1 Trot(π/30) ├┤1 Trot(π/30) ├┤1 Trot(π/30) ├»\n",
       "«      │             ││             ││             ││             │»\n",
       "«q6_4: ┤             ├┤             ├┤             ├┤             ├»\n",
       "«      │             ││             ││             ││             │»\n",
       "«q6_5: ┤2            ├┤2            ├┤2            ├┤2            ├»\n",
       "«      └─────────────┘└─────────────┘└─────────────┘└─────────────┘»\n",
       "«q6_6: ────────────────────────────────────────────────────────────»\n",
       "«                                                                  »\n",
       "«c2: 3/════════════════════════════════════════════════════════════»\n",
       "«                                                                  »\n",
       "«                                                                  »\n",
       "«q6_0: ────────────────────────────────────────────────────────────»\n",
       "«      ┌─────────────┐┌─────────────┐┌─────────────┐┌─────────────┐»\n",
       "«q6_1: ┤0            ├┤0            ├┤0            ├┤0            ├»\n",
       "«      │             ││             ││             ││             │»\n",
       "«q6_2: ┤             ├┤             ├┤             ├┤             ├»\n",
       "«      │             ││             ││             ││             │»\n",
       "«q6_3: ┤1 Trot(π/30) ├┤1 Trot(π/30) ├┤1 Trot(π/30) ├┤1 Trot(π/30) ├»\n",
       "«      │             ││             ││             ││             │»\n",
       "«q6_4: ┤             ├┤             ├┤             ├┤             ├»\n",
       "«      │             ││             ││             ││             │»\n",
       "«q6_5: ┤2            ├┤2            ├┤2            ├┤2            ├»\n",
       "«      └─────────────┘└─────────────┘└─────────────┘└─────────────┘»\n",
       "«q6_6: ────────────────────────────────────────────────────────────»\n",
       "«                                                                  »\n",
       "«c2: 3/════════════════════════════════════════════════════════════»\n",
       "«                                                                  »\n",
       "«                                     ░          \n",
       "«q6_0: ───────────────────────────────░──────────\n",
       "«      ┌─────────────┐┌─────────────┐ ░ ┌─┐      \n",
       "«q6_1: ┤0            ├┤0            ├─░─┤M├──────\n",
       "«      │             ││             │ ░ └╥┘      \n",
       "«q6_2: ┤             ├┤             ├─░──╫───────\n",
       "«      │             ││             │ ░  ║ ┌─┐   \n",
       "«q6_3: ┤1 Trot(π/30) ├┤1 Trot(π/30) ├─░──╫─┤M├───\n",
       "«      │             ││             │ ░  ║ └╥┘   \n",
       "«q6_4: ┤             ├┤             ├─░──╫──╫────\n",
       "«      │             ││             │ ░  ║  ║ ┌─┐\n",
       "«q6_5: ┤2            ├┤2            ├─░──╫──╫─┤M├\n",
       "«      └─────────────┘└─────────────┘ ░  ║  ║ └╥┘\n",
       "«q6_6: ───────────────────────────────░──╫──╫──╫─\n",
       "«                                     ░  ║  ║  ║ \n",
       "«c2: 3/══════════════════════════════════╩══╩══╩═\n",
       "«                                        0  1  2 "
      ]
     },
     "execution_count": 54,
     "metadata": {},
     "output_type": "execute_result"
    }
   ],
   "source": [
    "# The final time of the state evolution\n",
    "target_time = np.pi\n",
    "\n",
    "# Number of trotter steps\n",
    "trotter_steps = 30  ### CAN BE >= 4\n",
    "\n",
    "# Initialize quantum circuit for 3 qubits\n",
    "qr = QuantumRegister(7)\n",
    "qc = QuantumCircuit(qr)\n",
    "\n",
    "# Prepare initial state (remember we are only evolving 3 of the 7 qubits on jakarta qubits (q_5, q_3, q_1) corresponding to the state |110>)\n",
    "qc.x([3,5])  # DO NOT MODIFY (|q_5,q_3,q_1> = |110>)\n",
    "\n",
    "# Simulate time evolution under H_heis3 Hamiltonian\n",
    "for _ in range(trotter_steps):\n",
    "    qc.append(Trot_gate, [qr[1], qr[3], qr[5]])\n",
    "\n",
    "# Evaluate simulation at target_time (t=pi) meaning each trotter step evolves pi/trotter_steps in time\n",
    "qc = qc.bind_parameters({t: target_time/trotter_steps})\n",
    "\n",
    "# Generate state tomography circuits to evaluate fidelity of simulation\n",
    "st_qcs = state_tomography_circuits(qc, [qr[1], qr[3], qr[5]])\n",
    "\n",
    "# Display circuit for confirmation\n",
    "# st_qcs[-1].decompose().draw()  # view decomposition of trotter gates\n",
    "st_qcs[-1].draw()  # only view trotter gates"
   ]
  },
  {
   "cell_type": "markdown",
   "metadata": {},
   "source": [
    "### 2-6 Execute\n",
    "For your final submission, you will need to execute your solution on a real backend with 8 repetitions. For faster debugging, considering using a simulated backend and/or 1 repetition."
   ]
  },
  {
   "cell_type": "code",
   "execution_count": 55,
   "metadata": {},
   "outputs": [
    {
     "name": "stdout",
     "output_type": "stream",
     "text": [
      "Job ID e7b3aa96-2ef4-4ff9-98d4-dcc426bea933\n",
      "Job ID 924e6754-c150-4d2a-a537-fad0106d8f15\n",
      "Job ID 3f1eea4b-98bd-426f-ace8-ab7e3ae17a91\n",
      "Job ID 5c450976-abef-4075-aad9-727902440bcc\n",
      "Job ID 2f1de350-9834-4aa1-bfe3-6e9c95def652\n",
      "Job ID 864d9c20-1652-4b92-911c-7525545e79f1\n",
      "Job ID cfa319cb-cfb6-4a95-8fca-31d7e320bf83\n",
      "Job ID 01c49d41-b314-49f7-85a9-0ff7aaeb7398\n"
     ]
    }
   ],
   "source": [
    "shots = 8192\n",
    "reps = 8\n",
    "#backend = sim_noisy_jakarta\n",
    "backend = sim\n",
    "# reps = 8\n",
    "# backend = jakarta\n",
    "\n",
    "jobs = []\n",
    "for _ in range(reps):\n",
    "    # execute\n",
    "    job = execute(st_qcs, backend, shots=shots)\n",
    "    print('Job ID', job.job_id())\n",
    "    jobs.append(job)"
   ]
  },
  {
   "cell_type": "markdown",
   "metadata": {},
   "source": [
    "We can monitor the status of the jobs using Qiskit's job monitoring tools."
   ]
  },
  {
   "cell_type": "code",
   "execution_count": 56,
   "metadata": {},
   "outputs": [
    {
     "name": "stdout",
     "output_type": "stream",
     "text": [
      "Job Status: job has successfully run\n",
      "Job Status: job has successfully run\n",
      "Job Status: job has successfully run\n",
      "Job Status: job has successfully run\n",
      "Job Status: job has successfully run\n",
      "Job Status: job has successfully run\n",
      "Job Status: job has successfully run\n",
      "Job Status: job has successfully run\n"
     ]
    }
   ],
   "source": [
    "for job in jobs:\n",
    "    job_monitor(job)\n",
    "    try:\n",
    "        if job.error_message() is not None:\n",
    "            print(job.error_message())\n",
    "    except:\n",
    "        pass"
   ]
  },
  {
   "cell_type": "markdown",
   "metadata": {},
   "source": [
    "### 2-7 Results Analysis\n",
    "Extract the results for the completed jobs and compute the state tomography fidelity for each repetition. You may choose to include other post-processing analyses here as well."
   ]
  },
  {
   "cell_type": "code",
   "execution_count": 57,
   "metadata": {},
   "outputs": [
    {
     "name": "stdout",
     "output_type": "stream",
     "text": [
      "state tomography fidelity = 0.9958 ± 0.0011\n"
     ]
    }
   ],
   "source": [
    "# Compute the state tomography based on the st_qcs quantum circuits and the results from those ciricuits\n",
    "def state_tomo(result, st_qcs):\n",
    "    # The expected final state; necessary to determine state tomography fidelity\n",
    "    target_state = (One^One^Zero).to_matrix()  # DO NOT MODIFY (|q_5,q_3,q_1> = |110>)\n",
    "    # Fit state tomography results\n",
    "    tomo_fitter = StateTomographyFitter(result, st_qcs)\n",
    "    rho_fit = tomo_fitter.fit(method='lstsq')\n",
    "    # Compute fidelity\n",
    "    fid = state_fidelity(rho_fit, target_state)\n",
    "    return fid\n",
    "\n",
    "# Compute tomography fidelities for each repetition\n",
    "fids = []\n",
    "for job in jobs:\n",
    "    fid = state_tomo(job.result(), st_qcs)\n",
    "    fids.append(fid)\n",
    "    \n",
    "print('state tomography fidelity = {:.4f} \\u00B1 {:.4f}'.format(np.mean(fids), np.std(fids)))"
   ]
  },
  {
   "cell_type": "code",
   "execution_count": 58,
   "metadata": {},
   "outputs": [
    {
     "data": {
      "text/html": [
       "<h3>Version Information</h3><table><tr><th>Qiskit Software</th><th>Version</th></tr><tr><td><code>qiskit-terra</code></td><td>0.19.1</td></tr><tr><td><code>qiskit-aer</code></td><td>0.10.2</td></tr><tr><td><code>qiskit-ignis</code></td><td>0.7.0</td></tr><tr><td><code>qiskit-ibmq-provider</code></td><td>0.18.3</td></tr><tr><td><code>qiskit</code></td><td>0.34.1</td></tr><tr><th>System information</th></tr><tr><td>Python version</td><td>3.7.1</td></tr><tr><td>Python compiler</td><td>Clang 6.0 (clang-600.0.57)</td></tr><tr><td>Python build</td><td>v3.7.1:260ec2c36a, Oct 20 2018 03:13:28</td></tr><tr><td>OS</td><td>Darwin</td></tr><tr><td>CPUs</td><td>4</td></tr><tr><td>Memory (Gb)</td><td>16.0</td></tr><tr><td colspan='2'>Wed Feb 02 19:51:42 2022 PST</td></tr></table>"
      ],
      "text/plain": [
       "<IPython.core.display.HTML object>"
      ]
     },
     "metadata": {},
     "output_type": "display_data"
    }
   ],
   "source": [
    "import qiskit.tools.jupyter\n",
    "%qiskit_version_table"
   ]
  },
  {
   "cell_type": "code",
   "execution_count": null,
   "metadata": {},
   "outputs": [],
   "source": []
  }
 ],
 "metadata": {
  "kernelspec": {
   "display_name": "Python 3",
   "language": "python",
   "name": "python3"
  },
  "language_info": {
   "codemirror_mode": {
    "name": "ipython",
    "version": 3
   },
   "file_extension": ".py",
   "mimetype": "text/x-python",
   "name": "python",
   "nbconvert_exporter": "python",
   "pygments_lexer": "ipython3",
   "version": "3.7.1"
  },
  "toc-autonumbering": false,
  "toc-showcode": false,
  "toc-showmarkdowntxt": false,
  "toc-showtags": false
 },
 "nbformat": 4,
 "nbformat_minor": 5
}
