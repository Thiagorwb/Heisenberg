{
 "cells": [
  {
   "cell_type": "code",
   "execution_count": 1,
   "metadata": {},
   "outputs": [
    {
     "name": "stdout",
     "output_type": "stream",
     "text": [
      "importing Jupyter notebook from libraries.ipynb\n",
      "importing Jupyter notebook from md.ipynb\n",
      "importing Jupyter notebook from gates.ipynb\n"
     ]
    }
   ],
   "source": [
    "import import_ipynb\n",
    "from libraries import *\n",
    "from md import *\n",
    "from gates import *;"
   ]
  },
  {
   "cell_type": "code",
   "execution_count": 2,
   "metadata": {},
   "outputs": [],
   "source": [
    "# IBM code, Returns the matrix representation of the XXX Heisenberg model for 3 spin-1/2 particles in a line\n",
    "def H_heis3():\n",
    "    # Interactions (I is the identity matrix; X, Y, and Z are Pauli matricies; ^ is a tensor product)\n",
    "    XXs = (I^X^X) + (X^X^I)\n",
    "    YYs = (I^Y^Y) + (Y^Y^I)\n",
    "    ZZs = (I^Z^Z) + (Z^Z^I)\n",
    "    \n",
    "    # Sum interactions\n",
    "    H = XXs + YYs + ZZs\n",
    "    \n",
    "    # Return Hamiltonian\n",
    "    return H"
   ]
  },
  {
   "cell_type": "code",
   "execution_count": 3,
   "metadata": {},
   "outputs": [],
   "source": [
    "#IBM code\n",
    "\n",
    "# Returns the matrix representation of U_heis3(t) for a given time t assuming an XXX Heisenberg Hamiltonian for 3 spins-1/2 particles in a line\n",
    "def U_heis3(t):\n",
    "    # Compute XXX Hamiltonian for 3 spins in a line\n",
    "    H = H_heis3()\n",
    "    \n",
    "    # Return the exponential of -i multipled by time t multipled by the 3 spin XXX Heisenberg Hamilonian \n",
    "    return (t * H).exp_i()"
   ]
  },
  {
   "cell_type": "code",
   "execution_count": 4,
   "metadata": {},
   "outputs": [],
   "source": [
    "def H_12():\n",
    "\n",
    "    # Sum interactions\n",
    "    H = (X^X) + (Y^Y) + (Z^Z)\n",
    "    # Return Hamiltonian\n",
    "    return H"
   ]
  },
  {
   "cell_type": "code",
   "execution_count": 5,
   "metadata": {},
   "outputs": [],
   "source": [
    "def U_12(t):\n",
    "    # Compute XXX Hamiltonian for 3 spins in a line\n",
    "    H = H_12()\n",
    "    \n",
    "    # Return the exponential of -i multipled by time t multipled by the 3 spin XXX Heisenberg Hamilonian \n",
    "    return (t * H).exp_i()"
   ]
  },
  {
   "cell_type": "code",
   "execution_count": 6,
   "metadata": {},
   "outputs": [],
   "source": [
    "def Heis(n):\n",
    "    \n",
    "    dim = 2**n\n",
    "    H = np.zeros((dim, dim), dtype=np.complex_)\n",
    "    H12 = H_12().to_matrix()\n",
    "        \n",
    "    for i in range(n - 1):\n",
    "        back = np.identity(2**(n - 2 - i ))\n",
    "        front = np.identity(2**( i))\n",
    "        term = np.kron(front, np.kron(H12, back))\n",
    "        H += term\n",
    "        \n",
    "    return H"
   ]
  },
  {
   "cell_type": "markdown",
   "metadata": {},
   "source": [
    "# Classical Simulation"
   ]
  },
  {
   "cell_type": "code",
   "execution_count": 9,
   "metadata": {},
   "outputs": [],
   "source": [
    "def prepare_state(t):\n",
    "    if t == np.pi:\n",
    "        return (One^One^Zero).to_matrix()\n",
    "    # Define initial state |110>\n",
    "    initial_state = One^One^Zero\n",
    "    print(\"here\", ((U_heis3(float(t)) @ initial_state).eval()))\n",
    "    return ((U_heis3(float(t)) @ initial_state).eval()).to_matrix()"
   ]
  },
  {
   "cell_type": "code",
   "execution_count": 10,
   "metadata": {},
   "outputs": [],
   "source": [
    "def swap_H(n):\n",
    "    swap = Operator(swap_gate()).data\n",
    "    H = np.zeros((2**n, 2**n), dtype=np.complex_)\n",
    "    for i in range(n-1):\n",
    "        front = np.eye(2**(i))\n",
    "        back = np.eye(2**(n - 2 - i))\n",
    "        interaction = 2*swap - np.identity(4)\n",
    "        term =  np.kron(front, np.kron(interaction, back)) \n",
    "        H += term\n",
    "    return H"
   ]
  },
  {
   "cell_type": "code",
   "execution_count": 12,
   "metadata": {},
   "outputs": [],
   "source": [
    "def prepare_system(t = np.pi, num_qubits = 3, input_state = None):\n",
    "\n",
    "    \"\"\"\n",
    "    Function generates the expected quantum state after simulating the n qubit XXX Heisenberg model for time t, on input state |0^n>\n",
    "\n",
    "    Input: \n",
    "    - t, float, the time\n",
    "    - num_qubits, int, the number of qubits\n",
    "    -  input_state, 1D numpy array of length 2**num_qubits, the input state of the time evolution\n",
    "\n",
    "    Output: numpy array of complex floats of size 2**num_qubits = 8, the output vector\n",
    "\n",
    "    \"\"\"\n",
    "\n",
    "    if input_state is None:\n",
    "        input_state = np.zeros(2**num_qubits)\n",
    "        input_state[0] = 1.0\n",
    "\n",
    "    return np.matmul(U_Heis(float(t), num_qubits) , input_state)\n"
   ]
  },
  {
   "cell_type": "code",
   "execution_count": 13,
   "metadata": {},
   "outputs": [],
   "source": [
    "def Heis(n):\n",
    "    \"\"\"\n",
    "    Generates the XXX Hamiltonian for n spins in a line\n",
    "    Input: n,  int,  number of qubits\n",
    "    Output: H,  2**n by 2**n numpy array, the Hamiltonian\n",
    "    \"\"\"\n",
    "    \n",
    "    dim = 2**n\n",
    "    H = np.zeros((dim, dim), dtype=np.complex_)\n",
    "    H12 = H_12().to_matrix()\n",
    "        \n",
    "    for i in range(n - 1):\n",
    "        back = np.identity(2**(n - 2 - i ))\n",
    "        front = np.identity(2**( i))\n",
    "        term = np.kron(front, np.kron(H12, back))\n",
    "        H += term\n",
    "        \n",
    "    return H\n",
    "\n",
    "def U_Heis(t, n):\n",
    "    \"\"\"\n",
    "    Generates the time evolution unitary for the n qubit XXX Heisenberg Hamiltonian\n",
    "\n",
    "    Inputs: \n",
    "    - n,  int,  number of qubits\n",
    "    - t, float, target time\n",
    "\n",
    "    Output:\n",
    "    2^n by 2^n numpy array, the time evolution unitary \n",
    "\n",
    "    \"\"\"\n",
    "\n",
    "    # Compute XXX Hamiltonian for n spins in a line\n",
    "    H = Heis(n)\n",
    "\n",
    "    # Return the exponential of -i multipled by time t multipled by the n spin XXX Heisenberg Hamilonian \n",
    "    return scipy.linalg.expm(- 1j * t * H)"
   ]
  },
  {
   "cell_type": "code",
   "execution_count": null,
   "metadata": {},
   "outputs": [],
   "source": []
  },
  {
   "cell_type": "code",
   "execution_count": null,
   "metadata": {},
   "outputs": [],
   "source": []
  }
 ],
 "metadata": {
  "kernelspec": {
   "display_name": "Python 3",
   "language": "python",
   "name": "python3"
  },
  "language_info": {
   "codemirror_mode": {
    "name": "ipython",
    "version": 3
   },
   "file_extension": ".py",
   "mimetype": "text/x-python",
   "name": "python",
   "nbconvert_exporter": "python",
   "pygments_lexer": "ipython3",
   "version": "3.7.1"
  }
 },
 "nbformat": 4,
 "nbformat_minor": 2
}
