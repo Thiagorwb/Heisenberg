{
 "cells": [
  {
   "cell_type": "code",
   "execution_count": 1,
   "metadata": {},
   "outputs": [
    {
     "name": "stdout",
     "output_type": "stream",
     "text": [
      "importing Jupyter notebook from libraries.ipynb\n"
     ]
    }
   ],
   "source": [
    "# Import qubit states Zero (|0>) and One (|1>), and Pauli operators (X, Y, Z)\n",
    "import import_ipynb\n",
    "from libraries import *"
   ]
  },
  {
   "cell_type": "markdown",
   "metadata": {},
   "source": [
    " # Matrix Decomposition Code"
   ]
  },
  {
   "cell_type": "code",
   "execution_count": 2,
   "metadata": {},
   "outputs": [],
   "source": [
    "def matrix_decomposition(M, num_qubits = 3):\n",
    "    \n",
    "    paulis = [I, X, Y, Z]\n",
    "    letters = ['I', \"X\", \"Y\", \"Z\"]\n",
    "    coefficients = []\n",
    "    \n",
    "    for A, a in zip(paulis, letters):\n",
    "        for B, b in zip(paulis, letters):\n",
    "            for C, c in zip(paulis, letters):\n",
    "                \n",
    "                cf = np.trace(np.matmul((A^B^C).to_matrix(), M)) /(2**num_qubits)\n",
    "                coefficients.append([[a, b, c], cf])\n",
    "                    \n",
    "    return coefficients"
   ]
  },
  {
   "cell_type": "code",
   "execution_count": 3,
   "metadata": {},
   "outputs": [],
   "source": [
    "def coef_to_operator(coefficients,  num_qubits = 3):\n",
    "    \n",
    "    pauli_sum = Operator(np.zeros((2**num_qubits, 2**num_qubits)))\n",
    "    \n",
    "    for letters, cf in coefficients:\n",
    "        label = \"\".join(letters)\n",
    "        pauli = Operator(Pauli(label = label)) \n",
    "        pauli_sum += pauli * cf \n",
    "        \n",
    "    return pauli_sum"
   ]
  },
  {
   "cell_type": "code",
   "execution_count": 4,
   "metadata": {},
   "outputs": [],
   "source": [
    "def diagonalize(M):\n",
    "    \n",
    "    d, V = np.linalg.eig(M)\n",
    "    \n",
    "    return V, d"
   ]
  },
  {
   "cell_type": "code",
   "execution_count": 5,
   "metadata": {},
   "outputs": [],
   "source": [
    "def is_unitary(m):\n",
    "    return np.allclose(np.eye(len(m)), m.dot(m.T.conj()))"
   ]
  },
  {
   "cell_type": "code",
   "execution_count": 6,
   "metadata": {},
   "outputs": [],
   "source": [
    "def schur_decomposition(U):\n",
    "    \n",
    "    D, Z = linalg.schur(U, output = 'complex')\n",
    "    return Z, D"
   ]
  },
  {
   "cell_type": "code",
   "execution_count": 7,
   "metadata": {},
   "outputs": [
    {
     "data": {
      "text/plain": [
       "(array([[1.+0.j, 0.+0.j],\n",
       "        [0.+0.j, 1.+0.j]]), array([[ 1.+0.j,  0.+0.j],\n",
       "        [ 0.+0.j, -1.+0.j]]))"
      ]
     },
     "execution_count": 7,
     "metadata": {},
     "output_type": "execute_result"
    }
   ],
   "source": [
    "schur_decomposition([[1, 0], [0, -1]])"
   ]
  },
  {
   "cell_type": "code",
   "execution_count": null,
   "metadata": {},
   "outputs": [],
   "source": []
  },
  {
   "cell_type": "code",
   "execution_count": null,
   "metadata": {},
   "outputs": [],
   "source": []
  },
  {
   "cell_type": "code",
   "execution_count": null,
   "metadata": {},
   "outputs": [],
   "source": []
  }
 ],
 "metadata": {
  "kernelspec": {
   "display_name": "Python 3",
   "language": "python",
   "name": "python3"
  },
  "language_info": {
   "codemirror_mode": {
    "name": "ipython",
    "version": 3
   },
   "file_extension": ".py",
   "mimetype": "text/x-python",
   "name": "python",
   "nbconvert_exporter": "python",
   "pygments_lexer": "ipython3",
   "version": "3.7.1"
  }
 },
 "nbformat": 4,
 "nbformat_minor": 2
}
