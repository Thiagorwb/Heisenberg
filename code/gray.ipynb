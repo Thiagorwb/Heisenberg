{
 "cells": [
  {
   "cell_type": "markdown",
   "metadata": {},
   "source": [
    "# Gray Code Functions"
   ]
  },
  {
   "cell_type": "code",
   "execution_count": 3,
   "metadata": {},
   "outputs": [],
   "source": [
    "import numpy as np"
   ]
  },
  {
   "cell_type": "code",
   "execution_count": 4,
   "metadata": {},
   "outputs": [],
   "source": [
    "def gray_code(num):\n",
    "    shift = (num >> 1)\n",
    "    return (shift ^ num)"
   ]
  },
  {
   "cell_type": "code",
   "execution_count": 5,
   "metadata": {},
   "outputs": [],
   "source": [
    "def gray_index(num):\n",
    "    \n",
    "    return int(np.log2((gray_code(num) ^ gray_code(num + 1))))"
   ]
  },
  {
   "cell_type": "code",
   "execution_count": 15,
   "metadata": {},
   "outputs": [
    {
     "data": {
      "text/plain": [
       "1.0"
      ]
     },
     "execution_count": 15,
     "metadata": {},
     "output_type": "execute_result"
    }
   ],
   "source": [
    "num = 9\n",
    "\n",
    "np.log2((gray_code(num) ^ gray_code(num + 1)))"
   ]
  },
  {
   "cell_type": "code",
   "execution_count": 6,
   "metadata": {},
   "outputs": [],
   "source": [
    "def setBitNumber(n):\n",
    "    if (n == 0):\n",
    "        return 0;\n",
    " \n",
    "    msb = 0;\n",
    "    n = int(n / 2);\n",
    " \n",
    "    while (n > 0):\n",
    "        n = int(n / 2);\n",
    "        msb += 1;\n",
    " \n",
    "    return (1 << msb);"
   ]
  },
  {
   "cell_type": "code",
   "execution_count": 7,
   "metadata": {},
   "outputs": [],
   "source": [
    "def gray(i):\n",
    "    return int(np.log2(setBitNumber(GrayToBinary(gray_index(i)))))"
   ]
  },
  {
   "cell_type": "code",
   "execution_count": 8,
   "metadata": {},
   "outputs": [],
   "source": [
    "def GrayToBinary(gray_num):\n",
    "\n",
    "    mask = gray_num\n",
    "    while (mask):           \n",
    "        mask >>= 1;\n",
    "        gray_num ^= mask;\n",
    "    \n",
    "    return gray_num\n"
   ]
  },
  {
   "cell_type": "code",
   "execution_count": 9,
   "metadata": {},
   "outputs": [],
   "source": [
    "def binary(num, num_bits):\n",
    "    # returns array of bools corresponding to num\n",
    "    mask = num\n",
    "    bins = []\n",
    "    while mask > 0:\n",
    "        rem = mask % 2\n",
    "        bins.append(rem)\n",
    "        mask = mask//2\n",
    "        \n",
    "    nbits = len(bins)\n",
    "    bins = np.array(bins)\n",
    "    if nbits <= num_bits:\n",
    "        pad = np.zeros((num_bits - nbits))\n",
    "        bins = np.concatenate((bins, pad))\n",
    "    else:\n",
    "        bins = bins[:num_bits]\n",
    "\n",
    "    return bins"
   ]
  },
  {
   "cell_type": "code",
   "execution_count": null,
   "metadata": {},
   "outputs": [],
   "source": []
  }
 ],
 "metadata": {
  "kernelspec": {
   "display_name": "Python 3",
   "language": "python",
   "name": "python3"
  },
  "language_info": {
   "codemirror_mode": {
    "name": "ipython",
    "version": 3
   },
   "file_extension": ".py",
   "mimetype": "text/x-python",
   "name": "python",
   "nbconvert_exporter": "python",
   "pygments_lexer": "ipython3",
   "version": "3.7.1"
  }
 },
 "nbformat": 4,
 "nbformat_minor": 2
}
