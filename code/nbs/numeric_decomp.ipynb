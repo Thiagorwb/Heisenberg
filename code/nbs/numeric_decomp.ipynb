{
 "cells": [
  {
   "cell_type": "code",
   "execution_count": 1,
   "metadata": {},
   "outputs": [],
   "source": [
    "import qiskit\n",
    "import numpy as np\n",
    "import matplotlib.pyplot as plt\n",
    "%matplotlib inline\n",
    "plt.rcParams.update({'font.size': 16})  # enlarge matplotlib fonts\n",
    "\n",
    "# Suppress warnings\n",
    "import warnings\n",
    "warnings.filterwarnings('ignore')\n",
    "\n",
    "# Import qubit states Zero (|0>) and One (|1>), and Pauli operators (X, Y, Z)\n",
    "from qiskit.opflow import Zero, One, I, X, Y, Z"
   ]
  },
  {
   "cell_type": "code",
   "execution_count": 2,
   "metadata": {},
   "outputs": [],
   "source": [
    "import numpy as np\n",
    "import matplotlib.pyplot as plt\n",
    "from numpy import linalg as LA\n",
    "%matplotlib inline\n",
    "plt.rcParams.update({'font.size': 16})  # enlarge matplotlib fonts\n",
    "\n",
    "# Suppress warnings\n",
    "import warnings\n",
    "warnings.filterwarnings('ignore')\n",
    "\n",
    "# Import qubit states Zero (|0>) and One (|1>), and Pauli operators (X, Y, Z)\n",
    "from qiskit.opflow import Zero, One, I, X, Y, Z\n"
   ]
  },
  {
   "cell_type": "code",
   "execution_count": 3,
   "metadata": {},
   "outputs": [],
   "source": [
    "# Importing standard Qiskit modules\n",
    "from qiskit import QuantumCircuit, QuantumRegister, IBMQ, execute, transpile\n",
    "from qiskit.providers.aer import QasmSimulator\n",
    "from qiskit.tools.monitor import job_monitor\n",
    "from qiskit.circuit import Parameter\n",
    "\n",
    "# Import state tomography modules\n",
    "from qiskit.ignis.verification.tomography import state_tomography_circuits, StateTomographyFitter\n",
    "from qiskit.quantum_info import state_fidelity\n",
    "\n",
    "# suppress warnings\n",
    "import warnings\n",
    "warnings.filterwarnings('ignore')"
   ]
  },
  {
   "cell_type": "code",
   "execution_count": 4,
   "metadata": {},
   "outputs": [],
   "source": [
    "import itertools\n"
   ]
  },
  {
   "cell_type": "markdown",
   "metadata": {},
   "source": [
    "# Defining the Hamiltonian"
   ]
  },
  {
   "cell_type": "code",
   "execution_count": 5,
   "metadata": {},
   "outputs": [],
   "source": [
    "def u_t(H, t):\n",
    "    return (t * H).exp_i()"
   ]
  },
  {
   "cell_type": "code",
   "execution_count": 6,
   "metadata": {},
   "outputs": [],
   "source": [
    "# IBM code, Returns the matrix representation of the XXX Heisenberg model for 3 spin-1/2 particles in a line\n",
    "def H_heis3():\n",
    "    # Interactions (I is the identity matrix; X, Y, and Z are Pauli matricies; ^ is a tensor product)\n",
    "    XXs = (I^X^X) + (X^X^I)\n",
    "    YYs = (I^Y^Y) + (Y^Y^I)\n",
    "    ZZs = (I^Z^Z) + (Z^Z^I)\n",
    "    \n",
    "    # Sum interactions\n",
    "    H = XXs + YYs + ZZs\n",
    "    \n",
    "    # Return Hamiltonian\n",
    "    return H"
   ]
  },
  {
   "cell_type": "code",
   "execution_count": 7,
   "metadata": {},
   "outputs": [],
   "source": [
    "def Trotter_matrix(t, trotter_steps):\n",
    "\n",
    "    trotter_matrix = (I^I^I).to_matrix()\n",
    "    t_matrix = (I^I^I).to_matrix()\n",
    "    \n",
    "    for term in terms:\n",
    "        j, i = term[0], int(term[1]) - 1\n",
    "                \n",
    "        if j == 'x':\n",
    "            operator  = X^X\n",
    "        elif j == 'y':\n",
    "            operator  = Y^Y\n",
    "        elif j  == 'z':\n",
    "            operator  = Z^Z\n",
    "            \n",
    "        if i == 0:\n",
    "            operator = (operator^I)\n",
    "        else:\n",
    "            operator = (I^operator)\n",
    "        \n",
    "        u_t_op = u_t(operator, t/trotter_steps).to_matrix()\n",
    "        t_matrix = np.matmul(t_matrix, u_t_op)\n",
    "        \n",
    "    for _ in range(trotter_steps):\n",
    "        trotter_matrix = np.matmul(trotter_matrix, t_matrix)\n",
    "        \n",
    "    return trotter_matrix"
   ]
  },
  {
   "cell_type": "markdown",
   "metadata": {},
   "source": [
    "# Error Norm"
   ]
  },
  {
   "cell_type": "code",
   "execution_count": 8,
   "metadata": {},
   "outputs": [],
   "source": [
    "def error(terms, t, trotter_steps):\n",
    "\n",
    "    trotter_matrix =  Trotter_matrix(t, trotter_steps)\n",
    "    error_matrix = u_t(H_heis3(), t).to_matrix() - trotter_matrix\n",
    "    w, v = LA.eig(error_matrix)\n",
    "    w_abs = np.abs(w)\n",
    "    \n",
    "    return max(w_abs)"
   ]
  },
  {
   "cell_type": "code",
   "execution_count": 9,
   "metadata": {},
   "outputs": [],
   "source": [
    "terms = ['x1', 'y1', 'z1', 'x2', 'y2', 'z2']"
   ]
  },
  {
   "cell_type": "code",
   "execution_count": 10,
   "metadata": {},
   "outputs": [
    {
     "data": {
      "text/plain": [
       "0.5596150062889852"
      ]
     },
     "execution_count": 10,
     "metadata": {},
     "output_type": "execute_result"
    }
   ],
   "source": [
    "error(terms, 1, 3)"
   ]
  },
  {
   "cell_type": "code",
   "execution_count": 11,
   "metadata": {},
   "outputs": [],
   "source": [
    "# enumeration over permutations\n",
    "def find_best_order(t, trotter_steps):\n",
    "\n",
    "    best_perm = terms\n",
    "    min_error = 2\n",
    "    errors = []\n",
    "\n",
    "    for i in itertools.permutations(terms):  \n",
    "        error_i = error(i, t, trotter_steps)\n",
    "        errors.append(error_i)\n",
    "        \n",
    "        if min_error > error_i:\n",
    "            min_error = error_i\n",
    "            best_perm = i\n",
    "            \n",
    "    return best_perm, min_error, errors\n",
    "        "
   ]
  },
  {
   "cell_type": "code",
   "execution_count": null,
   "metadata": {},
   "outputs": [],
   "source": [
    "best_perm, min_error, errors = find_best_order(1, 10)"
   ]
  },
  {
   "cell_type": "code",
   "execution_count": null,
   "metadata": {},
   "outputs": [],
   "source": [
    "best_perm"
   ]
  },
  {
   "cell_type": "code",
   "execution_count": null,
   "metadata": {},
   "outputs": [],
   "source": [
    "min_error"
   ]
  },
  {
   "cell_type": "code",
   "execution_count": null,
   "metadata": {},
   "outputs": [],
   "source": [
    "num_bins = 6\n",
    "n, bins, patches = plt.hist(errors, num_bins, facecolor='blue', alpha=0.5)\n",
    "plt.show()"
   ]
  },
  {
   "cell_type": "code",
   "execution_count": null,
   "metadata": {},
   "outputs": [],
   "source": [
    "errors_naive = [error(terms, 1, n) for n in range(10, 30)]"
   ]
  },
  {
   "cell_type": "code",
   "execution_count": null,
   "metadata": {},
   "outputs": [],
   "source": [
    "plt.scatter(range(10, 30), errors_naive)"
   ]
  },
  {
   "cell_type": "code",
   "execution_count": null,
   "metadata": {},
   "outputs": [],
   "source": [
    "errors_ordered = []\n",
    "best_perms = []\n",
    "for n in range(10, 30):\n",
    "    print('Starting ', n, \" trotterization steps\")\n",
    "    best_perm, min_error, errors = find_best_order(1, n)\n",
    "    best_perms.append(best_perm)\n",
    "\n",
    "    errors_ordered.append(min_error)"
   ]
  },
  {
   "cell_type": "code",
   "execution_count": null,
   "metadata": {},
   "outputs": [],
   "source": [
    "plt.scatter(range(10, 30), errors_ordered, c = 'orange')\n",
    "plt.scatter(range(10, 30), errors_naive)"
   ]
  },
  {
   "cell_type": "code",
   "execution_count": null,
   "metadata": {},
   "outputs": [],
   "source": [
    "best_perms"
   ]
  },
  {
   "cell_type": "code",
   "execution_count": null,
   "metadata": {},
   "outputs": [],
   "source": [
    "theta = np.pi/6\n",
    "\n",
    "qc = QuantumCircuit(2)\n",
    "qc.cx(0, 1)\n",
    "qc.crx(-1 * theta, 1, 0)\n",
    "qc.cx(0, 1)\n",
    "\n",
    "print(qc)"
   ]
  },
  {
   "cell_type": "code",
   "execution_count": null,
   "metadata": {},
   "outputs": [],
   "source": [
    "from qiskit.quantum_info import Operator\n",
    "Operator(qc).data"
   ]
  },
  {
   "cell_type": "code",
   "execution_count": null,
   "metadata": {},
   "outputs": [],
   "source": [
    "qc.decompose()"
   ]
  },
  {
   "cell_type": "code",
   "execution_count": null,
   "metadata": {},
   "outputs": [],
   "source": []
  }
 ],
 "metadata": {
  "kernelspec": {
   "display_name": "Python 3",
   "language": "python",
   "name": "python3"
  },
  "language_info": {
   "codemirror_mode": {
    "name": "ipython",
    "version": 3
   },
   "file_extension": ".py",
   "mimetype": "text/x-python",
   "name": "python",
   "nbconvert_exporter": "python",
   "pygments_lexer": "ipython3",
   "version": "3.7.1"
  }
 },
 "nbformat": 4,
 "nbformat_minor": 2
}
