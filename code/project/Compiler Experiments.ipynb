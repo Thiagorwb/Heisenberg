{
 "cells": [
  {
   "cell_type": "code",
   "execution_count": 1,
   "metadata": {},
   "outputs": [],
   "source": [
    "from package import *"
   ]
  },
  {
   "cell_type": "markdown",
   "metadata": {},
   "source": [
    "# Compiler Experiments"
   ]
  },
  {
   "cell_type": "markdown",
   "metadata": {},
   "source": [
    "## Haar Random Unitaries"
   ]
  },
  {
   "cell_type": "code",
   "execution_count": 22,
   "metadata": {},
   "outputs": [
    {
     "name": "stdout",
     "output_type": "stream",
     "text": [
      "Number of Qubits 2 Number of Gates OrderedDict([('u', 23), ('cx', 3)])\n",
      "Number of Qubits 3 Number of Gates OrderedDict([('u', 92), ('cx', 24), ('u3', 12)])\n",
      "Number of Qubits 4 Number of Gates OrderedDict([('u', 368), ('cx', 120), ('u3', 72)])\n",
      "Number of Qubits 5 Number of Gates OrderedDict([('u', 1472), ('cx', 528), ('u3', 336)])\n"
     ]
    }
   ],
   "source": [
    "# consider the compilation of n-qubit Haar random unitaries\n",
    "max_n = 6\n",
    "\n",
    "for n in range(2, max_n):\n",
    "    dim = 2**n\n",
    "    U = unitary_group.rvs(dim) # generate the random unitary as a 2D numpy array\n",
    "    qc = gen_qsd(U).decompose() # compile x into a circuit, the gen_qsd(Unitary) function\n",
    "    print(\"Number of Qubits\", n,  \"Number of Gates\", qc.count_ops())"
   ]
  },
  {
   "cell_type": "markdown",
   "metadata": {},
   "source": [
    "## Time Evolution Circuit Gate Counts"
   ]
  },
  {
   "cell_type": "code",
   "execution_count": 2,
   "metadata": {},
   "outputs": [],
   "source": [
    "max_order = 6\n",
    "min_steps = 4\n",
    "max_steps = 20"
   ]
  },
  {
   "cell_type": "code",
   "execution_count": 3,
   "metadata": {
    "scrolled": true
   },
   "outputs": [
    {
     "name": "stdout",
     "output_type": "stream",
     "text": [
      "Starting kth order formulas, 2k =  1\n",
      "at number os steps  4 compiled, uncompiled  23 24\n",
      "at number os steps  5 compiled, uncompiled  33 30\n",
      "at number os steps  6 compiled, uncompiled  33 36\n",
      "at number os steps  7 compiled, uncompiled  33 42\n",
      "at number os steps  8 compiled, uncompiled  33 48\n",
      "at number os steps  9 compiled, uncompiled  33 54\n",
      "at number os steps  10 compiled, uncompiled  33 60\n",
      "at number os steps  11 compiled, uncompiled  33 66\n",
      "at number os steps  12 compiled, uncompiled  33 72\n",
      "at number os steps  13 compiled, uncompiled  33 78\n",
      "at number os steps  14 compiled, uncompiled  33 84\n",
      "at number os steps  15 compiled, uncompiled  33 90\n",
      "at number os steps  16 compiled, uncompiled  33 96\n",
      "at number os steps  17 compiled, uncompiled  33 102\n",
      "at number os steps  18 compiled, uncompiled  33 108\n",
      "at number os steps  19 compiled, uncompiled  33 114\n",
      "at number os steps  20 compiled, uncompiled  33 120\n",
      "Starting kth order formulas, 2k =  2\n",
      "at number os steps  4 compiled, uncompiled  33 27\n",
      "at number os steps  5 compiled, uncompiled  33 33\n",
      "at number os steps  6 compiled, uncompiled  33 39\n",
      "at number os steps  7 compiled, uncompiled  33 45\n",
      "at number os steps  8 compiled, uncompiled  33 51\n",
      "at number os steps  9 compiled, uncompiled  33 57\n",
      "at number os steps  10 compiled, uncompiled  33 63\n",
      "at number os steps  11 compiled, uncompiled  33 69\n",
      "at number os steps  12 compiled, uncompiled  33 75\n",
      "at number os steps  13 compiled, uncompiled  33 81\n",
      "at number os steps  14 compiled, uncompiled  33 87\n",
      "at number os steps  15 compiled, uncompiled  33 93\n",
      "at number os steps  16 compiled, uncompiled  33 99\n",
      "at number os steps  17 compiled, uncompiled  33 105\n",
      "at number os steps  18 compiled, uncompiled  33 111\n",
      "at number os steps  19 compiled, uncompiled  33 117\n",
      "at number os steps  20 compiled, uncompiled  33 123\n",
      "Starting kth order formulas, 2k =  4\n",
      "at number os steps  4 compiled, uncompiled  33 123\n",
      "at number os steps  5 compiled, uncompiled  33 153\n",
      "at number os steps  6 compiled, uncompiled  33 183\n",
      "at number os steps  7 compiled, uncompiled  33 213\n",
      "at number os steps  8 compiled, uncompiled  33 243\n",
      "at number os steps  9 compiled, uncompiled  33 273\n",
      "at number os steps  10 compiled, uncompiled  33 303\n",
      "at number os steps  11 compiled, uncompiled  33 333\n",
      "at number os steps  12 compiled, uncompiled  33 363\n",
      "at number os steps  13 compiled, uncompiled  33 393\n",
      "at number os steps  14 compiled, uncompiled  33 423\n",
      "at number os steps  15 compiled, uncompiled  33 453\n",
      "at number os steps  16 compiled, uncompiled  33 483\n",
      "at number os steps  17 compiled, uncompiled  33 513\n",
      "at number os steps  18 compiled, uncompiled  33 543\n",
      "at number os steps  19 compiled, uncompiled  33 573\n",
      "at number os steps  20 compiled, uncompiled  33 603\n",
      "Starting kth order formulas, 2k =  6\n",
      "at number os steps  4 compiled, uncompiled  33 603\n",
      "at number os steps  5 compiled, uncompiled  33 753\n",
      "at number os steps  6 compiled, uncompiled  33 903\n",
      "at number os steps  7 compiled, uncompiled  33 1053\n",
      "at number os steps  8 compiled, uncompiled  33 1203\n",
      "at number os steps  9 compiled, uncompiled  33 1353\n",
      "at number os steps  10 compiled, uncompiled  33 1503\n",
      "at number os steps  11 compiled, uncompiled  33 1653\n",
      "at number os steps  12 compiled, uncompiled  33 1803\n",
      "at number os steps  13 compiled, uncompiled  33 1953\n",
      "at number os steps  14 compiled, uncompiled  33 2103\n",
      "at number os steps  15 compiled, uncompiled  33 2253\n",
      "at number os steps  16 compiled, uncompiled  33 2403\n",
      "at number os steps  17 compiled, uncompiled  33 2553\n",
      "at number os steps  18 compiled, uncompiled  31 2703\n",
      "at number os steps  19 compiled, uncompiled  31 2853\n",
      "at number os steps  20 compiled, uncompiled  31 3003\n"
     ]
    }
   ],
   "source": [
    "c, unc = gate_count_experiment(max_order, min_steps, max_steps, time = np.pi, backend = sim)"
   ]
  },
  {
   "cell_type": "code",
   "execution_count": 19,
   "metadata": {},
   "outputs": [
    {
     "data": {
      "image/png": "[encoded data removed]",
      "text/plain": [
       "<Figure size 432x288 with 1 Axes>"
      ]
     },
     "metadata": {
      "needs_background": "light"
     },
     "output_type": "display_data"
    }
   ],
   "source": [
    "for i in range(max_order//2):\n",
    "    if i == 0:\n",
    "        order = 1\n",
    "    if i > 0:\n",
    "        order = 2*i\n",
    "        \n",
    "    compiled_counts = c[i]\n",
    "    uncompiled_counts = unc[i]\n",
    "    \n",
    "    labelc = \"Compiled, k = \" + str(order)\n",
    "    labelunc = \"Uncompiled, k = \" + str(order)\n",
    "\n",
    "    plt.scatter(range(min_steps, max_steps+1), compiled_counts , label = labelc)\n",
    "    plt.scatter(range(min_steps, max_steps+1), uncompiled_counts , label = labelunc)\n",
    "    \n",
    "    \n",
    "plt.xticks(range(4, 16, 1))\n",
    "plt.xlim([4, 14])\n",
    "plt.ylim([0, 200])\n",
    "\n",
    "plt.xlabel(\"Number of Trotter Steps\")\n",
    "plt.ylabel(\"CNOT count\")\n",
    "plt.title(\"Compilation and Circuit CNOT count\")\n",
    "  \n",
    "plt.legend()\n",
    "plt.show()"
   ]
  },
  {
   "cell_type": "code",
   "execution_count": null,
   "metadata": {},
   "outputs": [],
   "source": []
  }
 ],
 "metadata": {
  "kernelspec": {
   "display_name": "Python 3",
   "language": "python",
   "name": "python3"
  },
  "language_info": {
   "codemirror_mode": {
    "name": "ipython",
    "version": 3
   },
   "file_extension": ".py",
   "mimetype": "text/x-python",
   "name": "python",
   "nbconvert_exporter": "python",
   "pygments_lexer": "ipython3",
   "version": "3.7.1"
  }
 },
 "nbformat": 4,
 "nbformat_minor": 2
}
