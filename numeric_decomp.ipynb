{
 "cells": [
  {
   "cell_type": "code",
   "execution_count": 1,
   "metadata": {},
   "outputs": [],
   "source": [
    "import qiskit\n",
    "import numpy as np\n",
    "import matplotlib.pyplot as plt\n",
    "%matplotlib inline\n",
    "plt.rcParams.update({'font.size': 16})  # enlarge matplotlib fonts\n",
    "\n",
    "# Suppress warnings\n",
    "import warnings\n",
    "warnings.filterwarnings('ignore')\n",
    "\n",
    "# Import qubit states Zero (|0>) and One (|1>), and Pauli operators (X, Y, Z)\n",
    "from qiskit.opflow import Zero, One, I, X, Y, Z"
   ]
  },
  {
   "cell_type": "code",
   "execution_count": 2,
   "metadata": {},
   "outputs": [],
   "source": [
    "import numpy as np\n",
    "import matplotlib.pyplot as plt\n",
    "from numpy import linalg as LA\n",
    "%matplotlib inline\n",
    "plt.rcParams.update({'font.size': 16})  # enlarge matplotlib fonts\n",
    "\n",
    "# Suppress warnings\n",
    "import warnings\n",
    "warnings.filterwarnings('ignore')\n",
    "\n",
    "# Import qubit states Zero (|0>) and One (|1>), and Pauli operators (X, Y, Z)\n",
    "from qiskit.opflow import Zero, One, I, X, Y, Z\n"
   ]
  },
  {
   "cell_type": "code",
   "execution_count": 3,
   "metadata": {},
   "outputs": [],
   "source": [
    "# Importing standard Qiskit modules\n",
    "from qiskit import QuantumCircuit, QuantumRegister, IBMQ, execute, transpile\n",
    "from qiskit.providers.aer import QasmSimulator\n",
    "from qiskit.tools.monitor import job_monitor\n",
    "from qiskit.circuit import Parameter\n",
    "\n",
    "# Import state tomography modules\n",
    "from qiskit.ignis.verification.tomography import state_tomography_circuits, StateTomographyFitter\n",
    "from qiskit.quantum_info import state_fidelity\n",
    "\n",
    "# suppress warnings\n",
    "import warnings\n",
    "warnings.filterwarnings('ignore')"
   ]
  },
  {
   "cell_type": "code",
   "execution_count": 4,
   "metadata": {},
   "outputs": [],
   "source": [
    "import itertools\n"
   ]
  },
  {
   "cell_type": "markdown",
   "metadata": {},
   "source": [
    "# Defining the Hamiltonian"
   ]
  },
  {
   "cell_type": "code",
   "execution_count": 5,
   "metadata": {},
   "outputs": [],
   "source": [
    "def u_t(H, t):\n",
    "    return (t * H).exp_i()"
   ]
  },
  {
   "cell_type": "code",
   "execution_count": 6,
   "metadata": {},
   "outputs": [],
   "source": [
    "# IBM code, Returns the matrix representation of the XXX Heisenberg model for 3 spin-1/2 particles in a line\n",
    "def H_heis3():\n",
    "    # Interactions (I is the identity matrix; X, Y, and Z are Pauli matricies; ^ is a tensor product)\n",
    "    XXs = (I^X^X) + (X^X^I)\n",
    "    YYs = (I^Y^Y) + (Y^Y^I)\n",
    "    ZZs = (I^Z^Z) + (Z^Z^I)\n",
    "    \n",
    "    # Sum interactions\n",
    "    H = XXs + YYs + ZZs\n",
    "    \n",
    "    # Return Hamiltonian\n",
    "    return H"
   ]
  },
  {
   "cell_type": "code",
   "execution_count": 7,
   "metadata": {},
   "outputs": [],
   "source": [
    "def Trotter_matrix(t, trotter_steps):\n",
    "\n",
    "    trotter_matrix = (I^I^I).to_matrix()\n",
    "    t_matrix = (I^I^I).to_matrix()\n",
    "    \n",
    "    for term in terms:\n",
    "        j, i = term[0], int(term[1]) - 1\n",
    "                \n",
    "        if j == 'x':\n",
    "            operator  = X^X\n",
    "        elif j == 'y':\n",
    "            operator  = Y^Y\n",
    "        elif j  == 'z':\n",
    "            operator  = Z^Z\n",
    "            \n",
    "        if i == 0:\n",
    "            operator = (operator^I)\n",
    "        else:\n",
    "            operator = (I^operator)\n",
    "        \n",
    "        u_t_op = u_t(operator, t/trotter_steps).to_matrix()\n",
    "        t_matrix = np.matmul(t_matrix, u_t_op)\n",
    "        \n",
    "    for _ in range(trotter_steps):\n",
    "        trotter_matrix = np.matmul(trotter_matrix, t_matrix)\n",
    "        \n",
    "    return trotter_matrix"
   ]
  },
  {
   "cell_type": "markdown",
   "metadata": {},
   "source": [
    "# Error Norm"
   ]
  },
  {
   "cell_type": "code",
   "execution_count": 125,
   "metadata": {},
   "outputs": [],
   "source": [
    "def error(terms, t, trotter_steps):\n",
    "\n",
    "    trotter_matrix =  Trotter_matrix(t, trotter_steps)\n",
    "    error_matrix = u_t(H_heis3(), t).to_matrix() - trotter_matrix\n",
    "    w, v = LA.eig(error_matrix)\n",
    "    w_abs = np.abs(w)\n",
    "    \n",
    "    return max(w_abs)"
   ]
  },
  {
   "cell_type": "code",
   "execution_count": 169,
   "metadata": {},
   "outputs": [],
   "source": [
    "terms = ['x1', 'y1', 'z1', 'x2', 'y2', 'z2']"
   ]
  },
  {
   "cell_type": "code",
   "execution_count": 127,
   "metadata": {},
   "outputs": [
    {
     "data": {
      "text/plain": [
       "0.5596150062889852"
      ]
     },
     "execution_count": 127,
     "metadata": {},
     "output_type": "execute_result"
    }
   ],
   "source": [
    "error(terms, 1, 3)"
   ]
  },
  {
   "cell_type": "code",
   "execution_count": 170,
   "metadata": {},
   "outputs": [],
   "source": [
    "# enumeration over permutations\n",
    "def find_best_order(t, trotter_steps):\n",
    "\n",
    "    best_perm = terms\n",
    "    min_error = 2\n",
    "    errors = []\n",
    "\n",
    "    for i in itertools.permutations(terms):  \n",
    "        error_i = error(i, t, trotter_steps)\n",
    "        errors.append(error_i)\n",
    "        \n",
    "        if min_error > error_i:\n",
    "            min_error = error_i\n",
    "            best_perm = i\n",
    "            \n",
    "    return best_perm, min_error, errors\n",
    "        "
   ]
  },
  {
   "cell_type": "code",
   "execution_count": 146,
   "metadata": {},
   "outputs": [],
   "source": [
    "best_perm, min_error, errors = find_best_order(1, 10)"
   ]
  },
  {
   "cell_type": "code",
   "execution_count": 147,
   "metadata": {},
   "outputs": [
    {
     "data": {
      "text/plain": [
       "('x1', 'x2', 'y1', 'y2', 'z2', 'z1')"
      ]
     },
     "execution_count": 147,
     "metadata": {},
     "output_type": "execute_result"
    }
   ],
   "source": [
    "best_perm"
   ]
  },
  {
   "cell_type": "code",
   "execution_count": 149,
   "metadata": {},
   "outputs": [
    {
     "data": {
      "text/plain": [
       "0.12050644735328311"
      ]
     },
     "execution_count": 149,
     "metadata": {},
     "output_type": "execute_result"
    }
   ],
   "source": [
    "min_error"
   ]
  },
  {
   "cell_type": "code",
   "execution_count": 148,
   "metadata": {},
   "outputs": [
    {
     "data": {
      "image/png": "[encoded data removed]",
      "text/plain": [
       "<Figure size 432x288 with 1 Axes>"
      ]
     },
     "metadata": {
      "needs_background": "light"
     },
     "output_type": "display_data"
    }
   ],
   "source": [
    "num_bins = 6\n",
    "n, bins, patches = plt.hist(errors, num_bins, facecolor='blue', alpha=0.5)\n",
    "plt.show()"
   ]
  },
  {
   "cell_type": "code",
   "execution_count": 158,
   "metadata": {},
   "outputs": [],
   "source": [
    "errors_naive = [error(terms, 1, n) for n in range(10, 30)]"
   ]
  },
  {
   "cell_type": "code",
   "execution_count": 159,
   "metadata": {},
   "outputs": [
    {
     "data": {
      "text/plain": [
       "<matplotlib.collections.PathCollection at 0x12cdc3438>"
      ]
     },
     "execution_count": 159,
     "metadata": {},
     "output_type": "execute_result"
    },
    {
     "data": {
      "image/png": "[encoded data removed]",
      "text/plain": [
       "<Figure size 432x288 with 1 Axes>"
      ]
     },
     "metadata": {
      "needs_background": "light"
     },
     "output_type": "display_data"
    }
   ],
   "source": [
    "plt.scatter(range(10, 30), errors_naive)"
   ]
  },
  {
   "cell_type": "code",
   "execution_count": 161,
   "metadata": {},
   "outputs": [
    {
     "name": "stdout",
     "output_type": "stream",
     "text": [
      "Starting  10  trotterization steps\n",
      "Starting  11  trotterization steps\n",
      "Starting  12  trotterization steps\n",
      "Starting  13  trotterization steps\n",
      "Starting  14  trotterization steps\n",
      "Starting  15  trotterization steps\n",
      "Starting  16  trotterization steps\n",
      "Starting  17  trotterization steps\n",
      "Starting  18  trotterization steps\n",
      "Starting  19  trotterization steps\n",
      "Starting  20  trotterization steps\n",
      "Starting  21  trotterization steps\n",
      "Starting  22  trotterization steps\n",
      "Starting  23  trotterization steps\n",
      "Starting  24  trotterization steps\n",
      "Starting  25  trotterization steps\n",
      "Starting  26  trotterization steps\n",
      "Starting  27  trotterization steps\n",
      "Starting  28  trotterization steps\n",
      "Starting  29  trotterization steps\n"
     ]
    }
   ],
   "source": [
    "errors_ordered = []\n",
    "best_perms = []\n",
    "for n in range(10, 30):\n",
    "    print('Starting ', n, \" trotterization steps\")\n",
    "    best_perm, min_error, errors = find_best_order(1, n)\n",
    "    best_perms.append(best_perm)\n",
    "\n",
    "    errors_ordered.append(min_error)"
   ]
  },
  {
   "cell_type": "code",
   "execution_count": 165,
   "metadata": {},
   "outputs": [
    {
     "data": {
      "text/plain": [
       "<matplotlib.collections.PathCollection at 0x12ce9e128>"
      ]
     },
     "execution_count": 165,
     "metadata": {},
     "output_type": "execute_result"
    },
    {
     "data": {
      "image/png": "[encoded data removed]",
      "text/plain": [
       "<Figure size 432x288 with 1 Axes>"
      ]
     },
     "metadata": {
      "needs_background": "light"
     },
     "output_type": "display_data"
    }
   ],
   "source": [
    "plt.scatter(range(10, 30), errors_ordered, c = 'orange')\n",
    "plt.scatter(range(10, 30), errors_naive)"
   ]
  },
  {
   "cell_type": "code",
   "execution_count": 166,
   "metadata": {},
   "outputs": [
    {
     "data": {
      "text/plain": [
       "[('x1', 'x2', 'y1', 'y2', 'z2', 'z1'),\n",
       " ('x1', 'z2', 'x2', 'z1', 'y2', 'y1'),\n",
       " ('z2', 'z1', 'x1', 'y2', 'x2', 'y1'),\n",
       " ('z2', 'x1', 'z1', 'x2', 'y2', 'y1'),\n",
       " ('z1', 'z2', 'x1', 'x2', 'y2', 'y1'),\n",
       " ('x1', 'x2', 'z2', 'z1', 'y1', 'y2'),\n",
       " ('x2', 'x1', 'y2', 'y1', 'z2', 'z1'),\n",
       " ('z2', 'z1', 'x1', 'y2', 'x2', 'y1'),\n",
       " ('x2', 'z1', 'x1', 'z2', 'y1', 'y2'),\n",
       " ('z1', 'x2', 'z2', 'x1', 'y2', 'y1'),\n",
       " ('x2', 'z1', 'x1', 'y2', 'z2', 'y1'),\n",
       " ('z1', 'z2', 'x1', 'x2', 'y2', 'y1'),\n",
       " ('x2', 'x1', 'z1', 'y2', 'z2', 'y1'),\n",
       " ('x1', 'x2', 'y1', 'y2', 'z2', 'z1'),\n",
       " ('x1', 'x2', 'z1', 'z2', 'y1', 'y2'),\n",
       " ('x1', 'x2', 'z1', 'z2', 'y2', 'y1'),\n",
       " ('x1', 'x2', 'z1', 'y2', 'z2', 'y1'),\n",
       " ('x1', 'x2', 'z1', 'z2', 'y2', 'y1'),\n",
       " ('x2', 'x1', 'y2', 'z1', 'y1', 'z2'),\n",
       " ('x1', 'y2', 'x2', 'z1', 'y1', 'z2')]"
      ]
     },
     "execution_count": 166,
     "metadata": {},
     "output_type": "execute_result"
    }
   ],
   "source": [
    "best_perms"
   ]
  },
  {
   "cell_type": "code",
   "execution_count": 46,
   "metadata": {},
   "outputs": [
    {
     "name": "stdout",
     "output_type": "stream",
     "text": [
      "          ┌──────────┐     \n",
      "q_0: ──■──┤ Rx(-π/6) ├──■──\n",
      "     ┌─┴─┐└────┬─────┘┌─┴─┐\n",
      "q_1: ┤ X ├─────■──────┤ X ├\n",
      "     └───┘            └───┘\n"
     ]
    }
   ],
   "source": [
    "theta = np.pi/6\n",
    "\n",
    "qc = QuantumCircuit(2)\n",
    "qc.cx(0, 1)\n",
    "qc.crx(-1 * theta, 1, 0)\n",
    "qc.cx(0, 1)\n",
    "\n",
    "print(qc)"
   ]
  },
  {
   "cell_type": "code",
   "execution_count": 47,
   "metadata": {},
   "outputs": [
    {
     "data": {
      "text/plain": [
       "array([[1.        +0.j        , 0.        +0.j        ,\n",
       "        0.        +0.j        , 0.        +0.j        ],\n",
       "       [0.        +0.j        , 0.96592583+0.j        ,\n",
       "        0.        +0.25881905j, 0.        +0.j        ],\n",
       "       [0.        +0.j        , 0.        +0.25881905j,\n",
       "        0.96592583+0.j        , 0.        +0.j        ],\n",
       "       [0.        +0.j        , 0.        +0.j        ,\n",
       "        0.        +0.j        , 1.        +0.j        ]])"
      ]
     },
     "execution_count": 47,
     "metadata": {},
     "output_type": "execute_result"
    }
   ],
   "source": [
    "from qiskit.quantum_info import Operator\n",
    "Operator(qc).data"
   ]
  },
  {
   "cell_type": "code",
   "execution_count": 48,
   "metadata": {},
   "outputs": [
    {
     "data": {
      "text/plain": [
       "<qiskit.circuit.quantumcircuit.QuantumCircuit at 0x12abb29b0>"
      ]
     },
     "execution_count": 48,
     "metadata": {},
     "output_type": "execute_result"
    }
   ],
   "source": [
    "qc.decompose()"
   ]
  },
  {
   "cell_type": "code",
   "execution_count": null,
   "metadata": {},
   "outputs": [],
   "source": []
  }
 ],
 "metadata": {
  "kernelspec": {
   "display_name": "Python 3",
   "language": "python",
   "name": "python3"
  },
  "language_info": {
   "codemirror_mode": {
    "name": "ipython",
    "version": 3
   },
   "file_extension": ".py",
   "mimetype": "text/x-python",
   "name": "python",
   "nbconvert_exporter": "python",
   "pygments_lexer": "ipython3",
   "version": "3.7.1"
  }
 },
 "nbformat": 4,
 "nbformat_minor": 2
}
