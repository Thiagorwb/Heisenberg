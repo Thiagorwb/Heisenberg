{
 "cells": [
  {
   "cell_type": "code",
   "execution_count": 11,
   "metadata": {},
   "outputs": [],
   "source": [
    "import import_ipynb\n",
    "from libraries import *"
   ]
  },
  {
   "cell_type": "code",
   "execution_count": 12,
   "metadata": {},
   "outputs": [],
   "source": [
    "# Parameterize variable t to be evaluated at t=pi later\n",
    "t = Parameter('t')\n",
    "num_qubits = 3"
   ]
  },
  {
   "cell_type": "code",
   "execution_count": 13,
   "metadata": {},
   "outputs": [],
   "source": [
    "def swap_gate():\n",
    "    qr = QuantumRegister(2)\n",
    "    qc = QuantumCircuit(qr)\n",
    "    qc.cx(qr[0], qr[1])\n",
    "    qc.cx(qr[1], qr[0])\n",
    "    qc.cx(qr[0], qr[1])\n",
    "    return qc.to_instruction()"
   ]
  },
  {
   "cell_type": "code",
   "execution_count": 14,
   "metadata": {},
   "outputs": [],
   "source": [
    "def long_range_cx(target, controle, num_qubits):\n",
    "    qr = QuantumRegister(num_qubits)\n",
    "    qc = QuantumCircuit(qr)\n",
    "    \n",
    "    if np.abs(controle - target) == 1:\n",
    "        qc.cx(controle, target)\n",
    "        return qc\n",
    "    \n",
    "    if controle < target:\n",
    "        \n",
    "        for i in range(controle, target):\n",
    "            qc.cx(i, i + 1)\n",
    "        for i in range(target - 2, controle, -1):\n",
    "            qc.cx(i, i + 1)\n",
    "        for i in range(controle, target):\n",
    "            qc.cx(i, i + 1)\n",
    "        for i in range(target - 2, controle, -1):\n",
    "            qc.cx(i, i + 1)\n",
    "            \n",
    "    if controle > target:\n",
    "        \n",
    "        for i in range(controle, target, -1):\n",
    "            qc.cx(i, i - 1)\n",
    "        for i in range(target + 2, controle):\n",
    "            qc.cx(i, i - 1)\n",
    "        for i in range(controle, target, -1):\n",
    "            qc.cx(i, i - 1)\n",
    "        for i in range(target + 2, controle):\n",
    "            qc.cx(i, i - 1)\n",
    "            \n",
    "    return qc.to_instruction()\n",
    "        "
   ]
  },
  {
   "cell_type": "code",
   "execution_count": 15,
   "metadata": {},
   "outputs": [],
   "source": [
    "def QQ_gate(pauli_name, time = t, name = None):\n",
    "    \"\"\"\n",
    "    Function returns a circuit instruction for \\exp[i Q \\otimes Q t], for a given Pauli operator Q\n",
    "    Inputs: pauli_name, string, \\in 'x', 'y', 'z'\n",
    "            time, float\n",
    "            name, string, labels gate\n",
    "    Returns: QuantumCircuit instructions\n",
    "    \"\"\"\n",
    "    \n",
    "    qr = QuantumRegister(2)\n",
    "    qc = QuantumCircuit(qr, name= name)\n",
    "    \n",
    "    if pauli_name == 'x':\n",
    "        qc.ry(np.pi/2,[0,1])\n",
    "    elif pauli_name =='y':\n",
    "        qc.rx(np.pi/2,[0,1])\n",
    "    \n",
    "    qc.cnot(0,1)\n",
    "    qc.rz(2 * time, 1)\n",
    "    qc.cnot(0,1)\n",
    "    \n",
    "    if pauli_name == 'x':\n",
    "        qc.ry(- np.pi/2,[0,1])\n",
    "    elif pauli_name == 'y':\n",
    "        qc.rx(- np.pi/2,[0,1])\n",
    "\n",
    "    # Convert custom quantum circuit into a gate\n",
    "    return qc.to_instruction()"
   ]
  },
  {
   "cell_type": "code",
   "execution_count": null,
   "metadata": {},
   "outputs": [],
   "source": []
  },
  {
   "cell_type": "code",
   "execution_count": null,
   "metadata": {},
   "outputs": [],
   "source": []
  },
  {
   "cell_type": "code",
   "execution_count": null,
   "metadata": {},
   "outputs": [],
   "source": []
  },
  {
   "cell_type": "code",
   "execution_count": null,
   "metadata": {},
   "outputs": [],
   "source": []
  },
  {
   "cell_type": "code",
   "execution_count": null,
   "metadata": {},
   "outputs": [],
   "source": []
  },
  {
   "cell_type": "code",
   "execution_count": null,
   "metadata": {},
   "outputs": [],
   "source": []
  }
 ],
 "metadata": {
  "kernelspec": {
   "display_name": "Python 3",
   "language": "python",
   "name": "python3"
  },
  "language_info": {
   "codemirror_mode": {
    "name": "ipython",
    "version": 3
   },
   "file_extension": ".py",
   "mimetype": "text/x-python",
   "name": "python",
   "nbconvert_exporter": "python",
   "pygments_lexer": "ipython3",
   "version": "3.7.1"
  }
 },
 "nbformat": 4,
 "nbformat_minor": 2
}
