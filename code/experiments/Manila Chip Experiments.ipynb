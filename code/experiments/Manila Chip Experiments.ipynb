{
 "cells": [
  {
   "cell_type": "code",
   "execution_count": 1,
   "metadata": {},
   "outputs": [],
   "source": [
    "from package import *"
   ]
  },
  {
   "cell_type": "code",
   "execution_count": 2,
   "metadata": {},
   "outputs": [],
   "source": [
    "provider2 = IBMQ.load_account()\n",
    "provider2 = IBMQ.get_provider(hub='ibm-q', group='open', project='main')\n",
    "quito = provider2.get_backend('ibmq_quito')\n",
    "manila = provider2.get_backend('ibmq_manila')\n",
    "noisy_quito = QasmSimulator.from_backend(quito)\n",
    "noisy_manila = QasmSimulator.from_backend(manila)"
   ]
  },
  {
   "cell_type": "markdown",
   "metadata": {},
   "source": [
    " need to re-run for up-to date results"
   ]
  },
  {
   "cell_type": "markdown",
   "metadata": {},
   "source": [
    "### Manila Chip Experiments"
   ]
  },
  {
   "cell_type": "code",
   "execution_count": 3,
   "metadata": {
    "scrolled": true
   },
   "outputs": [
    {
     "name": "stdout",
     "output_type": "stream",
     "text": [
      "4 Trotterization steps\n",
      "state tomography fidelity = 0.0389 ± 0.0018\n",
      "5 Trotterization steps\n",
      "state tomography fidelity = 0.1490 ± 0.0032\n",
      "6 Trotterization steps\n",
      "state tomography fidelity = 0.2342 ± 0.0019\n",
      "7 Trotterization steps\n",
      "state tomography fidelity = 0.2617 ± 0.0088\n",
      "8 Trotterization steps\n",
      "state tomography fidelity = 0.2324 ± 0.0058\n",
      "9 Trotterization steps\n",
      "state tomography fidelity = 0.1901 ± 0.0038\n",
      "10 Trotterization steps\n",
      "state tomography fidelity = 0.1850 ± 0.0034\n",
      "11 Trotterization steps\n",
      "state tomography fidelity = 0.1587 ± 0.0055\n",
      "12 Trotterization steps\n"
     ]
    },
    {
     "name": "stderr",
     "output_type": "stream",
     "text": [
      "ERROR:root:Internal Python error in the inspect module.\n",
      "Below is the traceback from this internal error.\n",
      "\n"
     ]
    },
    {
     "name": "stdout",
     "output_type": "stream",
     "text": [
      "Traceback (most recent call last):\n",
      "  File \"/Library/Frameworks/Python.framework/Versions/3.7/lib/python3.7/site-packages/IPython/core/interactiveshell.py\", line 3267, in run_code\n",
      "    exec(code_obj, self.user_global_ns, self.user_ns)\n",
      "  File \"<ipython-input-3-d29fedeea412>\", line 1, in <module>\n",
      "    unc_second_order_manila = product_experiment(np.pi, order = 1, min_steps = 4, max_steps = 20, backend = manila, repetitions = 5, compiler = False, verbose = False)\n",
      "  File \"/Users/thiagobergamaschi/Documents/Berkeley/ibm/Heisenberg/code/project/package/testing/experiments.py\", line 45, in product_experiment\n",
      "    print(\"Simulating until time \", t)\n",
      "  File \"/Users/thiagobergamaschi/Documents/Berkeley/ibm/Heisenberg/code/project/package/testing/testing.py\", line 84, in test_formula\n",
      "    fid = average_fidelity(jobs, st_qcs, result_state)\n",
      "  File \"/Users/thiagobergamaschi/Documents/Berkeley/ibm/Heisenberg/code/project/package/testing/tomography.py\", line 84, in average_fidelity\n",
      "    fid = tomography(job.result(), st_qcs,  target_state)\n",
      "  File \"/Library/Frameworks/Python.framework/Versions/3.7/lib/python3.7/site-packages/qiskit/providers/ibmq/job/ibmqjob.py\", line 277, in result\n",
      "    required_status=(JobStatus.DONE,)):\n",
      "  File \"/Library/Frameworks/Python.framework/Versions/3.7/lib/python3.7/site-packages/qiskit/providers/ibmq/job/ibmqjob.py\", line 912, in _wait_for_completion\n",
      "    self.job_id(), timeout=timeout, wait=wait, status_queue=status_queue)\n",
      "  File \"/Library/Frameworks/Python.framework/Versions/3.7/lib/python3.7/site-packages/qiskit/providers/ibmq/api/clients/account.py\", line 362, in job_final_status\n",
      "    job_id=job_id, timeout=timeout, status_queue=status_queue)\n",
      "  File \"/Library/Frameworks/Python.framework/Versions/3.7/lib/python3.7/site-packages/qiskit/providers/ibmq/api/clients/account.py\", line 414, in _job_final_status_websocket\n",
      "    return ws_client.get_job_status()\n",
      "  File \"/Library/Frameworks/Python.framework/Versions/3.7/lib/python3.7/site-packages/qiskit/providers/ibmq/api/clients/websocket.py\", line 194, in get_job_status\n",
      "    return self.stream(url=url, retries=retries, backoff_factor=backoff_factor)\n",
      "  File \"/Library/Frameworks/Python.framework/Versions/3.7/lib/python3.7/site-packages/qiskit/providers/ibmq/api/clients/base.py\", line 219, in stream\n",
      "    time.sleep(backoff_time)\n",
      "KeyboardInterrupt\n",
      "\n",
      "During handling of the above exception, another exception occurred:\n",
      "\n",
      "Traceback (most recent call last):\n",
      "  File \"/Library/Frameworks/Python.framework/Versions/3.7/lib/python3.7/site-packages/IPython/core/interactiveshell.py\", line 2018, in showtraceback\n",
      "    stb = value._render_traceback_()\n",
      "AttributeError: 'KeyboardInterrupt' object has no attribute '_render_traceback_'\n",
      "\n",
      "During handling of the above exception, another exception occurred:\n",
      "\n",
      "Traceback (most recent call last):\n",
      "  File \"/Library/Frameworks/Python.framework/Versions/3.7/lib/python3.7/site-packages/IPython/core/ultratb.py\", line 1095, in get_records\n",
      "    return _fixed_getinnerframes(etb, number_of_lines_of_context, tb_offset)\n",
      "  File \"/Library/Frameworks/Python.framework/Versions/3.7/lib/python3.7/site-packages/IPython/core/ultratb.py\", line 313, in wrapped\n",
      "    return f(*args, **kwargs)\n",
      "  File \"/Library/Frameworks/Python.framework/Versions/3.7/lib/python3.7/site-packages/IPython/core/ultratb.py\", line 347, in _fixed_getinnerframes\n",
      "    records = fix_frame_records_filenames(inspect.getinnerframes(etb, context))\n",
      "  File \"/Library/Frameworks/Python.framework/Versions/3.7/lib/python3.7/inspect.py\", line 1500, in getinnerframes\n",
      "    frameinfo = (tb.tb_frame,) + getframeinfo(tb, context)\n",
      "  File \"/Library/Frameworks/Python.framework/Versions/3.7/lib/python3.7/inspect.py\", line 1458, in getframeinfo\n",
      "    filename = getsourcefile(frame) or getfile(frame)\n",
      "  File \"/Library/Frameworks/Python.framework/Versions/3.7/lib/python3.7/inspect.py\", line 696, in getsourcefile\n",
      "    if getattr(getmodule(object, filename), '__loader__', None) is not None:\n",
      "  File \"/Library/Frameworks/Python.framework/Versions/3.7/lib/python3.7/inspect.py\", line 742, in getmodule\n",
      "    os.path.realpath(f)] = module.__name__\n",
      "KeyboardInterrupt\n"
     ]
    },
    {
     "ename": "KeyboardInterrupt",
     "evalue": "",
     "output_type": "error",
     "traceback": [
      "\u001b[0;31m---------------------------------------------------------------------------\u001b[0m"
     ]
    }
   ],
   "source": [
    "unc_second_order_manila = product_experiment(np.pi, order = 1, min_steps = 4, max_steps = 20, backend = manila, repetitions = 5, compiler = False, verbose = False)"
   ]
  },
  {
   "cell_type": "code",
   "execution_count": 10,
   "metadata": {
    "scrolled": true
   },
   "outputs": [
    {
     "name": "stdout",
     "output_type": "stream",
     "text": [
      "4 Trotterization steps\n",
      "state tomography fidelity = 0.0382 ± 0.0008\n",
      "5 Trotterization steps\n",
      "state tomography fidelity = 0.1125 ± 0.0026\n",
      "6 Trotterization steps\n",
      "state tomography fidelity = 0.3879 ± 0.0041\n",
      "7 Trotterization steps\n",
      "state tomography fidelity = 0.3688 ± 0.0053\n",
      "8 Trotterization steps\n",
      "state tomography fidelity = 0.4621 ± 0.0055\n",
      "9 Trotterization steps\n",
      "state tomography fidelity = 0.4797 ± 0.0040\n",
      "10 Trotterization steps\n",
      "state tomography fidelity = 0.4716 ± 0.0054\n",
      "11 Trotterization steps\n",
      "state tomography fidelity = 0.5335 ± 0.0046\n",
      "12 Trotterization steps\n",
      "state tomography fidelity = 0.5193 ± 0.0026\n",
      "13 Trotterization steps\n",
      "state tomography fidelity = 0.5484 ± 0.0059\n",
      "14 Trotterization steps\n",
      "state tomography fidelity = 0.5472 ± 0.0023\n",
      "15 Trotterization steps\n",
      "state tomography fidelity = 0.4783 ± 0.0080\n",
      "16 Trotterization steps\n",
      "state tomography fidelity = 0.5558 ± 0.0101\n",
      "17 Trotterization steps\n",
      "state tomography fidelity = 0.5551 ± 0.0037\n",
      "18 Trotterization steps\n",
      "state tomography fidelity = 0.4976 ± 0.0032\n",
      "19 Trotterization steps\n",
      "state tomography fidelity = 0.5367 ± 0.0003\n",
      "20 Trotterization steps\n",
      "state tomography fidelity = 0.5255 ± 0.0056\n"
     ]
    }
   ],
   "source": [
    "first_order_manila = product_experiment(np.pi, order = 1, min_steps = 4, max_steps = 20, backend = manila, repetitions = 5, qsd = True, verbose = False)"
   ]
  },
  {
   "cell_type": "code",
   "execution_count": 11,
   "metadata": {
    "scrolled": true
   },
   "outputs": [
    {
     "name": "stdout",
     "output_type": "stream",
     "text": [
      "4 Trotterization steps\n",
      "state tomography fidelity = 0.0696 ± 0.0008\n",
      "5 Trotterization steps\n",
      "state tomography fidelity = 0.1958 ± 0.0045\n",
      "6 Trotterization steps\n",
      "state tomography fidelity = 0.3259 ± 0.0064\n",
      "7 Trotterization steps\n",
      "state tomography fidelity = 0.4002 ± 0.0099\n",
      "8 Trotterization steps\n",
      "state tomography fidelity = 0.5236 ± 0.0037\n",
      "9 Trotterization steps\n",
      "state tomography fidelity = 0.4935 ± 0.0027\n",
      "10 Trotterization steps\n",
      "state tomography fidelity = 0.5009 ± 0.0011\n",
      "11 Trotterization steps\n",
      "state tomography fidelity = 0.5509 ± 0.0093\n",
      "12 Trotterization steps\n",
      "state tomography fidelity = 0.4925 ± 0.0102\n",
      "13 Trotterization steps\n",
      "state tomography fidelity = 0.5434 ± 0.0063\n",
      "14 Trotterization steps\n",
      "state tomography fidelity = 0.5355 ± 0.0041\n",
      "15 Trotterization steps\n",
      "state tomography fidelity = 0.5501 ± 0.0051\n",
      "16 Trotterization steps\n",
      "state tomography fidelity = 0.5309 ± 0.0043\n",
      "17 Trotterization steps\n",
      "state tomography fidelity = 0.4139 ± 0.0087\n",
      "18 Trotterization steps\n",
      "state tomography fidelity = 0.4286 ± 0.0173\n",
      "19 Trotterization steps\n",
      "state tomography fidelity = 0.5123 ± 0.0049\n",
      "20 Trotterization steps\n",
      "state tomography fidelity = 0.5297 ± 0.0083\n"
     ]
    }
   ],
   "source": [
    "second_order_manila = product_experiment(np.pi, order = 2, min_steps = 4, max_steps = 20, backend = manila, repetitions = 5, qsd = True, verbose = False)"
   ]
  },
  {
   "cell_type": "code",
   "execution_count": 5,
   "metadata": {},
   "outputs": [
    {
     "name": "stdout",
     "output_type": "stream",
     "text": [
      "4 Trotterization steps\n",
      "state tomography fidelity = 0.4833 ± 0.0082\n",
      "5 Trotterization steps\n",
      "state tomography fidelity = 0.4808 ± 0.0047\n",
      "6 Trotterization steps\n",
      "state tomography fidelity = 0.5394 ± 0.0062\n",
      "7 Trotterization steps\n",
      "state tomography fidelity = 0.4539 ± 0.0076\n",
      "8 Trotterization steps\n",
      "state tomography fidelity = 0.4538 ± 0.0028\n",
      "9 Trotterization steps\n",
      "state tomography fidelity = 0.4205 ± 0.0050\n",
      "10 Trotterization steps\n",
      "state tomography fidelity = 0.4342 ± 0.0053\n",
      "11 Trotterization steps\n",
      "state tomography fidelity = 0.4115 ± 0.0108\n",
      "12 Trotterization steps\n",
      "state tomography fidelity = 0.4535 ± 0.0065\n",
      "13 Trotterization steps\n",
      "state tomography fidelity = 0.4609 ± 0.0033\n",
      "14 Trotterization steps\n",
      "state tomography fidelity = 0.4714 ± 0.0089\n",
      "15 Trotterization steps\n"
     ]
    },
    {
     "name": "stderr",
     "output_type": "stream",
     "text": [
      "ERROR:root:Internal Python error in the inspect module.\n",
      "Below is the traceback from this internal error.\n",
      "\n"
     ]
    },
    {
     "name": "stdout",
     "output_type": "stream",
     "text": [
      "Traceback (most recent call last):\n",
      "  File \"/Library/Frameworks/Python.framework/Versions/3.7/lib/python3.7/site-packages/IPython/core/interactiveshell.py\", line 3267, in run_code\n",
      "    exec(code_obj, self.user_global_ns, self.user_ns)\n",
      "  File \"<ipython-input-5-7036c77fa554>\", line 1, in <module>\n",
      "    fourth_order_manila = product_experiment(np.pi, order = 4, min_steps = 4, max_steps = 20, backend = manila, repetitions = 5, qsd = True, verbose = False, ti = True)\n",
      "  File \"/Users/thiagobergamaschi/Documents/Berkeley/ibm/Heisenberg/code/project/package/testing/experiments.py\", line 46, in product_experiment\n",
      "    fids.append(fid)\n",
      "  File \"/Users/thiagobergamaschi/Documents/Berkeley/ibm/Heisenberg/code/project/package/testing/testing.py\", line 80, in test_3_qubits\n",
      "    # assign jobs and evaluate fidelity\n",
      "  File \"/Users/thiagobergamaschi/Documents/Berkeley/ibm/Heisenberg/code/project/package/testing/tomography.py\", line 84, in average_fidelity\n",
      "    fid = tomography(job.result(), st_qcs,  target_state)\n",
      "  File \"/Library/Frameworks/Python.framework/Versions/3.7/lib/python3.7/site-packages/qiskit/providers/ibmq/job/ibmqjob.py\", line 277, in result\n",
      "    required_status=(JobStatus.DONE,)):\n",
      "  File \"/Library/Frameworks/Python.framework/Versions/3.7/lib/python3.7/site-packages/qiskit/providers/ibmq/job/ibmqjob.py\", line 912, in _wait_for_completion\n",
      "    self.job_id(), timeout=timeout, wait=wait, status_queue=status_queue)\n",
      "  File \"/Library/Frameworks/Python.framework/Versions/3.7/lib/python3.7/site-packages/qiskit/providers/ibmq/api/clients/account.py\", line 362, in job_final_status\n",
      "    job_id=job_id, timeout=timeout, status_queue=status_queue)\n",
      "  File \"/Library/Frameworks/Python.framework/Versions/3.7/lib/python3.7/site-packages/qiskit/providers/ibmq/api/clients/account.py\", line 414, in _job_final_status_websocket\n",
      "    return ws_client.get_job_status()\n",
      "  File \"/Library/Frameworks/Python.framework/Versions/3.7/lib/python3.7/site-packages/qiskit/providers/ibmq/api/clients/websocket.py\", line 194, in get_job_status\n",
      "    return self.stream(url=url, retries=retries, backoff_factor=backoff_factor)\n",
      "  File \"/Library/Frameworks/Python.framework/Versions/3.7/lib/python3.7/site-packages/qiskit/providers/ibmq/api/clients/base.py\", line 219, in stream\n",
      "    time.sleep(backoff_time)\n",
      "KeyboardInterrupt\n",
      "\n",
      "During handling of the above exception, another exception occurred:\n",
      "\n",
      "Traceback (most recent call last):\n",
      "  File \"/Library/Frameworks/Python.framework/Versions/3.7/lib/python3.7/site-packages/IPython/core/interactiveshell.py\", line 2018, in showtraceback\n",
      "    stb = value._render_traceback_()\n",
      "AttributeError: 'KeyboardInterrupt' object has no attribute '_render_traceback_'\n",
      "\n",
      "During handling of the above exception, another exception occurred:\n",
      "\n",
      "Traceback (most recent call last):\n",
      "  File \"/Library/Frameworks/Python.framework/Versions/3.7/lib/python3.7/site-packages/IPython/core/ultratb.py\", line 1095, in get_records\n",
      "    return _fixed_getinnerframes(etb, number_of_lines_of_context, tb_offset)\n",
      "  File \"/Library/Frameworks/Python.framework/Versions/3.7/lib/python3.7/site-packages/IPython/core/ultratb.py\", line 313, in wrapped\n",
      "    return f(*args, **kwargs)\n",
      "  File \"/Library/Frameworks/Python.framework/Versions/3.7/lib/python3.7/site-packages/IPython/core/ultratb.py\", line 347, in _fixed_getinnerframes\n",
      "    records = fix_frame_records_filenames(inspect.getinnerframes(etb, context))\n",
      "  File \"/Library/Frameworks/Python.framework/Versions/3.7/lib/python3.7/inspect.py\", line 1500, in getinnerframes\n",
      "    frameinfo = (tb.tb_frame,) + getframeinfo(tb, context)\n",
      "  File \"/Library/Frameworks/Python.framework/Versions/3.7/lib/python3.7/inspect.py\", line 1458, in getframeinfo\n",
      "    filename = getsourcefile(frame) or getfile(frame)\n",
      "  File \"/Library/Frameworks/Python.framework/Versions/3.7/lib/python3.7/inspect.py\", line 696, in getsourcefile\n",
      "    if getattr(getmodule(object, filename), '__loader__', None) is not None:\n",
      "  File \"/Library/Frameworks/Python.framework/Versions/3.7/lib/python3.7/inspect.py\", line 742, in getmodule\n",
      "    os.path.realpath(f)] = module.__name__\n",
      "  File \"/Library/Frameworks/Python.framework/Versions/3.7/lib/python3.7/posixpath.py\", line 388, in realpath\n",
      "    path, ok = _joinrealpath(filename[:0], filename, {})\n",
      "  File \"/Library/Frameworks/Python.framework/Versions/3.7/lib/python3.7/posixpath.py\", line 421, in _joinrealpath\n",
      "    newpath = join(path, name)\n",
      "  File \"/Library/Frameworks/Python.framework/Versions/3.7/lib/python3.7/posixpath.py\", line 81, in join\n",
      "    sep = _get_sep(a)\n",
      "  File \"/Library/Frameworks/Python.framework/Versions/3.7/lib/python3.7/posixpath.py\", line 42, in _get_sep\n",
      "    if isinstance(path, bytes):\n",
      "KeyboardInterrupt\n"
     ]
    },
    {
     "ename": "KeyboardInterrupt",
     "evalue": "",
     "output_type": "error",
     "traceback": [
      "\u001b[0;31m---------------------------------------------------------------------------\u001b[0m"
     ]
    }
   ],
   "source": [
    "fourth_order_manila = product_experiment(np.pi, order = 4, min_steps = 4, max_steps = 20, backend = manila, repetitions = 5, qsd = True, verbose = False, ti = True)"
   ]
  },
  {
   "cell_type": "code",
   "execution_count": null,
   "metadata": {},
   "outputs": [],
   "source": [
    "sixth_order_manila = product_experiment(np.pi, order = 6, min_steps = 4, max_steps = 20, backend = manila, repetitions = 5, qsd = True, verbose = False)"
   ]
  },
  {
   "cell_type": "code",
   "execution_count": null,
   "metadata": {},
   "outputs": [],
   "source": [
    "plt.scatter(range(4, 21), first_order_manila,  label = \"1st\")\n",
    "plt.scatter(range(4, 21), second_order_manila, label = \"2nd\")\n",
    "plt.scatter(range(4, 21), fourth_order_manila, label = \"4th\")\n",
    "plt.scatter(range(4, 21), sixth_order_manila, label = \"6th\")\n",
    "plt.scatter(range(4, 21), unc_second_order_manila, label = \"Uncompiled 2nd\")\n",
    "\n",
    "plt.title(\"Evaluation of the Compiled Product Formula Circuits\")\n",
    "\n",
    "plt.xticks(range(4, 21, 2))\n",
    "\n",
    "plt.legend(loc='bottom right')\n",
    "\n",
    "plt.xlabel(\"Number of Trotter Steps\")\n",
    "plt.ylabel(\"Average Fidelity\")\n",
    "\n",
    "plt.show()"
   ]
  }
 ],
 "metadata": {
  "kernelspec": {
   "display_name": "Python 3",
   "language": "python",
   "name": "python3"
  }
 },
 "nbformat": 4,
 "nbformat_minor": 2
}
