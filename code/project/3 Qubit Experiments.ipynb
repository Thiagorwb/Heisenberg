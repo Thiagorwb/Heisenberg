{
 "cells": [
  {
   "cell_type": "code",
   "execution_count": 1,
   "metadata": {},
   "outputs": [],
   "source": [
    "from package import *"
   ]
  },
  {
   "cell_type": "code",
   "execution_count": 2,
   "metadata": {},
   "outputs": [],
   "source": [
    "provider1 = IBMQ.load_account()\n",
    "provider1 = IBMQ.get_provider(hub='ibm-q-community', group='ibmquantumawards', project='open-science-22')\n",
    "jakarta = provider1.get_backend('ibmq_jakarta')\n",
    "provider2 = IBMQ.get_provider(hub='ibm-q', group='open', project='main')\n",
    "quito = provider2.get_backend('ibmq_quito')\n",
    "manila = provider2.get_backend('ibmq_manila')"
   ]
  },
  {
   "cell_type": "code",
   "execution_count": 3,
   "metadata": {},
   "outputs": [],
   "source": [
    "noisy_jakarta = QasmSimulator.from_backend(jakarta)\n",
    "noisy_quito = QasmSimulator.from_backend(quito)\n",
    "noisy_manila = QasmSimulator.from_backend(manila)"
   ]
  },
  {
   "cell_type": "markdown",
   "metadata": {},
   "source": [
    "# 3 Qubit Experiments"
   ]
  },
  {
   "cell_type": "markdown",
   "metadata": {},
   "source": [
    "## Calibration and Noiseless Simulations"
   ]
  },
  {
   "cell_type": "markdown",
   "metadata": {},
   "source": [
    "Let us begin by calibrating our approximate time evolution circuits. To do so, we simulate their execution on a noiseless backend, and compute the output fidelities. We do so before and after compilation, and as a function of the number of trotter steps; to be able to check for compilation accuracy errors as well as the trotterization tradeoff."
   ]
  },
  {
   "cell_type": "code",
   "execution_count": 4,
   "metadata": {
    "scrolled": true
   },
   "outputs": [
    {
     "name": "stdout",
     "output_type": "stream",
     "text": [
      "4 Trotterization steps\n",
      "state tomography fidelity = 0.0005 ± 0.0004\n",
      "5 Trotterization steps\n",
      "state tomography fidelity = 0.2557 ± 0.0006\n",
      "6 Trotterization steps\n",
      "state tomography fidelity = 0.5710 ± 0.0028\n",
      "7 Trotterization steps\n",
      "state tomography fidelity = 0.7539 ± 0.0013\n",
      "8 Trotterization steps\n",
      "state tomography fidelity = 0.8536 ± 0.0008\n",
      "9 Trotterization steps\n",
      "state tomography fidelity = 0.9069 ± 0.0005\n",
      "10 Trotterization steps\n",
      "state tomography fidelity = 0.9380 ± 0.0004\n",
      "11 Trotterization steps\n",
      "state tomography fidelity = 0.9572 ± 0.0007\n",
      "12 Trotterization steps\n",
      "state tomography fidelity = 0.9682 ± 0.0008\n",
      "13 Trotterization steps\n",
      "state tomography fidelity = 0.9766 ± 0.0014\n",
      "14 Trotterization steps\n",
      "state tomography fidelity = 0.9809 ± 0.0008\n",
      "15 Trotterization steps\n",
      "state tomography fidelity = 0.9845 ± 0.0002\n",
      "16 Trotterization steps\n",
      "state tomography fidelity = 0.9867 ± 0.0006\n",
      "17 Trotterization steps\n",
      "state tomography fidelity = 0.9893 ± 0.0010\n",
      "18 Trotterization steps\n",
      "state tomography fidelity = 0.9893 ± 0.0004\n",
      "19 Trotterization steps\n",
      "state tomography fidelity = 0.9905 ± 0.0011\n",
      "20 Trotterization steps\n",
      "state tomography fidelity = 0.9918 ± 0.0009\n",
      "4 Trotterization steps\n",
      "state tomography fidelity = 0.0003 ± 0.0002\n",
      "5 Trotterization steps\n",
      "state tomography fidelity = 0.2555 ± 0.0012\n",
      "6 Trotterization steps\n",
      "state tomography fidelity = 0.5696 ± 0.0014\n",
      "7 Trotterization steps\n",
      "state tomography fidelity = 0.7548 ± 0.0008\n",
      "8 Trotterization steps\n",
      "state tomography fidelity = 0.8539 ± 0.0015\n",
      "9 Trotterization steps\n",
      "state tomography fidelity = 0.9076 ± 0.0005\n",
      "10 Trotterization steps\n",
      "state tomography fidelity = 0.9386 ± 0.0005\n",
      "11 Trotterization steps\n",
      "state tomography fidelity = 0.9561 ± 0.0006\n",
      "12 Trotterization steps\n",
      "state tomography fidelity = 0.9680 ± 0.0009\n",
      "13 Trotterization steps\n",
      "state tomography fidelity = 0.9755 ± 0.0011\n",
      "14 Trotterization steps\n",
      "state tomography fidelity = 0.9808 ± 0.0007\n",
      "15 Trotterization steps\n",
      "state tomography fidelity = 0.9844 ± 0.0007\n",
      "16 Trotterization steps\n",
      "state tomography fidelity = 0.9868 ± 0.0002\n",
      "17 Trotterization steps\n",
      "state tomography fidelity = 0.9893 ± 0.0001\n",
      "18 Trotterization steps\n",
      "state tomography fidelity = 0.9896 ± 0.0006\n",
      "19 Trotterization steps\n",
      "state tomography fidelity = 0.9908 ± 0.0003\n",
      "20 Trotterization steps\n",
      "state tomography fidelity = 0.9923 ± 0.0010\n",
      "4 Trotterization steps\n",
      "state tomography fidelity = 0.9949 ± 0.0011\n",
      "5 Trotterization steps\n",
      "state tomography fidelity = 0.9954 ± 0.0008\n",
      "6 Trotterization steps\n",
      "state tomography fidelity = 0.9949 ± 0.0019\n",
      "7 Trotterization steps\n",
      "state tomography fidelity = 0.9937 ± 0.0012\n",
      "8 Trotterization steps\n",
      "state tomography fidelity = 0.9954 ± 0.0007\n",
      "9 Trotterization steps\n",
      "state tomography fidelity = 0.9946 ± 0.0005\n",
      "10 Trotterization steps\n",
      "state tomography fidelity = 0.9951 ± 0.0010\n",
      "11 Trotterization steps\n",
      "state tomography fidelity = 0.9953 ± 0.0010\n",
      "12 Trotterization steps\n",
      "state tomography fidelity = 0.9957 ± 0.0011\n",
      "13 Trotterization steps\n",
      "state tomography fidelity = 0.9946 ± 0.0016\n",
      "14 Trotterization steps\n",
      "state tomography fidelity = 0.9945 ± 0.0012\n",
      "15 Trotterization steps\n",
      "state tomography fidelity = 0.9951 ± 0.0007\n",
      "16 Trotterization steps\n",
      "state tomography fidelity = 0.9943 ± 0.0006\n",
      "17 Trotterization steps\n",
      "state tomography fidelity = 0.9954 ± 0.0005\n",
      "18 Trotterization steps\n",
      "state tomography fidelity = 0.9961 ± 0.0005\n",
      "19 Trotterization steps\n",
      "state tomography fidelity = 0.9947 ± 0.0008\n",
      "20 Trotterization steps\n",
      "state tomography fidelity = 0.9959 ± 0.0009\n",
      "4 Trotterization steps\n",
      "state tomography fidelity = 0.9944 ± 0.0013\n",
      "5 Trotterization steps\n",
      "state tomography fidelity = 0.9961 ± 0.0002\n",
      "6 Trotterization steps\n",
      "state tomography fidelity = 0.9960 ± 0.0002\n",
      "7 Trotterization steps\n",
      "state tomography fidelity = 0.9939 ± 0.0007\n",
      "8 Trotterization steps\n",
      "state tomography fidelity = 0.9957 ± 0.0003\n",
      "9 Trotterization steps\n",
      "state tomography fidelity = 0.9956 ± 0.0004\n",
      "10 Trotterization steps\n",
      "state tomography fidelity = 0.9945 ± 0.0010\n",
      "11 Trotterization steps\n",
      "state tomography fidelity = 0.9944 ± 0.0007\n",
      "12 Trotterization steps\n",
      "state tomography fidelity = 0.9936 ± 0.0008\n",
      "13 Trotterization steps\n",
      "state tomography fidelity = 0.9945 ± 0.0010\n",
      "14 Trotterization steps\n",
      "state tomography fidelity = 0.9952 ± 0.0004\n",
      "15 Trotterization steps\n",
      "state tomography fidelity = 0.9950 ± 0.0005\n",
      "16 Trotterization steps\n",
      "state tomography fidelity = 0.9949 ± 0.0007\n",
      "17 Trotterization steps\n",
      "state tomography fidelity = 0.9951 ± 0.0013\n",
      "18 Trotterization steps\n",
      "state tomography fidelity = 0.9946 ± 0.0003\n",
      "19 Trotterization steps\n",
      "state tomography fidelity = 0.9945 ± 0.0003\n",
      "20 Trotterization steps\n",
      "state tomography fidelity = 0.9944 ± 0.0005\n"
     ]
    }
   ],
   "source": [
    "noiseless1st = product_experiment(np.pi, order = 1, min_steps = 4, max_steps = 20, backend = sim, repetitions = 3, compiler = True, verbose = False)\n",
    "noiseless2nd = product_experiment(np.pi, order = 2, min_steps = 4, max_steps = 20, backend = sim, repetitions = 3, compiler = True, verbose = False)\n",
    "noiseless4th = product_experiment(np.pi, order = 4, min_steps = 4, max_steps = 20, backend = sim, repetitions = 3, compiler = True, verbose = False)\n",
    "noiseless6th = product_experiment(np.pi, order = 6, min_steps = 4, max_steps = 20, backend = sim, repetitions = 3, compiler = True, verbose = False)"
   ]
  },
  {
   "cell_type": "code",
   "execution_count": null,
   "metadata": {
    "scrolled": true
   },
   "outputs": [
    {
     "name": "stdout",
     "output_type": "stream",
     "text": [
      "4 Trotterization steps\n",
      "state tomography fidelity = 0.0001 ± 0.0001\n",
      "5 Trotterization steps\n",
      "state tomography fidelity = 0.2556 ± 0.0008\n",
      "6 Trotterization steps\n",
      "state tomography fidelity = 0.5707 ± 0.0037\n",
      "7 Trotterization steps\n",
      "state tomography fidelity = 0.7562 ± 0.0015\n",
      "8 Trotterization steps\n",
      "state tomography fidelity = 0.8529 ± 0.0010\n",
      "9 Trotterization steps\n",
      "state tomography fidelity = 0.9061 ± 0.0002\n",
      "10 Trotterization steps\n",
      "state tomography fidelity = 0.9376 ± 0.0007\n",
      "11 Trotterization steps\n",
      "state tomography fidelity = 0.9568 ± 0.0006\n",
      "12 Trotterization steps\n",
      "state tomography fidelity = 0.9685 ± 0.0018\n",
      "13 Trotterization steps\n",
      "state tomography fidelity = 0.9758 ± 0.0005\n",
      "14 Trotterization steps\n",
      "state tomography fidelity = 0.9806 ± 0.0003\n",
      "15 Trotterization steps\n",
      "state tomography fidelity = 0.9831 ± 0.0013\n",
      "16 Trotterization steps\n",
      "state tomography fidelity = 0.9868 ± 0.0004\n",
      "17 Trotterization steps\n",
      "state tomography fidelity = 0.9885 ± 0.0008\n",
      "18 Trotterization steps\n",
      "state tomography fidelity = 0.9902 ± 0.0005\n",
      "19 Trotterization steps\n",
      "state tomography fidelity = 0.9916 ± 0.0007\n",
      "20 Trotterization steps\n",
      "state tomography fidelity = 0.9911 ± 0.0011\n",
      "4 Trotterization steps\n",
      "state tomography fidelity = 0.0005 ± 0.0002\n",
      "5 Trotterization steps\n",
      "state tomography fidelity = 0.2549 ± 0.0019\n",
      "6 Trotterization steps\n",
      "state tomography fidelity = 0.5725 ± 0.0030\n",
      "7 Trotterization steps\n",
      "state tomography fidelity = 0.7564 ± 0.0016\n",
      "8 Trotterization steps\n",
      "state tomography fidelity = 0.8539 ± 0.0008\n",
      "9 Trotterization steps\n",
      "state tomography fidelity = 0.9073 ± 0.0006\n",
      "10 Trotterization steps\n",
      "state tomography fidelity = 0.9388 ± 0.0012\n",
      "11 Trotterization steps\n",
      "state tomography fidelity = 0.9578 ± 0.0010\n",
      "12 Trotterization steps\n",
      "state tomography fidelity = 0.9688 ± 0.0008\n",
      "13 Trotterization steps\n",
      "state tomography fidelity = 0.9757 ± 0.0013\n",
      "14 Trotterization steps\n",
      "state tomography fidelity = 0.9815 ± 0.0005\n",
      "15 Trotterization steps\n",
      "state tomography fidelity = 0.9841 ± 0.0020\n",
      "16 Trotterization steps\n",
      "state tomography fidelity = 0.9871 ± 0.0012\n",
      "17 Trotterization steps\n",
      "state tomography fidelity = 0.9881 ± 0.0014\n",
      "18 Trotterization steps\n",
      "state tomography fidelity = 0.9903 ± 0.0002\n",
      "19 Trotterization steps\n",
      "state tomography fidelity = 0.9908 ± 0.0016\n",
      "20 Trotterization steps\n",
      "state tomography fidelity = 0.9924 ± 0.0006\n",
      "4 Trotterization steps\n",
      "state tomography fidelity = 0.9950 ± 0.0005\n",
      "5 Trotterization steps\n",
      "state tomography fidelity = 0.9942 ± 0.0010\n",
      "6 Trotterization steps\n",
      "state tomography fidelity = 0.9944 ± 0.0014\n",
      "7 Trotterization steps\n",
      "state tomography fidelity = 0.9960 ± 0.0005\n",
      "8 Trotterization steps\n",
      "state tomography fidelity = 0.9948 ± 0.0005\n",
      "9 Trotterization steps\n",
      "state tomography fidelity = 0.9944 ± 0.0011\n",
      "10 Trotterization steps\n",
      "state tomography fidelity = 0.9947 ± 0.0009\n",
      "11 Trotterization steps\n",
      "state tomography fidelity = 0.9955 ± 0.0007\n",
      "12 Trotterization steps\n",
      "state tomography fidelity = 0.9939 ± 0.0004\n",
      "13 Trotterization steps\n",
      "state tomography fidelity = 0.9931 ± 0.0005\n",
      "14 Trotterization steps\n",
      "state tomography fidelity = 0.9945 ± 0.0004\n",
      "15 Trotterization steps\n"
     ]
    }
   ],
   "source": [
    "uncnoiseless1st = product_experiment(np.pi, order = 1, min_steps = 4, max_steps = 20, backend = sim, repetitions = 3, compiler = False, verbose = False)\n",
    "uncnoiseless2nd = product_experiment(np.pi, order = 2, min_steps = 4, max_steps = 20, backend = sim, repetitions = 3, compiler = False, verbose = False)\n",
    "uncnoiseless4th = product_experiment(np.pi, order = 4, min_steps = 4, max_steps = 20, backend = sim, repetitions = 3, compiler = False, verbose = False)\n",
    "uncnoiseless6th = product_experiment(np.pi, order = 6, min_steps = 4, max_steps = 20, backend = sim, repetitions = 3, compiler = False, verbose = False)"
   ]
  },
  {
   "cell_type": "code",
   "execution_count": null,
   "metadata": {},
   "outputs": [],
   "source": [
    "plt.scatter(range(4, 21), noiseless1st,  label = \"k=1\")\n",
    "plt.scatter(range(4, 21), noiseless2nd, label = \"k=2\")\n",
    "plt.scatter(range(4, 21), noiseless4th, label = \"k=4\")\n",
    "plt.scatter(range(4, 21), noiseless6th, label = \"k=6\")\n",
    "\n",
    "plt.title(\"Noiseless Evaluation of the Compiled Product Formula Circuits\")\n",
    "\n",
    "plt.xticks(range(4, 21, 2))\n",
    "\n",
    "plt.legend(loc='bottom right')\n",
    "\n",
    "plt.xlabel(\"Number of Trotter Steps\")\n",
    "plt.ylabel(\"Average Fidelity\")\n",
    "\n",
    "plt.show()"
   ]
  },
  {
   "cell_type": "code",
   "execution_count": null,
   "metadata": {},
   "outputs": [],
   "source": [
    "plt.scatter(range(4, 21), uncnoiseless1st,  label = \"k=1\")\n",
    "plt.scatter(range(4, 21), uncnoiseless2nd, label = \"k=2\")\n",
    "plt.scatter(range(4, 21), uncnoiseless4th, label = \"k=4\")\n",
    "plt.scatter(range(4, 21), uncnoiseless6th, label = \"k=6\")\n",
    "\n",
    "plt.title(\"Noiseless Evaluation of the Uncompiled Product Formula Circuits\")\n",
    "\n",
    "plt.xticks(range(4, 21, 2))\n",
    "\n",
    "plt.legend(loc='bottom right')\n",
    "\n",
    "plt.xlabel(\"Number of Trotter Steps\")\n",
    "plt.ylabel(\"Average Fidelity\")\n",
    "\n",
    "plt.show()"
   ]
  },
  {
   "cell_type": "markdown",
   "metadata": {},
   "source": [
    "## Noisy Simulations"
   ]
  },
  {
   "cell_type": "markdown",
   "metadata": {},
   "source": [
    "### Jakarta Simulation w/o Compilation"
   ]
  },
  {
   "cell_type": "code",
   "execution_count": 4,
   "metadata": {
    "scrolled": true
   },
   "outputs": [
    {
     "name": "stdout",
     "output_type": "stream",
     "text": [
      "4 Trotterization steps\n",
      "state tomography fidelity = 0.0236 ± 0.0023\n",
      "5 Trotterization steps\n",
      "state tomography fidelity = 0.1935 ± 0.0027\n",
      "6 Trotterization steps\n",
      "state tomography fidelity = 0.3730 ± 0.0035\n",
      "7 Trotterization steps\n",
      "state tomography fidelity = 0.4555 ± 0.0016\n",
      "8 Trotterization steps\n",
      "state tomography fidelity = 0.4795 ± 0.0037\n",
      "9 Trotterization steps\n",
      "state tomography fidelity = 0.4796 ± 0.0032\n",
      "10 Trotterization steps\n",
      "state tomography fidelity = 0.4694 ± 0.0024\n",
      "11 Trotterization steps\n",
      "state tomography fidelity = 0.4488 ± 0.0023\n",
      "12 Trotterization steps\n",
      "state tomography fidelity = 0.4304 ± 0.0031\n",
      "13 Trotterization steps\n",
      "state tomography fidelity = 0.4093 ± 0.0035\n",
      "14 Trotterization steps\n",
      "state tomography fidelity = 0.3908 ± 0.0045\n",
      "15 Trotterization steps\n",
      "state tomography fidelity = 0.3740 ± 0.0028\n",
      "16 Trotterization steps\n",
      "state tomography fidelity = 0.3590 ± 0.0031\n",
      "17 Trotterization steps\n",
      "state tomography fidelity = 0.3393 ± 0.0028\n",
      "18 Trotterization steps\n",
      "state tomography fidelity = 0.3275 ± 0.0037\n",
      "19 Trotterization steps\n",
      "state tomography fidelity = 0.3115 ± 0.0037\n",
      "20 Trotterization steps\n",
      "state tomography fidelity = 0.2989 ± 0.0027\n"
     ]
    }
   ],
   "source": [
    "unc_second_order_noisy_jakarta = product_experiment(np.pi, order = 1, min_steps = 4, max_steps = 20, backend = noisy_jakarta, repetitions = 5, compiler = False, verbose = False)"
   ]
  },
  {
   "cell_type": "markdown",
   "metadata": {},
   "source": [
    "### Jakarta Simulations"
   ]
  },
  {
   "cell_type": "code",
   "execution_count": 5,
   "metadata": {
    "scrolled": true
   },
   "outputs": [
    {
     "name": "stdout",
     "output_type": "stream",
     "text": [
      "4 Trotterization steps\n",
      "state tomography fidelity = 0.0371 ± 0.0009\n",
      "5 Trotterization steps\n",
      "state tomography fidelity = 0.2027 ± 0.0020\n",
      "6 Trotterization steps\n",
      "state tomography fidelity = 0.4114 ± 0.0014\n",
      "7 Trotterization steps\n",
      "state tomography fidelity = 0.5308 ± 0.0024\n",
      "8 Trotterization steps\n",
      "state tomography fidelity = 0.5942 ± 0.0027\n",
      "9 Trotterization steps\n",
      "state tomography fidelity = 0.6433 ± 0.0018\n",
      "10 Trotterization steps\n",
      "state tomography fidelity = 0.6493 ± 0.0026\n",
      "11 Trotterization steps\n",
      "state tomography fidelity = 0.6525 ± 0.0032\n",
      "12 Trotterization steps\n",
      "state tomography fidelity = 0.6836 ± 0.0021\n",
      "13 Trotterization steps\n",
      "state tomography fidelity = 0.6851 ± 0.0025\n",
      "14 Trotterization steps\n",
      "state tomography fidelity = 0.6914 ± 0.0032\n",
      "15 Trotterization steps\n",
      "state tomography fidelity = 0.6670 ± 0.0026\n",
      "16 Trotterization steps\n",
      "state tomography fidelity = 0.6699 ± 0.0027\n",
      "17 Trotterization steps\n",
      "state tomography fidelity = 0.6712 ± 0.0018\n",
      "18 Trotterization steps\n",
      "state tomography fidelity = 0.6642 ± 0.0029\n",
      "19 Trotterization steps\n",
      "state tomography fidelity = 0.6691 ± 0.0022\n",
      "20 Trotterization steps\n",
      "state tomography fidelity = 0.6735 ± 0.0027\n"
     ]
    }
   ],
   "source": [
    "first_order_noisy_jakarta = product_experiment(np.pi, order = 1, min_steps = 4, max_steps = 20, backend = noisy_jakarta, repetitions = 5, compiler = True, verbose = False)"
   ]
  },
  {
   "cell_type": "code",
   "execution_count": 6,
   "metadata": {
    "scrolled": true
   },
   "outputs": [
    {
     "name": "stdout",
     "output_type": "stream",
     "text": [
      "4 Trotterization steps\n",
      "state tomography fidelity = 0.0398 ± 0.0011\n",
      "5 Trotterization steps\n",
      "state tomography fidelity = 0.2103 ± 0.0038\n",
      "6 Trotterization steps\n",
      "state tomography fidelity = 0.4190 ± 0.0034\n",
      "7 Trotterization steps\n",
      "state tomography fidelity = 0.5349 ± 0.0021\n",
      "8 Trotterization steps\n",
      "state tomography fidelity = 0.6142 ± 0.0031\n",
      "9 Trotterization steps\n",
      "state tomography fidelity = 0.6266 ± 0.0026\n",
      "10 Trotterization steps\n",
      "state tomography fidelity = 0.6421 ± 0.0038\n",
      "11 Trotterization steps\n",
      "state tomography fidelity = 0.6719 ± 0.0011\n",
      "12 Trotterization steps\n",
      "state tomography fidelity = 0.6550 ± 0.0024\n",
      "13 Trotterization steps\n",
      "state tomography fidelity = 0.6584 ± 0.0032\n",
      "14 Trotterization steps\n",
      "state tomography fidelity = 0.6732 ± 0.0031\n",
      "15 Trotterization steps\n",
      "state tomography fidelity = 0.6689 ± 0.0030\n",
      "16 Trotterization steps\n",
      "state tomography fidelity = 0.6617 ± 0.0018\n",
      "17 Trotterization steps\n",
      "state tomography fidelity = 0.6665 ± 0.0023\n",
      "18 Trotterization steps\n",
      "state tomography fidelity = 0.6679 ± 0.0023\n",
      "19 Trotterization steps\n",
      "state tomography fidelity = 0.6650 ± 0.0014\n",
      "20 Trotterization steps\n",
      "state tomography fidelity = 0.6747 ± 0.0024\n"
     ]
    }
   ],
   "source": [
    "second_order_noisy_jakarta = product_experiment(np.pi, order = 2, min_steps = 4, max_steps = 20, backend = noisy_jakarta, repetitions = 5, compiler = True, verbose = False)"
   ]
  },
  {
   "cell_type": "code",
   "execution_count": 7,
   "metadata": {
    "scrolled": true
   },
   "outputs": [
    {
     "name": "stdout",
     "output_type": "stream",
     "text": [
      "4 Trotterization steps\n",
      "state tomography fidelity = 0.7090 ± 0.0025\n",
      "5 Trotterization steps\n",
      "state tomography fidelity = 0.6775 ± 0.0034\n",
      "6 Trotterization steps\n",
      "state tomography fidelity = 0.6782 ± 0.0031\n",
      "7 Trotterization steps\n",
      "state tomography fidelity = 0.6724 ± 0.0025\n",
      "8 Trotterization steps\n",
      "state tomography fidelity = 0.6760 ± 0.0040\n",
      "9 Trotterization steps\n",
      "state tomography fidelity = 0.6678 ± 0.0029\n",
      "10 Trotterization steps\n",
      "state tomography fidelity = 0.6762 ± 0.0019\n",
      "11 Trotterization steps\n",
      "state tomography fidelity = 0.6675 ± 0.0038\n",
      "12 Trotterization steps\n",
      "state tomography fidelity = 0.6691 ± 0.0027\n",
      "13 Trotterization steps\n",
      "state tomography fidelity = 0.6788 ± 0.0011\n",
      "14 Trotterization steps\n",
      "state tomography fidelity = 0.6750 ± 0.0028\n",
      "15 Trotterization steps\n",
      "state tomography fidelity = 0.6694 ± 0.0022\n",
      "16 Trotterization steps\n",
      "state tomography fidelity = 0.6751 ± 0.0016\n",
      "17 Trotterization steps\n",
      "state tomography fidelity = 0.6687 ± 0.0004\n",
      "18 Trotterization steps\n",
      "state tomography fidelity = 0.6721 ± 0.0028\n",
      "19 Trotterization steps\n",
      "state tomography fidelity = 0.6779 ± 0.0008\n",
      "20 Trotterization steps\n",
      "state tomography fidelity = 0.6690 ± 0.0009\n"
     ]
    }
   ],
   "source": [
    "fourth_order_noisy_jakarta = product_experiment(np.pi, order = 4, min_steps = 4, max_steps = 20, backend = noisy_jakarta, repetitions = 3, compiler = True, verbose = False)"
   ]
  },
  {
   "cell_type": "code",
   "execution_count": 5,
   "metadata": {
    "scrolled": true
   },
   "outputs": [
    {
     "name": "stdout",
     "output_type": "stream",
     "text": [
      "4 Trotterization steps\n",
      "state tomography fidelity = 0.6565 ± 0.0017\n",
      "5 Trotterization steps\n",
      "state tomography fidelity = 0.6589 ± 0.0015\n",
      "6 Trotterization steps\n",
      "state tomography fidelity = 0.6584 ± 0.0006\n",
      "7 Trotterization steps\n",
      "state tomography fidelity = 0.6547 ± 0.0014\n",
      "8 Trotterization steps\n",
      "state tomography fidelity = 0.6585 ± 0.0011\n",
      "9 Trotterization steps\n",
      "state tomography fidelity = 0.6554 ± 0.0024\n",
      "10 Trotterization steps\n",
      "state tomography fidelity = 0.6566 ± 0.0017\n",
      "11 Trotterization steps\n",
      "state tomography fidelity = 0.6693 ± 0.0001\n",
      "12 Trotterization steps\n",
      "state tomography fidelity = 0.6650 ± 0.0011\n",
      "13 Trotterization steps\n",
      "state tomography fidelity = 0.6573 ± 0.0008\n",
      "14 Trotterization steps\n",
      "state tomography fidelity = 0.6627 ± 0.0016\n",
      "15 Trotterization steps\n",
      "state tomography fidelity = 0.6486 ± 0.0006\n",
      "16 Trotterization steps\n",
      "state tomography fidelity = 0.6564 ± 0.0020\n",
      "17 Trotterization steps\n",
      "state tomography fidelity = 0.6588 ± 0.0027\n",
      "18 Trotterization steps\n",
      "state tomography fidelity = 0.6509 ± 0.0034\n",
      "19 Trotterization steps\n",
      "state tomography fidelity = 0.6657 ± 0.0010\n",
      "20 Trotterization steps\n",
      "state tomography fidelity = 0.6600 ± 0.0013\n"
     ]
    }
   ],
   "source": [
    "sixth_order_noisy_jakarta = product_experiment(np.pi, order = 6, min_steps = 4, max_steps = 20, backend = noisy_jakarta, repetitions = 3, compiler = True, verbose = False)"
   ]
  },
  {
   "cell_type": "code",
   "execution_count": 10,
   "metadata": {},
   "outputs": [
    {
     "data": {
      "image/png": "[encoded data removed]",
      "text/plain": [
       "<Figure size 432x288 with 1 Axes>"
      ]
     },
     "metadata": {
      "needs_background": "light"
     },
     "output_type": "display_data"
    }
   ],
   "source": [
    "plt.scatter(range(4, 21), first_order_noisy_jakarta,  label = \"k = 1\")\n",
    "plt.scatter(range(4, 21), second_order_noisy_jakarta, label = \"k = 2\")\n",
    "plt.scatter(range(4, 21), fourth_order_noisy_jakarta, label = \"k = 4\")\n",
    "plt.scatter(range(4, 21), sixth_order_noisy_jakarta, label = \"k = 6\")\n",
    "plt.scatter(range(4, 21), unc_second_order_noisy_jakarta, label = \"Uncompiled k = 1\")\n",
    "\n",
    "plt.title(\"Evaluation of the Compiled Product Formula Circuits\")\n",
    "\n",
    "plt.xticks(range(4, 21, 2))\n",
    "\n",
    "plt.legend(loc='bottom right')\n",
    "\n",
    "plt.xlabel(\"Number of Trotter Steps\")\n",
    "plt.ylabel(\"Average Fidelity\")\n",
    "\n",
    "plt.show()"
   ]
  },
  {
   "cell_type": "markdown",
   "metadata": {},
   "source": [
    "### Manila Simulations"
   ]
  },
  {
   "cell_type": "code",
   "execution_count": 12,
   "metadata": {
    "scrolled": true
   },
   "outputs": [
    {
     "name": "stdout",
     "output_type": "stream",
     "text": [
      "4 Trotterization steps\n",
      "state tomography fidelity = 0.0194 ± 0.0013\n",
      "5 Trotterization steps\n",
      "state tomography fidelity = 0.1871 ± 0.0013\n",
      "6 Trotterization steps\n",
      "state tomography fidelity = 0.3603 ± 0.0022\n",
      "7 Trotterization steps\n",
      "state tomography fidelity = 0.4492 ± 0.0047\n",
      "8 Trotterization steps\n",
      "state tomography fidelity = 0.4742 ± 0.0013\n",
      "9 Trotterization steps\n",
      "state tomography fidelity = 0.4749 ± 0.0022\n",
      "10 Trotterization steps\n",
      "state tomography fidelity = 0.4661 ± 0.0026\n",
      "11 Trotterization steps\n",
      "state tomography fidelity = 0.4512 ± 0.0018\n",
      "12 Trotterization steps\n",
      "state tomography fidelity = 0.4328 ± 0.0033\n",
      "13 Trotterization steps\n",
      "state tomography fidelity = 0.4143 ± 0.0024\n",
      "14 Trotterization steps\n",
      "state tomography fidelity = 0.3986 ± 0.0025\n",
      "15 Trotterization steps\n",
      "state tomography fidelity = 0.3791 ± 0.0029\n",
      "16 Trotterization steps\n",
      "state tomography fidelity = 0.3630 ± 0.0027\n",
      "17 Trotterization steps\n",
      "state tomography fidelity = 0.3460 ± 0.0037\n",
      "18 Trotterization steps\n",
      "state tomography fidelity = 0.3333 ± 0.0024\n",
      "19 Trotterization steps\n",
      "state tomography fidelity = 0.3208 ± 0.0019\n",
      "20 Trotterization steps\n",
      "state tomography fidelity = 0.3071 ± 0.0007\n"
     ]
    }
   ],
   "source": [
    "unc_second_order_noisy_manila = product_experiment(np.pi, order = 2, min_steps = 4, max_steps = 20, backend = noisy_manila, repetitions = 5, compiler = False, verbose = False)"
   ]
  },
  {
   "cell_type": "code",
   "execution_count": 13,
   "metadata": {
    "scrolled": true
   },
   "outputs": [
    {
     "name": "stdout",
     "output_type": "stream",
     "text": [
      "4 Trotterization steps\n",
      "state tomography fidelity = 0.0300 ± 0.0007\n",
      "5 Trotterization steps\n",
      "state tomography fidelity = 0.1971 ± 0.0029\n",
      "6 Trotterization steps\n",
      "state tomography fidelity = 0.4118 ± 0.0015\n",
      "7 Trotterization steps\n",
      "state tomography fidelity = 0.5340 ± 0.0041\n",
      "8 Trotterization steps\n",
      "state tomography fidelity = 0.5978 ± 0.0025\n",
      "9 Trotterization steps\n",
      "state tomography fidelity = 0.6451 ± 0.0023\n",
      "10 Trotterization steps\n",
      "state tomography fidelity = 0.6572 ± 0.0014\n",
      "11 Trotterization steps\n",
      "state tomography fidelity = 0.6540 ± 0.0006\n",
      "12 Trotterization steps\n",
      "state tomography fidelity = 0.6909 ± 0.0031\n",
      "13 Trotterization steps\n",
      "state tomography fidelity = 0.6888 ± 0.0014\n",
      "14 Trotterization steps\n",
      "state tomography fidelity = 0.6960 ± 0.0010\n",
      "15 Trotterization steps\n",
      "state tomography fidelity = 0.6729 ± 0.0019\n",
      "16 Trotterization steps\n",
      "state tomography fidelity = 0.6750 ± 0.0033\n",
      "17 Trotterization steps\n",
      "state tomography fidelity = 0.6727 ± 0.0037\n",
      "18 Trotterization steps\n",
      "state tomography fidelity = 0.6693 ± 0.0013\n",
      "19 Trotterization steps\n",
      "state tomography fidelity = 0.6735 ± 0.0024\n",
      "20 Trotterization steps\n",
      "state tomography fidelity = 0.6753 ± 0.0024\n"
     ]
    }
   ],
   "source": [
    "first_order_noisy_manila = product_experiment(np.pi, order = 1, min_steps = 4, max_steps = 20, backend = noisy_manila, repetitions = 5, compiler = True, verbose = False)"
   ]
  },
  {
   "cell_type": "code",
   "execution_count": 14,
   "metadata": {
    "scrolled": true
   },
   "outputs": [
    {
     "name": "stdout",
     "output_type": "stream",
     "text": [
      "4 Trotterization steps\n",
      "state tomography fidelity = 0.0338 ± 0.0014\n",
      "5 Trotterization steps\n",
      "state tomography fidelity = 0.2054 ± 0.0020\n",
      "6 Trotterization steps\n",
      "state tomography fidelity = 0.4135 ± 0.0034\n",
      "7 Trotterization steps\n",
      "state tomography fidelity = 0.5324 ± 0.0013\n",
      "8 Trotterization steps\n",
      "state tomography fidelity = 0.6150 ± 0.0022\n",
      "9 Trotterization steps\n",
      "state tomography fidelity = 0.6247 ± 0.0021\n",
      "10 Trotterization steps\n",
      "state tomography fidelity = 0.6425 ± 0.0025\n",
      "11 Trotterization steps\n",
      "state tomography fidelity = 0.6766 ± 0.0028\n",
      "12 Trotterization steps\n",
      "state tomography fidelity = 0.6571 ± 0.0026\n",
      "13 Trotterization steps\n",
      "state tomography fidelity = 0.6607 ± 0.0018\n",
      "14 Trotterization steps\n",
      "state tomography fidelity = 0.6746 ± 0.0016\n",
      "15 Trotterization steps\n",
      "state tomography fidelity = 0.6701 ± 0.0038\n",
      "16 Trotterization steps\n",
      "state tomography fidelity = 0.6651 ± 0.0029\n",
      "17 Trotterization steps\n",
      "state tomography fidelity = 0.6718 ± 0.0011\n",
      "18 Trotterization steps\n",
      "state tomography fidelity = 0.6695 ± 0.0020\n",
      "19 Trotterization steps\n",
      "state tomography fidelity = 0.6691 ± 0.0030\n",
      "20 Trotterization steps\n",
      "state tomography fidelity = 0.6759 ± 0.0020\n"
     ]
    }
   ],
   "source": [
    "second_order_noisy_manila = product_experiment(np.pi, order = 2, min_steps = 4, max_steps = 20, backend = noisy_manila, repetitions = 5, compiler = True, verbose = False)"
   ]
  },
  {
   "cell_type": "code",
   "execution_count": 15,
   "metadata": {
    "scrolled": true
   },
   "outputs": [
    {
     "name": "stdout",
     "output_type": "stream",
     "text": [
      "4 Trotterization steps\n",
      "state tomography fidelity = 0.7126 ± 0.0007\n",
      "5 Trotterization steps\n",
      "state tomography fidelity = 0.6800 ± 0.0009\n",
      "6 Trotterization steps\n",
      "state tomography fidelity = 0.6811 ± 0.0030\n",
      "7 Trotterization steps\n",
      "state tomography fidelity = 0.6775 ± 0.0018\n",
      "8 Trotterization steps\n",
      "state tomography fidelity = 0.6772 ± 0.0032\n",
      "9 Trotterization steps\n",
      "state tomography fidelity = 0.6720 ± 0.0009\n",
      "10 Trotterization steps\n",
      "state tomography fidelity = 0.6778 ± 0.0009\n",
      "11 Trotterization steps\n",
      "state tomography fidelity = 0.6715 ± 0.0025\n",
      "12 Trotterization steps\n",
      "state tomography fidelity = 0.6754 ± 0.0028\n",
      "13 Trotterization steps\n",
      "state tomography fidelity = 0.6782 ± 0.0028\n",
      "14 Trotterization steps\n",
      "state tomography fidelity = 0.6744 ± 0.0023\n",
      "15 Trotterization steps\n",
      "state tomography fidelity = 0.6727 ± 0.0022\n",
      "16 Trotterization steps\n",
      "state tomography fidelity = 0.6783 ± 0.0018\n",
      "17 Trotterization steps\n",
      "state tomography fidelity = 0.6757 ± 0.0022\n",
      "18 Trotterization steps\n",
      "state tomography fidelity = 0.6755 ± 0.0013\n",
      "19 Trotterization steps\n",
      "state tomography fidelity = 0.6819 ± 0.0017\n",
      "20 Trotterization steps\n",
      "state tomography fidelity = 0.6782 ± 0.0019\n"
     ]
    }
   ],
   "source": [
    "fourth_order_noisy_manila = product_experiment(np.pi, order = 4, min_steps = 4, max_steps = 20, backend = noisy_manila, repetitions = 5, compiler = True, verbose = False)"
   ]
  },
  {
   "cell_type": "code",
   "execution_count": 11,
   "metadata": {
    "scrolled": true
   },
   "outputs": [
    {
     "name": "stdout",
     "output_type": "stream",
     "text": [
      "4 Trotterization steps\n",
      "state tomography fidelity = 0.6635 ± 0.0010\n",
      "5 Trotterization steps\n",
      "state tomography fidelity = 0.6677 ± 0.0035\n",
      "6 Trotterization steps\n",
      "state tomography fidelity = 0.6660 ± 0.0015\n",
      "7 Trotterization steps\n",
      "state tomography fidelity = 0.6643 ± 0.0017\n",
      "8 Trotterization steps\n",
      "state tomography fidelity = 0.6673 ± 0.0024\n",
      "9 Trotterization steps\n",
      "state tomography fidelity = 0.6602 ± 0.0026\n",
      "10 Trotterization steps\n",
      "state tomography fidelity = 0.6653 ± 0.0012\n",
      "11 Trotterization steps\n",
      "state tomography fidelity = 0.6770 ± 0.0032\n",
      "12 Trotterization steps\n",
      "state tomography fidelity = 0.6731 ± 0.0018\n",
      "13 Trotterization steps\n",
      "state tomography fidelity = 0.6682 ± 0.0028\n",
      "14 Trotterization steps\n",
      "state tomography fidelity = 0.6698 ± 0.0021\n",
      "15 Trotterization steps\n",
      "state tomography fidelity = 0.6591 ± 0.0023\n",
      "16 Trotterization steps\n",
      "state tomography fidelity = 0.6661 ± 0.0040\n",
      "17 Trotterization steps\n",
      "state tomography fidelity = 0.6657 ± 0.0016\n",
      "18 Trotterization steps\n",
      "state tomography fidelity = 0.6549 ± 0.0019\n",
      "19 Trotterization steps\n",
      "state tomography fidelity = 0.6715 ± 0.0025\n",
      "20 Trotterization steps\n",
      "state tomography fidelity = 0.6703 ± 0.0022\n"
     ]
    }
   ],
   "source": [
    "sixth_order_noisy_manila = product_experiment(np.pi, order = 6, min_steps = 4, max_steps = 20, backend = noisy_manila, repetitions = 5, compiler = True, verbose = False)"
   ]
  },
  {
   "cell_type": "markdown",
   "metadata": {},
   "source": [
    "### Quito Simulations"
   ]
  },
  {
   "cell_type": "code",
   "execution_count": null,
   "metadata": {},
   "outputs": [],
   "source": [
    "unc_first_order_noisy_quito = product_experiment(np.pi, order = 1, min_steps = 4, max_steps = 20, backend = noisy_quito, repetitions = 5, compiler = False, verbose = False)"
   ]
  },
  {
   "cell_type": "code",
   "execution_count": null,
   "metadata": {},
   "outputs": [],
   "source": [
    "first_order_noisy_quito = product_experiment(np.pi, order = 1, min_steps = 4, max_steps = 20, backend = noisy_quito, repetitions = 5, compiler = True, verbose = False)"
   ]
  },
  {
   "cell_type": "code",
   "execution_count": null,
   "metadata": {},
   "outputs": [],
   "source": [
    "second_order_noisy_quito = product_experiment(np.pi, order = 2, min_steps = 4, max_steps = 20, backend = noisy_quito, repetitions = 5, compiler = True, verbose = False)"
   ]
  },
  {
   "cell_type": "code",
   "execution_count": null,
   "metadata": {},
   "outputs": [],
   "source": [
    "fourth_order_noisy_quito = product_experiment(np.pi, order = 4, min_steps = 4, max_steps = 20, backend = noisy_quito, repetitions = 5, compiler = True, verbose = False)"
   ]
  },
  {
   "cell_type": "code",
   "execution_count": null,
   "metadata": {},
   "outputs": [],
   "source": [
    "sixth_order_noisy_quito = product_experiment(np.pi, order = 6, min_steps = 4, max_steps = 20, backend = noisy_quito, repetitions = 5, compiler = True, verbose = False)"
   ]
  },
  {
   "cell_type": "markdown",
   "metadata": {},
   "source": [
    "# Hardware Evaluation"
   ]
  },
  {
   "cell_type": "markdown",
   "metadata": {},
   "source": [
    "## Quito Chip"
   ]
  },
  {
   "cell_type": "code",
   "execution_count": null,
   "metadata": {},
   "outputs": [],
   "source": [
    "unc_first_order_quito = product_experiment(np.pi, order = 1, min_steps = 4, max_steps = 20, backend = quito, repetitions = 5, compiler = False, verbose = False)"
   ]
  },
  {
   "cell_type": "code",
   "execution_count": null,
   "metadata": {},
   "outputs": [],
   "source": [
    "first_order_quito = product_experiment(np.pi, order = 1, min_steps = 4, max_steps = 20, backend = quito, repetitions = 5, compiler = True, verbose = False)"
   ]
  },
  {
   "cell_type": "code",
   "execution_count": null,
   "metadata": {},
   "outputs": [],
   "source": [
    "second_order_quito = product_experiment(np.pi, order = 2, min_steps = 4, max_steps = 20, backend = quito, repetitions = 5, compiler = True, verbose = False)"
   ]
  },
  {
   "cell_type": "code",
   "execution_count": null,
   "metadata": {},
   "outputs": [],
   "source": [
    "fourth_order_quito = product_experiment(np.pi, order = 4, min_steps = 4, max_steps = 20, backend = quito, repetitions = 5, compiler = True, verbose = False)"
   ]
  },
  {
   "cell_type": "code",
   "execution_count": null,
   "metadata": {},
   "outputs": [],
   "source": [
    "sixth_order_quito = product_experiment(np.pi, order = 6, min_steps = 4, max_steps = 20, backend = quito, repetitions = 5, compiler = True, verbose = False)"
   ]
  }
 ],
 "metadata": {
  "kernelspec": {
   "display_name": "Python 3",
   "language": "python",
   "name": "python3"
  },
  "language_info": {
   "codemirror_mode": {
    "name": "ipython",
    "version": 3
   },
   "file_extension": ".py",
   "mimetype": "text/x-python",
   "name": "python",
   "nbconvert_exporter": "python",
   "pygments_lexer": "ipython3",
   "version": "3.7.1"
  }
 },
 "nbformat": 4,
 "nbformat_minor": 2
}
