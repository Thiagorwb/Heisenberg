{
 "cells": [
  {
   "cell_type": "markdown",
   "metadata": {},
   "source": [
    "## Imports"
   ]
  },
  {
   "cell_type": "code",
   "execution_count": 1,
   "metadata": {},
   "outputs": [],
   "source": [
    "import os, sys\n",
    "\n",
    "p = os.path.abspath('.')\n",
    "sys.path.insert(1, p)"
   ]
  },
  {
   "cell_type": "code",
   "execution_count": 2,
   "metadata": {
    "scrolled": true
   },
   "outputs": [
    {
     "ename": "ModuleNotFoundError",
     "evalue": "No module named 'package'",
     "output_type": "error",
     "traceback": [
      "\u001b[0;31m---------------------------------------------------------------------------\u001b[0m",
      "\u001b[0;31mModuleNotFoundError\u001b[0m                       Traceback (most recent call last)",
      "\u001b[0;32m<ipython-input-2-7086ab453eca>\u001b[0m in \u001b[0;36m<module>\u001b[0;34m\u001b[0m\n\u001b[0;32m----> 1\u001b[0;31m \u001b[0;32mfrom\u001b[0m \u001b[0mpackage\u001b[0m \u001b[0;32mimport\u001b[0m \u001b[0;34m*\u001b[0m\u001b[0;34m\u001b[0m\u001b[0;34m\u001b[0m\u001b[0m\n\u001b[0m",
      "\u001b[0;31mModuleNotFoundError\u001b[0m: No module named 'package'"
     ]
    }
   ],
   "source": [
    "from package import *"
   ]
  },
  {
   "cell_type": "code",
   "execution_count": 3,
   "metadata": {},
   "outputs": [
    {
     "data": {
      "text/plain": [
       "['',\n",
       " '/Users/thiagobergamaschi/Documents/Berkeley/ibm/Heisenberg/code/project/experiments',\n",
       " '/Users/thiagobergamaschi/Documents/Berkeley/ibm/Heisenberg/code/project/experiments',\n",
       " '/Library/Frameworks/Python.framework/Versions/3.7/lib/python37.zip',\n",
       " '/Library/Frameworks/Python.framework/Versions/3.7/lib/python3.7',\n",
       " '/Library/Frameworks/Python.framework/Versions/3.7/lib/python3.7/lib-dynload',\n",
       " '/Library/Frameworks/Python.framework/Versions/3.7/lib/python3.7/site-packages',\n",
       " '/Library/Frameworks/Python.framework/Versions/3.7/lib/python3.7/site-packages/IPython/extensions',\n",
       " '/Users/thiagobergamaschi/.ipython']"
      ]
     },
     "execution_count": 3,
     "metadata": {},
     "output_type": "execute_result"
    }
   ],
   "source": [
    "sys.path"
   ]
  },
  {
   "cell_type": "code",
   "execution_count": 39,
   "metadata": {},
   "outputs": [],
   "source": [
    "# providers and backends\n",
    "provider1 = IBMQ.load_account()\n",
    "provider1 = IBMQ.get_provider(hub='ibm-q-community', group='ibmquantumawards', project='open-science-22')\n",
    "jakarta = provider1.get_backend('ibmq_jakarta')\n",
    "provider2 = IBMQ.get_provider(hub='ibm-q', group='open', project='main')\n",
    "quito = provider2.get_backend('ibmq_quito')\n",
    "manila = provider2.get_backend('ibmq_manila')\n",
    "\n",
    "# simulators\n",
    "noisy_jakarta = QasmSimulator.from_backend(jakarta)\n",
    "noisy_quito = QasmSimulator.from_backend(quito)\n",
    "noisy_manila = QasmSimulator.from_backend(manila)\n",
    "\n",
    "# manila and quito have the same set of native gates\n",
    "basis = jakarta.configuration().basis_gates"
   ]
  },
  {
   "cell_type": "markdown",
   "metadata": {},
   "source": [
    "# Brickwork Architecture Experiments"
   ]
  },
  {
   "cell_type": "code",
   "execution_count": 40,
   "metadata": {},
   "outputs": [
    {
     "name": "stdout",
     "output_type": "stream",
     "text": [
      "The Initial Brickwork Circuit OrderedDict([('u3', 285), ('cx', 45)])\n",
      "The Compiled Circuit OrderedDict([('u', 285), ('cx', 45)])\n",
      "Job ID dd58d2f8-4e49-4353-9631-7331b141ebe6\n",
      "Job ID 4ba523f9-a1e6-4322-ae7b-c90c7cd7c2fb\n",
      "Job ID 4e036c52-f96e-4f3d-9b42-269d5f3af331\n",
      "state tomography fidelity = 0.9937 ± 0.0006\n"
     ]
    },
    {
     "data": {
      "text/plain": [
       "0.9937307758113882"
      ]
     },
     "execution_count": 40,
     "metadata": {},
     "output_type": "execute_result"
    }
   ],
   "source": [
    "# size, time, number trotter steps, backend\n",
    "test_brickwork(4, np.pi, 5, sim, verbose = True)"
   ]
  },
  {
   "cell_type": "markdown",
   "metadata": {},
   "source": [
    "### Size Experiments"
   ]
  },
  {
   "cell_type": "code",
   "execution_count": 41,
   "metadata": {},
   "outputs": [],
   "source": [
    "# Evaluating the fidelity in terms of the number of qubits"
   ]
  },
  {
   "cell_type": "code",
   "execution_count": 42,
   "metadata": {},
   "outputs": [
    {
     "name": "stdout",
     "output_type": "stream",
     "text": [
      "state tomography fidelity = 0.8792 ± 0.0014\n",
      "4  Trotter steps, fidelity  0.8792399979278226\n",
      "The fidelity for the  2 qubit experiment was  0.8792399979278226  at  4 trotter steps\n",
      "state tomography fidelity = 0.7795 ± 0.0022\n",
      "4  Trotter steps, fidelity  0.7795451021222846\n",
      "The fidelity for the  3 qubit experiment was  0.7795451021222846  at  4 trotter steps\n",
      "state tomography fidelity = 0.3841 ± 0.0021\n",
      "4  Trotter steps, fidelity  0.3841464600622788\n",
      "The fidelity for the  4 qubit experiment was  0.3841464600622788  at  4 trotter steps\n",
      "state tomography fidelity = 0.2947 ± 0.0009\n",
      "4  Trotter steps, fidelity  0.29472851007032275\n",
      "The fidelity for the  5 qubit experiment was  0.29472851007032275  at  4 trotter steps\n"
     ]
    },
    {
     "data": {
      "text/plain": [
       "[0.8792399979278226,\n",
       " 0.7795451021222846,\n",
       " 0.3841464600622788,\n",
       " 0.29472851007032275]"
      ]
     },
     "execution_count": 42,
     "metadata": {},
     "output_type": "execute_result"
    }
   ],
   "source": [
    "# max size, min size, time, min number trotter steps, max number trotter steps, backend\n",
    "size_experiment(5, 2, time = np.pi, min_steps = 4, max_steps = 4, backend = noisy_quito, verbose = False)"
   ]
  },
  {
   "cell_type": "code",
   "execution_count": 43,
   "metadata": {},
   "outputs": [
    {
     "name": "stdout",
     "output_type": "stream",
     "text": [
      "state tomography fidelity = 0.8112 ± 0.0050\n",
      "4  Trotter steps, fidelity  0.8112139733233269\n",
      "The fidelity for the  2 qubit experiment was  0.8112139733233269  at  4 trotter steps\n",
      "state tomography fidelity = 0.6637 ± 0.0019\n",
      "4  Trotter steps, fidelity  0.6637073966068527\n",
      "The fidelity for the  3 qubit experiment was  0.6637073966068527  at  4 trotter steps\n",
      "state tomography fidelity = 0.5730 ± 0.0018\n",
      "4  Trotter steps, fidelity  0.5730339083630024\n",
      "The fidelity for the  4 qubit experiment was  0.5730339083630024  at  4 trotter steps\n",
      "state tomography fidelity = 0.5199 ± 0.0001\n",
      "4  Trotter steps, fidelity  0.5199335279999032\n",
      "The fidelity for the  5 qubit experiment was  0.5199335279999032  at  4 trotter steps\n"
     ]
    },
    {
     "data": {
      "text/plain": [
       "[0.8112139733233269,\n",
       " 0.6637073966068527,\n",
       " 0.5730339083630024,\n",
       " 0.5199335279999032]"
      ]
     },
     "execution_count": 43,
     "metadata": {},
     "output_type": "execute_result"
    }
   ],
   "source": [
    "# max size, min size, time, min number trotter steps, max number trotter steps, backend\n",
    "size_experiment(5, 2, time = np.pi, min_steps = 4, max_steps = 4, backend = noisy_manila, verbose = False)"
   ]
  },
  {
   "cell_type": "code",
   "execution_count": null,
   "metadata": {},
   "outputs": [],
   "source": []
  }
 ],
 "metadata": {
  "kernelspec": {
   "display_name": "Python 3",
   "language": "python",
   "name": "python3"
  },
  "language_info": {
   "codemirror_mode": {
    "name": "ipython",
    "version": 3
   },
   "file_extension": ".py",
   "mimetype": "text/x-python",
   "name": "python",
   "nbconvert_exporter": "python",
   "pygments_lexer": "ipython3",
   "version": "3.7.1"
  }
 },
 "nbformat": 4,
 "nbformat_minor": 2
}
