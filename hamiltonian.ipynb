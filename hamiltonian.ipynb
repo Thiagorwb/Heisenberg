{
 "cells": [
  {
   "cell_type": "code",
   "execution_count": 21,
   "metadata": {},
   "outputs": [
    {
     "name": "stdout",
     "output_type": "stream",
     "text": [
      "importing Jupyter notebook from gates.ipynb\n"
     ]
    }
   ],
   "source": [
    "import import_ipynb\n",
    "from libraries import *\n",
    "from md import *\n",
    "from gates import *"
   ]
  },
  {
   "cell_type": "code",
   "execution_count": 2,
   "metadata": {},
   "outputs": [],
   "source": [
    "# IBM code, Returns the matrix representation of the XXX Heisenberg model for 3 spin-1/2 particles in a line\n",
    "def H_heis3():\n",
    "    # Interactions (I is the identity matrix; X, Y, and Z are Pauli matricies; ^ is a tensor product)\n",
    "    XXs = (I^X^X) + (X^X^I)\n",
    "    YYs = (I^Y^Y) + (Y^Y^I)\n",
    "    ZZs = (I^Z^Z) + (Z^Z^I)\n",
    "    \n",
    "    # Sum interactions\n",
    "    H = XXs + YYs + ZZs\n",
    "    \n",
    "    # Return Hamiltonian\n",
    "    return H"
   ]
  },
  {
   "cell_type": "code",
   "execution_count": 3,
   "metadata": {},
   "outputs": [],
   "source": [
    "#IBM code\n",
    "\n",
    "# Returns the matrix representation of U_heis3(t) for a given time t assuming an XXX Heisenberg Hamiltonian for 3 spins-1/2 particles in a line\n",
    "def U_heis3(t):\n",
    "    # Compute XXX Hamiltonian for 3 spins in a line\n",
    "    H = H_heis3()\n",
    "    \n",
    "    # Return the exponential of -i multipled by time t multipled by the 3 spin XXX Heisenberg Hamilonian \n",
    "    return (t * H).exp_i()"
   ]
  },
  {
   "cell_type": "code",
   "execution_count": 4,
   "metadata": {},
   "outputs": [],
   "source": [
    "def H_12():\n",
    "\n",
    "    # Sum interactions\n",
    "    H = (X^X) + (Y^Y) + (Z^Z)\n",
    "    # Return Hamiltonian\n",
    "    return H"
   ]
  },
  {
   "cell_type": "code",
   "execution_count": 5,
   "metadata": {},
   "outputs": [],
   "source": [
    "def U_12(t):\n",
    "    # Compute XXX Hamiltonian for 3 spins in a line\n",
    "    H = H_12()\n",
    "    \n",
    "    # Return the exponential of -i multipled by time t multipled by the 3 spin XXX Heisenberg Hamilonian \n",
    "    return (t * H).exp_i()"
   ]
  },
  {
   "cell_type": "code",
   "execution_count": null,
   "metadata": {},
   "outputs": [],
   "source": []
  },
  {
   "cell_type": "code",
   "execution_count": 6,
   "metadata": {},
   "outputs": [],
   "source": [
    "def Heis(n):\n",
    "    \n",
    "    dim = 2**n\n",
    "    H = np.zeros((dim, dim), dtype=np.complex_)\n",
    "    H12 = H_12().to_matrix()\n",
    "        \n",
    "    for i in range(n - 1):\n",
    "        back = np.identity(2**(n - 2 - i ))\n",
    "        front = np.identity(2**( i))\n",
    "        term = np.kron(front, np.kron(H12, back))\n",
    "        H += term\n",
    "        \n",
    "    return H"
   ]
  },
  {
   "cell_type": "code",
   "execution_count": 20,
   "metadata": {},
   "outputs": [
    {
     "data": {
      "text/plain": [
       "array([ 0.        +0.j, -0.        -0.j,  0.        +0.j, -0.40824829-0.j,\n",
       "        0.57735027+0.j,  0.70710678+0.j,  0.        +0.j,  0.        +0.j])"
      ]
     },
     "execution_count": 20,
     "metadata": {},
     "output_type": "execute_result"
    }
   ],
   "source": [
    "V, d = diagonalize(Heis(3))\n",
    "V[1]"
   ]
  },
  {
   "cell_type": "markdown",
   "metadata": {},
   "source": [
    "# Classical Simulation"
   ]
  },
  {
   "cell_type": "code",
   "execution_count": 8,
   "metadata": {},
   "outputs": [],
   "source": [
    "def prepare_state(t):\n",
    "    if t == np.pi:\n",
    "        return (One^One^Zero)\n",
    "    # Define initial state |110>\n",
    "    initial_state = One^One^Zero\n",
    "    return (U_heis3(float(t)) @ initial_state).eval()"
   ]
  },
  {
   "cell_type": "code",
   "execution_count": 9,
   "metadata": {},
   "outputs": [
    {
     "data": {
      "text/plain": [
       "array([ 0.        +0.j        ,  0.        +0.j        ,\n",
       "        0.        +0.j        , -0.66666667-0.33333333j,\n",
       "        0.        +0.j        ,  0.33333333-0.33333333j,\n",
       "        0.33333333-0.33333333j,  0.        +0.j        ])"
      ]
     },
     "execution_count": 9,
     "metadata": {},
     "output_type": "execute_result"
    }
   ],
   "source": [
    "#prepare_state(np.pi/4).to_matrix()"
   ]
  },
  {
   "cell_type": "code",
   "execution_count": 11,
   "metadata": {},
   "outputs": [
    {
     "data": {
      "text/plain": [
       "\"#IBM code\\n\\n# Define array of time points\\nts = np.linspace(0, np.pi, 100)\\n\\n# Define initial state |110>\\ninitial_state = One^One^Zero\\n\\n# Compute probability of remaining in |110> state over the array of time points\\n # ~initial_state gives the bra of the initial state (<110|)\\n # @ is short hand for matrix multiplication\\n # U_heis3(t) is the unitary time evolution at time t\\n # t needs to be wrapped with float(t) to avoid a bug\\n # (...).eval() returns the inner product <110|U_heis3(t)|110>\\n #  np.abs(...)**2 is the modulus squared of the innner product which is the expectation value, or probability, of remaining in |110>\\nprobs_110 = [np.abs((~initial_state @ U_heis3(float(t)) @ initial_state).eval())**2 for t in ts]\\n\\n# Plot evolution of |110>\\nplt.plot(ts, probs_110)\\nplt.xlabel('time')\\nplt.ylabel(r'probability of state $|110\\rangle$')\\nplt.title(r'Evolution of state $|110\\rangle$ under $H_{Heis3}$')\\nplt.grid()\\nplt.show()\""
      ]
     },
     "execution_count": 11,
     "metadata": {},
     "output_type": "execute_result"
    }
   ],
   "source": [
    "\"\"\"#IBM code\n",
    "\n",
    "# Define array of time points\n",
    "ts = np.linspace(0, np.pi, 100)\n",
    "\n",
    "# Define initial state |110>\n",
    "initial_state = One^One^Zero\n",
    "\n",
    "# Compute probability of remaining in |110> state over the array of time points\n",
    " # ~initial_state gives the bra of the initial state (<110|)\n",
    " # @ is short hand for matrix multiplication\n",
    " # U_heis3(t) is the unitary time evolution at time t\n",
    " # t needs to be wrapped with float(t) to avoid a bug\n",
    " # (...).eval() returns the inner product <110|U_heis3(t)|110>\n",
    " #  np.abs(...)**2 is the modulus squared of the innner product which is the expectation value, or probability, of remaining in |110>\n",
    "probs_110 = [np.abs((~initial_state @ U_heis3(float(t)) @ initial_state).eval())**2 for t in ts]\n",
    "\n",
    "# Plot evolution of |110>\n",
    "plt.plot(ts, probs_110)\n",
    "plt.xlabel('time')\n",
    "plt.ylabel(r'probability of state $|110\\rangle$')\n",
    "plt.title(r'Evolution of state $|110\\rangle$ under $H_{Heis3}$')\n",
    "plt.grid()\n",
    "plt.show()\"\"\""
   ]
  },
  {
   "cell_type": "code",
   "execution_count": 38,
   "metadata": {},
   "outputs": [],
   "source": [
    "def swap_H(n):\n",
    "    swap = Operator(swap_gate()).data\n",
    "    H = np.zeros((2**n, 2**n), dtype=np.complex_)\n",
    "    for i in range(n-1):\n",
    "        front = np.eye(2**(i))\n",
    "        back = np.eye(2**(n - 2 - i))\n",
    "        interaction = 2*swap - np.identity(4)\n",
    "        term =  np.kron(front, np.kron(interaction, back)) \n",
    "        H += term\n",
    "    return H"
   ]
  },
  {
   "cell_type": "code",
   "execution_count": null,
   "metadata": {},
   "outputs": [],
   "source": []
  }
 ],
 "metadata": {
  "kernelspec": {
   "display_name": "Python 3",
   "language": "python",
   "name": "python3"
  },
  "language_info": {
   "codemirror_mode": {
    "name": "ipython",
    "version": 3
   },
   "file_extension": ".py",
   "mimetype": "text/x-python",
   "name": "python",
   "nbconvert_exporter": "python",
   "pygments_lexer": "ipython3",
   "version": "3.7.1"
  }
 },
 "nbformat": 4,
 "nbformat_minor": 2
}
