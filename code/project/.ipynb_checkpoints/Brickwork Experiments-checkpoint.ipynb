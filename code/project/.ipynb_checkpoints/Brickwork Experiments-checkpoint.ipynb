{
 "cells": [
  {
   "cell_type": "code",
   "execution_count": 1,
   "metadata": {},
   "outputs": [],
   "source": [
    "from package import *"
   ]
  },
  {
   "cell_type": "code",
   "execution_count": 2,
   "metadata": {},
   "outputs": [],
   "source": [
    "provider1 = IBMQ.load_account()\n",
    "provider1 = IBMQ.get_provider(hub='ibm-q-community', group='ibmquantumawards', project='open-science-22')\n",
    "jakarta = provider1.get_backend('ibmq_jakarta')\n",
    "provider2 = IBMQ.get_provider(hub='ibm-q', group='open', project='main')\n",
    "quito = provider2.get_backend('ibmq_quito')\n",
    "manila = provider2.get_backend('ibmq_manila')"
   ]
  },
  {
   "cell_type": "code",
   "execution_count": 4,
   "metadata": {},
   "outputs": [],
   "source": [
    "noisy_jakarta = QasmSimulator.from_backend(jakarta)\n",
    "noisy_quito = QasmSimulator.from_backend(quito)\n",
    "noisy_manila = QasmSimulator.from_backend(manila)"
   ]
  },
  {
   "cell_type": "code",
   "execution_count": 5,
   "metadata": {},
   "outputs": [],
   "source": [
    "# manila and quito have the same set of native gates\n",
    "basis = jakarta.configuration().basis_gates"
   ]
  },
  {
   "cell_type": "markdown",
   "metadata": {},
   "source": [
    "# Brickwork Architecture"
   ]
  },
  {
   "cell_type": "code",
   "execution_count": 7,
   "metadata": {
    "scrolled": true
   },
   "outputs": [
    {
     "data": {
      "text/html": [
       "<pre style=\"word-wrap: normal;white-space: pre;background: #fff0;line-height: 1.1;font-family: &quot;Courier New&quot;,Courier,monospace\">      ┌───────────────┐                 \n",
       "q0_0: ┤0              ├─────────────────\n",
       "      │  circuit-2097 │┌───────────────┐\n",
       "q0_1: ┤1              ├┤0              ├\n",
       "      ├───────────────┤│  circuit-2097 │\n",
       "q0_2: ┤0              ├┤1              ├\n",
       "      │  circuit-2097 │├───────────────┤\n",
       "q0_3: ┤1              ├┤0              ├\n",
       "      ├───────────────┤│  circuit-2097 │\n",
       "q0_4: ┤0              ├┤1              ├\n",
       "      │  circuit-2097 │├───────────────┤\n",
       "q0_5: ┤1              ├┤0              ├\n",
       "      ├───────────────┤│  circuit-2097 │\n",
       "q0_6: ┤0              ├┤1              ├\n",
       "      │  circuit-2097 │└───────────────┘\n",
       "q0_7: ┤1              ├─────────────────\n",
       "      └───────────────┘                 </pre>"
      ],
      "text/plain": [
       "      ┌───────────────┐                 \n",
       "q0_0: ┤0              ├─────────────────\n",
       "      │  circuit-2097 │┌───────────────┐\n",
       "q0_1: ┤1              ├┤0              ├\n",
       "      ├───────────────┤│  circuit-2097 │\n",
       "q0_2: ┤0              ├┤1              ├\n",
       "      │  circuit-2097 │├───────────────┤\n",
       "q0_3: ┤1              ├┤0              ├\n",
       "      ├───────────────┤│  circuit-2097 │\n",
       "q0_4: ┤0              ├┤1              ├\n",
       "      │  circuit-2097 │├───────────────┤\n",
       "q0_5: ┤1              ├┤0              ├\n",
       "      ├───────────────┤│  circuit-2097 │\n",
       "q0_6: ┤0              ├┤1              ├\n",
       "      │  circuit-2097 │└───────────────┘\n",
       "q0_7: ┤1              ├─────────────────\n",
       "      └───────────────┘                 "
      ]
     },
     "execution_count": 7,
     "metadata": {},
     "output_type": "execute_result"
    }
   ],
   "source": [
    "# lets take a look: \n",
    "# args: time, num_qubits\n",
    "single_layer(np.pi/4, 8).draw()\n",
    "#single_layer(np.pi/4, 5).decompose().draw()"
   ]
  },
  {
   "cell_type": "markdown",
   "metadata": {},
   "source": [
    "# Calibration"
   ]
  },
  {
   "cell_type": "code",
   "execution_count": 8,
   "metadata": {},
   "outputs": [],
   "source": [
    "num_qubits = 4"
   ]
  },
  {
   "cell_type": "code",
   "execution_count": 9,
   "metadata": {},
   "outputs": [
    {
     "name": "stdout",
     "output_type": "stream",
     "text": [
      "state tomography fidelity = 0.5019 ± 0.0004\n"
     ]
    },
    {
     "data": {
      "text/plain": [
       "0.5018845164133862"
      ]
     },
     "execution_count": 9,
     "metadata": {},
     "output_type": "execute_result"
    }
   ],
   "source": [
    "# args: number of qubits, time, number of trotter steps, backend\n",
    "test_brickwork(num_qubits, np.pi, 8, backend = sim, verbose = False)"
   ]
  },
  {
   "cell_type": "code",
   "execution_count": 6,
   "metadata": {
    "scrolled": true
   },
   "outputs": [
    {
     "name": "stdout",
     "output_type": "stream",
     "text": [
      "4 Trotterization steps\n",
      "state tomography fidelity = 0.0679 ± 0.0004\n",
      "5 Trotterization steps\n",
      "state tomography fidelity = 0.0137 ± 0.0002\n",
      "6 Trotterization steps\n",
      "state tomography fidelity = 0.2117 ± 0.0004\n",
      "7 Trotterization steps\n",
      "state tomography fidelity = 0.4610 ± 0.0004\n",
      "8 Trotterization steps\n",
      "state tomography fidelity = 0.6382 ± 0.0012\n",
      "9 Trotterization steps\n",
      "state tomography fidelity = 0.7494 ± 0.0001\n",
      "10 Trotterization steps\n",
      "state tomography fidelity = 0.8183 ± 0.0007\n",
      "11 Trotterization steps\n",
      "state tomography fidelity = 0.8626 ± 0.0004\n",
      "12 Trotterization steps\n",
      "state tomography fidelity = 0.8932 ± 0.0005\n",
      "13 Trotterization steps\n",
      "state tomography fidelity = 0.9143 ± 0.0005\n",
      "14 Trotterization steps\n",
      "state tomography fidelity = 0.9292 ± 0.0002\n",
      "15 Trotterization steps\n",
      "state tomography fidelity = 0.9392 ± 0.0006\n",
      "\n",
      "\n",
      "4 Trotterization steps\n",
      "state tomography fidelity = 0.1004 ± 0.0013\n",
      "5 Trotterization steps\n",
      "state tomography fidelity = 0.0118 ± 0.0002\n",
      "6 Trotterization steps\n",
      "state tomography fidelity = 0.2032 ± 0.0011\n",
      "7 Trotterization steps\n",
      "state tomography fidelity = 0.3708 ± 0.0021\n",
      "8 Trotterization steps\n",
      "state tomography fidelity = 0.5000 ± 0.0001\n",
      "9 Trotterization steps\n",
      "state tomography fidelity = 0.6063 ± 0.0007\n",
      "10 Trotterization steps\n",
      "state tomography fidelity = 0.6908 ± 0.0005\n",
      "11 Trotterization steps\n",
      "state tomography fidelity = 0.7538 ± 0.0012\n",
      "12 Trotterization steps\n",
      "state tomography fidelity = 0.8010 ± 0.0014\n",
      "13 Trotterization steps\n",
      "state tomography fidelity = 0.8362 ± 0.0014\n",
      "14 Trotterization steps\n",
      "state tomography fidelity = 0.8649 ± 0.0018\n",
      "15 Trotterization steps\n",
      "state tomography fidelity = 0.8869 ± 0.0004\n",
      "\n",
      "\n",
      "4 Trotterization steps\n",
      "state tomography fidelity = 0.0003 ± 0.0004\n",
      "5 Trotterization steps\n",
      "state tomography fidelity = 0.2569 ± 0.0008\n",
      "6 Trotterization steps\n",
      "state tomography fidelity = 0.5720 ± 0.0006\n",
      "7 Trotterization steps\n",
      "state tomography fidelity = 0.7551 ± 0.0010\n",
      "8 Trotterization steps\n",
      "state tomography fidelity = 0.8519 ± 0.0009\n",
      "9 Trotterization steps\n",
      "state tomography fidelity = 0.9066 ± 0.0003\n",
      "10 Trotterization steps\n",
      "state tomography fidelity = 0.9370 ± 0.0017\n",
      "11 Trotterization steps\n",
      "state tomography fidelity = 0.9570 ± 0.0007\n",
      "12 Trotterization steps\n",
      "state tomography fidelity = 0.9685 ± 0.0006\n",
      "13 Trotterization steps\n",
      "state tomography fidelity = 0.9758 ± 0.0014\n",
      "14 Trotterization steps\n",
      "state tomography fidelity = 0.9808 ± 0.0009\n",
      "15 Trotterization steps\n",
      "state tomography fidelity = 0.9841 ± 0.0013\n",
      "\n",
      "\n"
     ]
    }
   ],
   "source": [
    "steps5 = brick_steps_experiment(5, time = np.pi, min_steps = 4, max_steps = 15, backend = sim, verbose = False)\n",
    "steps4 = brick_steps_experiment(4, time = np.pi, min_steps = 4, max_steps = 15, backend = sim, verbose = False)\n",
    "steps3 = brick_steps_experiment(3, time = np.pi, min_steps = 4, max_steps = 15, backend = sim, verbose = False)"
   ]
  },
  {
   "cell_type": "code",
   "execution_count": 7,
   "metadata": {},
   "outputs": [
    {
     "data": {
      "image/png": "[encoded data removed]",
      "text/plain": [
       "<Figure size 432x288 with 1 Axes>"
      ]
     },
     "metadata": {
      "needs_background": "light"
     },
     "output_type": "display_data"
    }
   ],
   "source": [
    "plt.scatter(range(4, 16), steps5, label = '$n=5$')\n",
    "plt.scatter(range(4, 16), steps4, label = '$n=4$')\n",
    "plt.scatter(range(4, 16), steps3, label = '$n=3$')\n",
    "\n",
    "plt.title(\"Noiseless Calibration of the Brickwork Architecture\")\n",
    "\n",
    "plt.xticks(range(4, 16, 2))\n",
    "\n",
    "plt.legend(loc='bottom right')\n",
    "\n",
    "plt.xlabel(\"Number of Trotter Steps\")\n",
    "plt.ylabel(\"Average Fidelity\")\n",
    "\n",
    "plt.show()"
   ]
  },
  {
   "cell_type": "markdown",
   "metadata": {},
   "source": [
    "# Noisy Simulations"
   ]
  },
  {
   "cell_type": "code",
   "execution_count": 10,
   "metadata": {},
   "outputs": [
    {
     "name": "stdout",
     "output_type": "stream",
     "text": [
      "state tomography fidelity = 0.0966 ± 0.0016\n"
     ]
    },
    {
     "data": {
      "text/plain": [
       "0.09661862609124178"
      ]
     },
     "execution_count": 10,
     "metadata": {},
     "output_type": "execute_result"
    }
   ],
   "source": [
    "test_brickwork( 5, np.pi, 8,  noisy_manila, verbose = True)"
   ]
  },
  {
   "cell_type": "code",
   "execution_count": null,
   "metadata": {},
   "outputs": [],
   "source": []
  }
 ],
 "metadata": {
  "kernelspec": {
   "display_name": "Python 3",
   "language": "python",
   "name": "python3"
  },
  "language_info": {
   "codemirror_mode": {
    "name": "ipython",
    "version": 3
   },
   "file_extension": ".py",
   "mimetype": "text/x-python",
   "name": "python",
   "nbconvert_exporter": "python",
   "pygments_lexer": "ipython3",
   "version": "3.7.1"
  }
 },
 "nbformat": 4,
 "nbformat_minor": 2
}
