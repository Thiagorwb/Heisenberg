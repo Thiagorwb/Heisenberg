{
 "cells": [
  {
   "cell_type": "code",
   "execution_count": 1,
   "metadata": {},
   "outputs": [
    {
     "name": "stdout",
     "output_type": "stream",
     "text": [
      "importing Jupyter notebook from libraries.ipynb\n"
     ]
    }
   ],
   "source": [
    "import import_ipynb\n",
    "from libraries import *;"
   ]
  },
  {
   "cell_type": "code",
   "execution_count": 41,
   "metadata": {},
   "outputs": [],
   "source": [
    "token = '6d5832e8a1d529cf3f0b19947f07d2b9b8134f5bc317337efc14f7802b083a370d8080acfcd80a94a4716da1d5a2d5637956199adf059ceb9fd5812d6231a46b'"
   ]
  },
  {
   "cell_type": "code",
   "execution_count": 42,
   "metadata": {},
   "outputs": [],
   "source": [
    "IBMQ.save_account(token, overwrite=True)"
   ]
  },
  {
   "cell_type": "code",
   "execution_count": 51,
   "metadata": {},
   "outputs": [],
   "source": [
    "def fetch_backend(name = 'sim', simulated = True, noisy = False, verbose = False):\n",
    "    \n",
    "    if (not name) or name == 'sim':\n",
    "        if verbose:\n",
    "            print(\"Fetching Simulator\")\n",
    "        return QasmSimulator()\n",
    "    \n",
    "    provider = IBMQ.load_account()\n",
    "    provider = IBMQ.get_provider(hub='ibm-q-community', group='ibmquantumawards', project='open-science-22')\n",
    "    backend = provider.get_backend(name)\n",
    "    \n",
    "    if (not simulated):\n",
    "        if verbose:\n",
    "            print(\"Fetching the Quantum Computer\")\n",
    "        return backend\n",
    "    if simulated or noisy:\n",
    "        if verbose:\n",
    "            print(\"Fetching the Simulator for \", name)\n",
    "        return QasmSimulator.from_backend(backend)"
   ]
  },
  {
   "cell_type": "code",
   "execution_count": 52,
   "metadata": {},
   "outputs": [],
   "source": [
    "def get_basis(backend):\n",
    "    return backend.configuration().basis_gates"
   ]
  },
  {
   "cell_type": "code",
   "execution_count": 53,
   "metadata": {},
   "outputs": [],
   "source": [
    "def get_map(backend):\n",
    "    return backend.configuration().coupling_map"
   ]
  },
  {
   "cell_type": "code",
   "execution_count": null,
   "metadata": {},
   "outputs": [],
   "source": []
  }
 ],
 "metadata": {
  "kernelspec": {
   "display_name": "Python 3",
   "language": "python",
   "name": "python3"
  },
  "language_info": {
   "codemirror_mode": {
    "name": "ipython",
    "version": 3
   },
   "file_extension": ".py",
   "mimetype": "text/x-python",
   "name": "python",
   "nbconvert_exporter": "python",
   "pygments_lexer": "ipython3",
   "version": "3.7.1"
  }
 },
 "nbformat": 4,
 "nbformat_minor": 2
}
