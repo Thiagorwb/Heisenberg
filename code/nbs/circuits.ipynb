{
 "cells": [
  {
   "cell_type": "code",
   "execution_count": 2,
   "metadata": {},
   "outputs": [
    {
     "name": "stdout",
     "output_type": "stream",
     "text": [
      "importing Jupyter notebook from libraries.ipynb\n",
      "importing Jupyter notebook from gates.ipynb\n",
      "importing Jupyter notebook from QSD.ipynb\n",
      "importing Jupyter notebook from gray.ipynb\n",
      "importing Jupyter notebook from md.ipynb\n",
      "importing Jupyter notebook from hamiltonian.ipynb\n"
     ]
    }
   ],
   "source": [
    "import import_ipynb\n",
    "from libraries import *;\n",
    "from gates import *;\n",
    "from QSD import *;\n",
    "from hamiltonian import *;"
   ]
  },
  {
   "cell_type": "code",
   "execution_count": 3,
   "metadata": {},
   "outputs": [],
   "source": [
    "# Noiseless simulated backend\n",
    "sim = QasmSimulator()"
   ]
  },
  {
   "cell_type": "code",
   "execution_count": 4,
   "metadata": {},
   "outputs": [],
   "source": [
    "# Parameterize variable t to be evaluated at t=pi later\n",
    "t = Parameter('t')\n",
    "num_qubits = 3"
   ]
  },
  {
   "cell_type": "code",
   "execution_count": 5,
   "metadata": {},
   "outputs": [],
   "source": [
    "def reveal(instructions, num_qubits):\n",
    "    \"\"\"\n",
    "    Given circuit instructions and size, prints drawing of circuit and circuit parameters\n",
    "    \"\"\"\n",
    "    qr = QuantumRegister(num_qubits)\n",
    "    qc = QuantumCircuit(qr)\n",
    "    qc.append(instructions, qr)\n",
    "    qc = qc.decompose().decompose()\n",
    "    print(qc.decompose().draw())\n",
    "    print(qc.decompose().count_ops())\n",
    "    return\n",
    "    "
   ]
  },
  {
   "cell_type": "code",
   "execution_count": 6,
   "metadata": {},
   "outputs": [],
   "source": [
    "def line(k):\n",
    "     return [[i, i+1] for i in range(k - 1) ] + [[i + 1, i] for i in range(k - 1) ]"
   ]
  },
  {
   "cell_type": "code",
   "execution_count": 55,
   "metadata": {},
   "outputs": [],
   "source": [
    "def basic_trotter(terms = ['x1', 'y1', 'z1', 'x2', 'y2', 'z2'], time = np.pi, num_qubits = 3, qsd = False, name = \"Trot\"):\n",
    "    \"\"\" \n",
    "    Constructs basic trotter decomposition for \\exp[i H_heis t]\n",
    "    Inputs: terms, list of strings, indicating gate sequence\n",
    "            time, float\n",
    "    Returns: QuantumCircuit instructions\n",
    "    expected number of cxs is 12\n",
    "    \"\"\"\n",
    "    \n",
    "    Trot_qr = QuantumRegister(num_qubits)\n",
    "    Trot_qc = QuantumCircuit(Trot_qr, name=name)\n",
    "\n",
    "    for index in terms:\n",
    "        j, i = index[0], int(index[1]) - 1\n",
    "        Trot_qc.append(QQ_gate(j, time = time), [Trot_qr[i], Trot_qr[i+1]])\n",
    "        \n",
    "    if qsd:\n",
    "        Trot_qc = gen_qsd(Operator(Trot_qc).data)\n",
    "        \n",
    "    # Convert custom quantum circuit into a gate\n",
    "    Trot_gate = Trot_qc.to_instruction()\n",
    "    \n",
    "    return Trot_qc"
   ]
  },
  {
   "cell_type": "code",
   "execution_count": 51,
   "metadata": {},
   "outputs": [],
   "source": [
    "def ti_trotter(terms = None, time=np.pi, qsd = False):\n",
    "    Trot_qr = QuantumRegister(num_qubits)\n",
    "    Trot_qc = QuantumCircuit(Trot_qr, name='Trot')\n",
    "    \n",
    "    ti_terms = ['x1', 'y1', 'z1']\n",
    "    ti_evolution = basic_trotter(ti_terms, time, num_qubits = 2, qsd = qsd)\n",
    "    Trot_qc.append(ti_evolution, [Trot_qr[0], Trot_qr[1]])\n",
    "    Trot_qc.append(ti_evolution, [Trot_qr[1], Trot_qr[2]])\n",
    "    \n",
    "    # Convert custom quantum circuit into a gate\n",
    "    Trot_gate = Trot_qc.decompose()\n",
    "    Trot_gate = Trot_qc.to_instruction()\n",
    "    return Trot_qc"
   ]
  },
  {
   "cell_type": "code",
   "execution_count": 52,
   "metadata": {},
   "outputs": [],
   "source": [
    "def basic_trotter_circuit(trotter_gate_function, trotter_steps, num_qubits = 7, time = np.pi, terms = ['x1', 'y1', 'z1', 'x2', 'y2', 'z2'], operational_qubits = [0, 1, 2], qsd = False):\n",
    "    \"\"\" \n",
    "    Constructs Trotter Circuit for Jakarta machine by Repeating a given gate\n",
    "    Inputs: trotter_gate_function, function, returns QuantumCircuit instructions \n",
    "            trotter_steps, int\n",
    "            target_time, final simulation time, assumed = np.pi\n",
    "            terms, list of strings, indicating gate sequence\n",
    "    \n",
    "    Returns: QuantumRegister, QuantumCircuit \n",
    "    \"\"\"\n",
    "    q1, q2, q3 = operational_qubits\n",
    "        \n",
    "    # Initialize quantum circuit for n qubits\n",
    "    qr = QuantumRegister(num_qubits)\n",
    "    qc = QuantumCircuit(qr)\n",
    "    \n",
    "    # Simulate time evolution under H_heis3 Hamiltonian\n",
    "    for _ in range(trotter_steps):\n",
    "        qc.append(trotter_gate_function(terms = terms,time=time/trotter_steps, qsd = qsd), [qr[q1], qr[q2], qr[q3]])\n",
    "        \n",
    "    # Evaluate simulation at target_time (t=pi) meaning each trotter step evolves pi/trotter_steps in time\n",
    "    qc = qc.decompose()\n",
    "    \n",
    "    return qr, qc "
   ]
  },
  {
   "cell_type": "code",
   "execution_count": 53,
   "metadata": {},
   "outputs": [],
   "source": [
    "def second_order_trotter(trotter_steps, num_qubits = 7, time = np.pi, operational_qubits = [0, 1, 2],  qsd = False):\n",
    "    q1, q2, q3 = operational_qubits\n",
    "        \n",
    "    # Initialize quantum circuit for n qubits\n",
    "    qr = QuantumRegister(num_qubits)\n",
    "    qc = QuantumCircuit(qr)\n",
    "    \n",
    "    if trotter_steps == 1:\n",
    "        hot = ti_higher_order_trotter(order = 2, time = t, terms = None)\n",
    "        instr = hot(time = time, qsd = False)\n",
    "        qc.append(instr, [qr[q1], qr[q2], qr[q3]])\n",
    "        return qr, qc\n",
    "    \n",
    "    # basic gates\n",
    "    ttime = time / trotter_steps\n",
    "    ti_terms = ['x1', 'y1', 'z1']\n",
    "    ti_half_evolution = basic_trotter(ti_terms, ttime / 2, num_qubits = 2, qsd = qsd)\n",
    "    ti_evolution = basic_trotter(ti_terms, ttime, num_qubits = 2, qsd = qsd)\n",
    "     \n",
    "    # circuit assembly\n",
    "    qc.append(ti_half_evolution, [qr[q1], qr[q2]])\n",
    "\n",
    "    for _ in range(trotter_steps - 1):\n",
    "        qc.append(ti_evolution, [qr[q2], qr[q3]])\n",
    "        qc.append(ti_evolution, [qr[q1], qr[q2]])\n",
    "        \n",
    "    qc.append(ti_evolution, [qr[q2], qr[q3]])\n",
    "    qc.append(ti_half_evolution, [qr[q1], qr[q2]])\n",
    "    \n",
    "    return qr, qc   "
   ]
  },
  {
   "cell_type": "code",
   "execution_count": 27,
   "metadata": {},
   "outputs": [],
   "source": [
    "def ti_higher_order_trotter(order = 2, time = np.pi, terms = None):\n",
    "    def wrapper(terms = terms, time = time, qsd = False):\n",
    "        \n",
    "        num_qubits = 3\n",
    "        Trot_qr = QuantumRegister(num_qubits)\n",
    "        Trot_qc = QuantumCircuit(Trot_qr, name='Higher_Order_Trot')\n",
    "        ti_terms = ['x1', 'y1', 'z1']\n",
    "\n",
    "        coefficients = higher_trotter_coefficients(['1','2'], order, time)\n",
    "\n",
    "        for term, coefficient in coefficients:\n",
    "            i = int(term) - 1\n",
    "            ti_evolution = basic_trotter(ti_terms, time = coefficient, num_qubits = 2, qsd = qsd)\n",
    "            Trot_qc.append(ti_evolution, [Trot_qr[i], Trot_qr[i+1]])\n",
    "            \n",
    "        # Convert custom quantum circuit into a gate\n",
    "        Trot_gate = Trot_qc.to_instruction()\n",
    "        return Trot_gate\n",
    "    \n",
    "    return wrapper"
   ]
  },
  {
   "cell_type": "code",
   "execution_count": 26,
   "metadata": {},
   "outputs": [],
   "source": [
    "def higher_order_trotter(order = 2, time = np.pi, terms = ['x1', 'y1', 'z1', 'x2', 'y2', 'z2']):\n",
    "    '''\n",
    "    Generates higher order trotter gate function.\n",
    "    Inputs: order, int, order of higher order formula\n",
    "            time, float, time of simulation of this trotter step\n",
    "            random, boolean, random choice of term ordering?\n",
    "            terms, list of strings, indicating order of decomposition\n",
    "    Returns: Function, which returns QuantumCircuit instructions\n",
    "    '''\n",
    "    \n",
    "    def wrapper(terms = terms, time = time, qsd = False):\n",
    "\n",
    "        num_qubits = 3\n",
    "        Trot_qr = QuantumRegister(num_qubits)\n",
    "        Trot_qc = QuantumCircuit(Trot_qr, name='TI Higher_Order_Trot')\n",
    "\n",
    "        coefficients = higher_trotter_coefficients(terms, order, time)\n",
    "\n",
    "        for term, coefficient in coefficients:\n",
    "            j, i = term[0], int(term[1]) - 1\n",
    "            Trot_qc.append(QQ_gate(j, coefficient), [Trot_qr[i], Trot_qr[i+1]])\n",
    "            \n",
    "        # Convert custom quantum circuit into a gate\n",
    "        Trot_gate = Trot_qc.to_instruction()\n",
    "        return Trot_gate\n",
    "    \n",
    "    \n",
    "    return wrapper"
   ]
  },
  {
   "cell_type": "code",
   "execution_count": 23,
   "metadata": {},
   "outputs": [],
   "source": [
    "def higher_trotter_coefficients(terms, order, time):\n",
    "    \"\"\" \n",
    "    Recursively computes the order and the exponents of the higher order trotter decomposition\n",
    "    Implementation based on the paper The Theory of Trotter Error [need citation]\n",
    "    Inputs: terms, list of strings, indicating gate sequence\n",
    "            order, int, order of formula\n",
    "            time, float\n",
    "    Returns: list of tuples, (string, float)\n",
    "    \"\"\"\n",
    "    \n",
    "    coefficients = []\n",
    "    \n",
    "    if order == 1:\n",
    "        for term in terms:\n",
    "            coefficients.append((term, time))\n",
    "        return coefficients\n",
    "        \n",
    "    if order == 2:\n",
    "        for term in terms[:-1]:\n",
    "            coefficients.append((term, time/2))\n",
    "        \n",
    "        coefficients.append((terms[-1], time))\n",
    "        \n",
    "        for term in reversed(terms[:-1]):\n",
    "            coefficients.append((term, time/2))\n",
    "            \n",
    "        return coefficients\n",
    "    \n",
    "    u_order = 1/(4 - 4**(1/(order-1)))\n",
    "    \n",
    "    previous = higher_trotter_coefficients(terms, order - 2, u_order*time)\n",
    "    middle = higher_trotter_coefficients(terms, order - 2, (1 - 4*u_order)*time)\n",
    "    \n",
    "    coefficients = previous + previous + middle + previous + previous\n",
    "    \n",
    "    return hot_parse_coefficients(coefficients)\n",
    "    "
   ]
  },
  {
   "cell_type": "code",
   "execution_count": 24,
   "metadata": {},
   "outputs": [],
   "source": [
    "def hot_parse_coefficients(coefficients):\n",
    "    \n",
    "    new_c = []\n",
    "    current_term, current_coefficient = coefficients[0] \n",
    "     \n",
    "    for term, coef in coefficients[1:]:\n",
    "        if term != current_term:\n",
    "            new_c.append([current_term, current_coefficient])\n",
    "            current_term = term\n",
    "            current_coefficient = coef\n",
    "        else:\n",
    "            current_coefficient += coef\n",
    "            \n",
    "    new_c.append([current_term, current_coefficient])\n",
    "    return new_c\n",
    "    \n",
    "        "
   ]
  },
  {
   "cell_type": "code",
   "execution_count": 25,
   "metadata": {},
   "outputs": [],
   "source": [
    "def qsd_qc(t):\n",
    "    \n",
    "    time_evol = U_heis3(t).to_matrix()\n",
    "    circuit = gen_qsd(time_evol).decompose()\n",
    "    \n",
    "    return circuit.decompose().to_instruction()"
   ]
  },
  {
   "cell_type": "code",
   "execution_count": 149,
   "metadata": {},
   "outputs": [],
   "source": [
    "def single_layer(time, num_qubits, qsd = True):\n",
    "    \n",
    "    qr = QuantumRegister(num_qubits)\n",
    "    qc = QuantumCircuit(qr)\n",
    "    \n",
    "    ti_terms = ['x1', 'y1', 'z1']\n",
    "    ti_evolution = basic_trotter(ti_terms, time, num_qubits = 2, qsd = qsd, name = \"Brick\")\n",
    "    \n",
    "    # even terms\n",
    "    for i in range(0, num_qubits - 1, 2):\n",
    "        qc.append(ti_evolution, [i, i+1])\n",
    "        \n",
    "    # odd terms\n",
    "    for i in range(1, num_qubits - 1, 2):\n",
    "        qc.append(ti_evolution, [i, i+1])\n",
    "    \n",
    "    return qc"
   ]
  },
  {
   "cell_type": "code",
   "execution_count": 150,
   "metadata": {},
   "outputs": [],
   "source": [
    "def brickwork(time, num_qubits, trotter_steps = 1, qsd = True):\n",
    "    \n",
    "    qr = QuantumRegister(num_qubits)\n",
    "    qc = QuantumCircuit(qr)\n",
    "    \n",
    "    layer = single_layer(time/trotter_steps, num_qubits, qsd = qsd)\n",
    "    \n",
    "    for _ in range(trotter_steps):\n",
    "        qc.append(layer, qr)\n",
    "        \n",
    "    qc = qc.decompose()\n",
    "        \n",
    "    return qr, qc"
   ]
  },
  {
   "cell_type": "code",
   "execution_count": null,
   "metadata": {},
   "outputs": [],
   "source": []
  },
  {
   "cell_type": "code",
   "execution_count": null,
   "metadata": {},
   "outputs": [],
   "source": []
  },
  {
   "cell_type": "code",
   "execution_count": null,
   "metadata": {},
   "outputs": [],
   "source": []
  },
  {
   "cell_type": "code",
   "execution_count": null,
   "metadata": {},
   "outputs": [],
   "source": []
  },
  {
   "cell_type": "code",
   "execution_count": null,
   "metadata": {},
   "outputs": [],
   "source": []
  }
 ],
 "metadata": {
  "kernelspec": {
   "display_name": "Python 3",
   "language": "python",
   "name": "python3"
  },
  "language_info": {
   "codemirror_mode": {
    "name": "ipython",
    "version": 3
   },
   "file_extension": ".py",
   "mimetype": "text/x-python",
   "name": "python",
   "nbconvert_exporter": "python",
   "pygments_lexer": "ipython3",
   "version": "3.7.1"
  }
 },
 "nbformat": 4,
 "nbformat_minor": 2
}
